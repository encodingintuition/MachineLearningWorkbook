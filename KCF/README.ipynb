{
 "cells": [
  {
   "cell_type": "markdown",
   "metadata": {},
   "source": [
    "# KCF Web Analytics \n",
    "<hr/>"
   ]
  },
  {
   "cell_type": "code",
   "execution_count": null,
   "metadata": {},
   "outputs": [],
   "source": []
  },
  {
   "cell_type": "markdown",
   "metadata": {},
   "source": [
    "Time-series (line plot)\n",
    "- per day \n",
    "- per \n",
    "\n",
    "Acquisition\n",
    "- Sessions (n, percent )\n",
    "- New Session (percent )\n",
    "- New User (n, percent )\n",
    "\n",
    "Behavor\n",
    "- pageviews\n",
    "- Bounce Rate\n",
    "- Pages / Session\n",
    "- Avg. Session Duration \n",
    "\n",
    "Conversions\n",
    "- Conversion Rate  \n",
    "- Goal Completions \n",
    "- Goal Value \n"
   ]
  },
  {
   "cell_type": "code",
   "execution_count": null,
   "metadata": {},
   "outputs": [],
   "source": []
  },
  {
   "cell_type": "markdown",
   "metadata": {},
   "source": [
    "Main Questions:\n",
    "- How much viewing does KCF get.\n",
    "    - n per time\n",
    "        - year, mo, D, H, day of week, part of month, \n",
    "    - quality per time\n",
    "    - n per page (geographical within site architecture)\n",
    "    \n",
    "- What platforms \n",
    "    - moblie vs desktop \n",
    "    - what does this tell us?\n",
    "        - when people make time for KCF like FEELINGS -> activities\n",
    "- What social media feed the site / which pages on the site\n",
    "   - list of social \n",
    "   - sessions \n",
    "   "
   ]
  },
  {
   "cell_type": "code",
   "execution_count": null,
   "metadata": {},
   "outputs": [],
   "source": []
  },
  {
   "cell_type": "markdown",
   "metadata": {},
   "source": [
    "- What is the archetype of the individual who will achive your goal through their partisipation?"
   ]
  },
  {
   "cell_type": "code",
   "execution_count": null,
   "metadata": {},
   "outputs": [],
   "source": []
  },
  {
   "cell_type": "code",
   "execution_count": null,
   "metadata": {},
   "outputs": [],
   "source": [
    "A visual graph of the relationship between these variables "
   ]
  },
  {
   "cell_type": "markdown",
   "metadata": {},
   "source": [
    "#### Goals\n",
    "- Goal 1 \n",
    "    - Angel donation (fund us)\n",
    "- Goal 2 \n",
    "    - large private donation (fund us)\n",
    "- Goal 3 \n",
    "    - spead the word (share our vibe)"
   ]
  },
  {
   "cell_type": "markdown",
   "metadata": {},
   "source": [
    " "
   ]
  },
  {
   "cell_type": "markdown",
   "metadata": {},
   "source": [
    "This is a look at the anlytics for KCF "
   ]
  },
  {
   "cell_type": "markdown",
   "metadata": {},
   "source": [
    "Primary Dimension, Secondary Dimension\n",
    "\n"
   ]
  },
  {
   "cell_type": "markdown",
   "metadata": {},
   "source": [
    "Main - Dashboard \n",
    "- Pageviews website in total (vs page value) - Behavior\n",
    "- pageviews per page \n",
    "\n"
   ]
  },
  {
   "cell_type": "code",
   "execution_count": null,
   "metadata": {},
   "outputs": [],
   "source": []
  },
  {
   "cell_type": "code",
   "execution_count": null,
   "metadata": {},
   "outputs": [],
   "source": [
    "landing Page\n",
    "(bridge page)"
   ]
  }
 ],
 "metadata": {
  "kernelspec": {
   "display_name": "Python 3",
   "language": "python",
   "name": "python3"
  },
  "language_info": {
   "codemirror_mode": {
    "name": "ipython",
    "version": 3
   },
   "file_extension": ".py",
   "mimetype": "text/x-python",
   "name": "python",
   "nbconvert_exporter": "python",
   "pygments_lexer": "ipython3",
   "version": "3.8.2"
  }
 },
 "nbformat": 4,
 "nbformat_minor": 4
}
