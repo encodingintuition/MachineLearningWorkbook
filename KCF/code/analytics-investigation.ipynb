{
 "cells": [
  {
   "cell_type": "code",
   "execution_count": null,
   "metadata": {},
   "outputs": [],
   "source": [
    "# KCF"
   ]
  },
  {
   "cell_type": "code",
   "execution_count": 1,
   "metadata": {},
   "outputs": [],
   "source": [
    "import matplotlib.pyplot as plt\n",
    "import pandas as pd\n",
    "import numpy as np\n",
    "\n",
    "import seaborn as sns"
   ]
  },
  {
   "cell_type": "markdown",
   "metadata": {},
   "source": [
    "# Read In Data\n",
    "<hr/>"
   ]
  },
  {
   "cell_type": "markdown",
   "metadata": {},
   "source": [
    "     google dashboard Download\n",
    "     \n",
    "     'Full Report' ---- behavior, site content, all pages\n",
    "\n",
    "    "
   ]
  },
  {
   "cell_type": "code",
   "execution_count": 2,
   "metadata": {},
   "outputs": [
    {
     "data": {
      "text/html": [
       "<div>\n",
       "<style scoped>\n",
       "    .dataframe tbody tr th:only-of-type {\n",
       "        vertical-align: middle;\n",
       "    }\n",
       "\n",
       "    .dataframe tbody tr th {\n",
       "        vertical-align: top;\n",
       "    }\n",
       "\n",
       "    .dataframe thead th {\n",
       "        text-align: right;\n",
       "    }\n",
       "</style>\n",
       "<table border=\"1\" class=\"dataframe\">\n",
       "  <thead>\n",
       "    <tr style=\"text-align: right;\">\n",
       "      <th></th>\n",
       "      <th>All Web Site Data</th>\n",
       "    </tr>\n",
       "  </thead>\n",
       "  <tbody>\n",
       "    <tr>\n",
       "      <th>0</th>\n",
       "      <td>Pages</td>\n",
       "    </tr>\n",
       "    <tr>\n",
       "      <th>1</th>\n",
       "      <td>20200101-20210223</td>\n",
       "    </tr>\n",
       "    <tr>\n",
       "      <th>2</th>\n",
       "      <td>Links to data:</td>\n",
       "    </tr>\n",
       "    <tr>\n",
       "      <th>3</th>\n",
       "      <td>Dataset1</td>\n",
       "    </tr>\n",
       "    <tr>\n",
       "      <th>4</th>\n",
       "      <td>Dataset2</td>\n",
       "    </tr>\n",
       "  </tbody>\n",
       "</table>\n",
       "</div>"
      ],
      "text/plain": [
       "   All Web Site Data\n",
       "0              Pages\n",
       "1  20200101-20210223\n",
       "2     Links to data:\n",
       "3           Dataset1\n",
       "4           Dataset2"
      ]
     },
     "execution_count": 2,
     "metadata": {},
     "output_type": "execute_result"
    }
   ],
   "source": [
    "## excel doc sheet 0\n",
    "# data meta\n",
    "\n",
    "pd.read_excel('../data/Analytics All Web Site Data Pages 20200101-20210223.xlsx',sheet_name=0)"
   ]
  },
  {
   "cell_type": "code",
   "execution_count": 3,
   "metadata": {},
   "outputs": [
    {
     "name": "stdout",
     "output_type": "stream",
     "text": [
      "(11, 8)\n",
      "\n"
     ]
    },
    {
     "data": {
      "text/html": [
       "<div>\n",
       "<style scoped>\n",
       "    .dataframe tbody tr th:only-of-type {\n",
       "        vertical-align: middle;\n",
       "    }\n",
       "\n",
       "    .dataframe tbody tr th {\n",
       "        vertical-align: top;\n",
       "    }\n",
       "\n",
       "    .dataframe thead th {\n",
       "        text-align: right;\n",
       "    }\n",
       "</style>\n",
       "<table border=\"1\" class=\"dataframe\">\n",
       "  <thead>\n",
       "    <tr style=\"text-align: right;\">\n",
       "      <th></th>\n",
       "      <th>Page</th>\n",
       "      <th>Pageviews</th>\n",
       "      <th>Unique Pageviews</th>\n",
       "      <th>Avg. Time on Page</th>\n",
       "      <th>Entrances</th>\n",
       "      <th>Bounce Rate</th>\n",
       "      <th>% Exit</th>\n",
       "      <th>Page Value</th>\n",
       "    </tr>\n",
       "  </thead>\n",
       "  <tbody>\n",
       "    <tr>\n",
       "      <th>0</th>\n",
       "      <td>/</td>\n",
       "      <td>1171</td>\n",
       "      <td>1049</td>\n",
       "      <td>331.569444</td>\n",
       "      <td>1019</td>\n",
       "      <td>0.842002</td>\n",
       "      <td>0.815542</td>\n",
       "      <td>0</td>\n",
       "    </tr>\n",
       "    <tr>\n",
       "      <th>1</th>\n",
       "      <td>/walkforeducation</td>\n",
       "      <td>113</td>\n",
       "      <td>107</td>\n",
       "      <td>322.941176</td>\n",
       "      <td>64</td>\n",
       "      <td>0.968750</td>\n",
       "      <td>0.849558</td>\n",
       "      <td>0</td>\n",
       "    </tr>\n",
       "    <tr>\n",
       "      <th>2</th>\n",
       "      <td>/yoga-pops-fundraiser</td>\n",
       "      <td>58</td>\n",
       "      <td>50</td>\n",
       "      <td>221.545455</td>\n",
       "      <td>44</td>\n",
       "      <td>0.818182</td>\n",
       "      <td>0.810345</td>\n",
       "      <td>0</td>\n",
       "    </tr>\n",
       "    <tr>\n",
       "      <th>3</th>\n",
       "      <td>/2021-blankets-for-india</td>\n",
       "      <td>38</td>\n",
       "      <td>27</td>\n",
       "      <td>171.916667</td>\n",
       "      <td>26</td>\n",
       "      <td>0.692308</td>\n",
       "      <td>0.684211</td>\n",
       "      <td>0</td>\n",
       "    </tr>\n",
       "    <tr>\n",
       "      <th>4</th>\n",
       "      <td>/donate</td>\n",
       "      <td>37</td>\n",
       "      <td>37</td>\n",
       "      <td>98.750000</td>\n",
       "      <td>33</td>\n",
       "      <td>0.878788</td>\n",
       "      <td>0.891892</td>\n",
       "      <td>0</td>\n",
       "    </tr>\n",
       "  </tbody>\n",
       "</table>\n",
       "</div>"
      ],
      "text/plain": [
       "                       Page  Pageviews  Unique Pageviews  Avg. Time on Page  \\\n",
       "0                         /       1171              1049         331.569444   \n",
       "1         /walkforeducation        113               107         322.941176   \n",
       "2     /yoga-pops-fundraiser         58                50         221.545455   \n",
       "3  /2021-blankets-for-india         38                27         171.916667   \n",
       "4                   /donate         37                37          98.750000   \n",
       "\n",
       "   Entrances  Bounce Rate    % Exit  Page Value  \n",
       "0       1019     0.842002  0.815542           0  \n",
       "1         64     0.968750  0.849558           0  \n",
       "2         44     0.818182  0.810345           0  \n",
       "3         26     0.692308  0.684211           0  \n",
       "4         33     0.878788  0.891892           0  "
      ]
     },
     "execution_count": 3,
     "metadata": {},
     "output_type": "execute_result"
    }
   ],
   "source": [
    "## excel doc sheet 1\n",
    "# number of pageviews per page for total time frame\n",
    "\n",
    "pageviews_per_page_df = pd.read_excel(\n",
    "    '../data/Analytics All Web Site Data Pages 20200101-20210223.xlsx',sheet_name=1)\n",
    "print(pageviews_per_page_df.shape)\n",
    "print()\n",
    "pageviews_per_page_df.head()"
   ]
  },
  {
   "cell_type": "code",
   "execution_count": 4,
   "metadata": {},
   "outputs": [
    {
     "name": "stdout",
     "output_type": "stream",
     "text": [
      "(421, 2)\n",
      "\n"
     ]
    },
    {
     "data": {
      "text/html": [
       "<div>\n",
       "<style scoped>\n",
       "    .dataframe tbody tr th:only-of-type {\n",
       "        vertical-align: middle;\n",
       "    }\n",
       "\n",
       "    .dataframe tbody tr th {\n",
       "        vertical-align: top;\n",
       "    }\n",
       "\n",
       "    .dataframe thead th {\n",
       "        text-align: right;\n",
       "    }\n",
       "</style>\n",
       "<table border=\"1\" class=\"dataframe\">\n",
       "  <thead>\n",
       "    <tr style=\"text-align: right;\">\n",
       "      <th></th>\n",
       "      <th>Day Index</th>\n",
       "      <th>Pageviews</th>\n",
       "    </tr>\n",
       "  </thead>\n",
       "  <tbody>\n",
       "    <tr>\n",
       "      <th>0</th>\n",
       "      <td>2020-01-01</td>\n",
       "      <td>0</td>\n",
       "    </tr>\n",
       "    <tr>\n",
       "      <th>1</th>\n",
       "      <td>2020-01-02</td>\n",
       "      <td>0</td>\n",
       "    </tr>\n",
       "    <tr>\n",
       "      <th>2</th>\n",
       "      <td>2020-01-03</td>\n",
       "      <td>0</td>\n",
       "    </tr>\n",
       "    <tr>\n",
       "      <th>3</th>\n",
       "      <td>2020-01-04</td>\n",
       "      <td>0</td>\n",
       "    </tr>\n",
       "    <tr>\n",
       "      <th>4</th>\n",
       "      <td>2020-01-05</td>\n",
       "      <td>0</td>\n",
       "    </tr>\n",
       "  </tbody>\n",
       "</table>\n",
       "</div>"
      ],
      "text/plain": [
       "   Day Index  Pageviews\n",
       "0 2020-01-01          0\n",
       "1 2020-01-02          0\n",
       "2 2020-01-03          0\n",
       "3 2020-01-04          0\n",
       "4 2020-01-05          0"
      ]
     },
     "execution_count": 4,
     "metadata": {},
     "output_type": "execute_result"
    }
   ],
   "source": [
    "## excel doc sheet 2\n",
    "# number of pageviews per day (all pages)\n",
    "\n",
    "pageviews_perDay_df = pd.read_excel('../data/Analytics All Web Site Data Pages 20200101-20210223.xlsx',sheet_name=2)\n",
    "print(pageviews_perDay_df.shape)\n",
    "print()\n",
    "pageviews_perDay_df.head()"
   ]
  },
  {
   "cell_type": "code",
   "execution_count": 19,
   "metadata": {},
   "outputs": [
    {
     "data": {
      "text/html": [
       "<div>\n",
       "<style scoped>\n",
       "    .dataframe tbody tr th:only-of-type {\n",
       "        vertical-align: middle;\n",
       "    }\n",
       "\n",
       "    .dataframe tbody tr th {\n",
       "        vertical-align: top;\n",
       "    }\n",
       "\n",
       "    .dataframe thead th {\n",
       "        text-align: right;\n",
       "    }\n",
       "</style>\n",
       "<table border=\"1\" class=\"dataframe\">\n",
       "  <thead>\n",
       "    <tr style=\"text-align: right;\">\n",
       "      <th></th>\n",
       "      <th>Social Network</th>\n",
       "      <th>Users</th>\n",
       "      <th>New Users</th>\n",
       "      <th>Sessions</th>\n",
       "      <th>Bounce Rate</th>\n",
       "      <th>Pages / Session</th>\n",
       "      <th>Avg. Session Duration</th>\n",
       "      <th>Donate (Goal 1 Conversion Rate)</th>\n",
       "      <th>Donate (Goal 1 Completions)</th>\n",
       "      <th>Donate (Goal 1 Value)</th>\n",
       "    </tr>\n",
       "  </thead>\n",
       "  <tbody>\n",
       "    <tr>\n",
       "      <th>0</th>\n",
       "      <td>Facebook</td>\n",
       "      <td>278</td>\n",
       "      <td>267</td>\n",
       "      <td>353</td>\n",
       "      <td>0.881020</td>\n",
       "      <td>1.155807</td>\n",
       "      <td>26.580737</td>\n",
       "      <td>0</td>\n",
       "      <td>0</td>\n",
       "      <td>0</td>\n",
       "    </tr>\n",
       "    <tr>\n",
       "      <th>1</th>\n",
       "      <td>LinkedIn</td>\n",
       "      <td>6</td>\n",
       "      <td>4</td>\n",
       "      <td>8</td>\n",
       "      <td>1.000000</td>\n",
       "      <td>1.000000</td>\n",
       "      <td>0.000000</td>\n",
       "      <td>0</td>\n",
       "      <td>0</td>\n",
       "      <td>0</td>\n",
       "    </tr>\n",
       "    <tr>\n",
       "      <th>2</th>\n",
       "      <td>YouTube</td>\n",
       "      <td>2</td>\n",
       "      <td>2</td>\n",
       "      <td>2</td>\n",
       "      <td>0.500000</td>\n",
       "      <td>2.000000</td>\n",
       "      <td>163.000000</td>\n",
       "      <td>0</td>\n",
       "      <td>0</td>\n",
       "      <td>0</td>\n",
       "    </tr>\n",
       "    <tr>\n",
       "      <th>3</th>\n",
       "      <td>Twitter</td>\n",
       "      <td>1</td>\n",
       "      <td>1</td>\n",
       "      <td>1</td>\n",
       "      <td>0.000000</td>\n",
       "      <td>2.000000</td>\n",
       "      <td>279.000000</td>\n",
       "      <td>0</td>\n",
       "      <td>0</td>\n",
       "      <td>0</td>\n",
       "    </tr>\n",
       "    <tr>\n",
       "      <th>4</th>\n",
       "      <td>NaN</td>\n",
       "      <td>287</td>\n",
       "      <td>274</td>\n",
       "      <td>364</td>\n",
       "      <td>0.879121</td>\n",
       "      <td>1.159341</td>\n",
       "      <td>27.439560</td>\n",
       "      <td>0</td>\n",
       "      <td>0</td>\n",
       "      <td>0</td>\n",
       "    </tr>\n",
       "  </tbody>\n",
       "</table>\n",
       "</div>"
      ],
      "text/plain": [
       "  Social Network  Users  New Users  Sessions  Bounce Rate  Pages / Session  \\\n",
       "0       Facebook    278        267       353     0.881020         1.155807   \n",
       "1       LinkedIn      6          4         8     1.000000         1.000000   \n",
       "2        YouTube      2          2         2     0.500000         2.000000   \n",
       "3        Twitter      1          1         1     0.000000         2.000000   \n",
       "4            NaN    287        274       364     0.879121         1.159341   \n",
       "\n",
       "   Avg. Session Duration  Donate (Goal 1 Conversion Rate)  \\\n",
       "0              26.580737                                0   \n",
       "1               0.000000                                0   \n",
       "2             163.000000                                0   \n",
       "3             279.000000                                0   \n",
       "4              27.439560                                0   \n",
       "\n",
       "   Donate (Goal 1 Completions)  Donate (Goal 1 Value)  \n",
       "0                            0                      0  \n",
       "1                            0                      0  \n",
       "2                            0                      0  \n",
       "3                            0                      0  \n",
       "4                            0                      0  "
      ]
     },
     "execution_count": 19,
     "metadata": {},
     "output_type": "execute_result"
    }
   ],
   "source": [
    "social_df = pd.read_excel('../data/Analytics All Web Site Data Channels 20200721-20210223.xlsx',sheet_name=1)\n",
    "social_df "
   ]
  },
  {
   "cell_type": "markdown",
   "metadata": {},
   "source": [
    "# EDA\n",
    "<hr>"
   ]
  },
  {
   "cell_type": "code",
   "execution_count": null,
   "metadata": {},
   "outputs": [],
   "source": []
  },
  {
   "cell_type": "code",
   "execution_count": 220,
   "metadata": {},
   "outputs": [
    {
     "data": {
      "text/html": [
       "<div>\n",
       "<style scoped>\n",
       "    .dataframe tbody tr th:only-of-type {\n",
       "        vertical-align: middle;\n",
       "    }\n",
       "\n",
       "    .dataframe tbody tr th {\n",
       "        vertical-align: top;\n",
       "    }\n",
       "\n",
       "    .dataframe thead th {\n",
       "        text-align: right;\n",
       "    }\n",
       "</style>\n",
       "<table border=\"1\" class=\"dataframe\">\n",
       "  <thead>\n",
       "    <tr style=\"text-align: right;\">\n",
       "      <th></th>\n",
       "      <th>Pageviews</th>\n",
       "      <th>Unique Pageviews</th>\n",
       "      <th>Avg. Time on Page</th>\n",
       "      <th>Entrances</th>\n",
       "      <th>Bounce Rate</th>\n",
       "      <th>% Exit</th>\n",
       "      <th>Page Value</th>\n",
       "    </tr>\n",
       "    <tr>\n",
       "      <th>Page</th>\n",
       "      <th></th>\n",
       "      <th></th>\n",
       "      <th></th>\n",
       "      <th></th>\n",
       "      <th></th>\n",
       "      <th></th>\n",
       "      <th></th>\n",
       "    </tr>\n",
       "  </thead>\n",
       "  <tbody>\n",
       "    <tr>\n",
       "      <th>/</th>\n",
       "      <td>1171</td>\n",
       "      <td>1049</td>\n",
       "      <td>331.569444</td>\n",
       "      <td>1019</td>\n",
       "      <td>0.842002</td>\n",
       "      <td>0.815542</td>\n",
       "      <td>0</td>\n",
       "    </tr>\n",
       "    <tr>\n",
       "      <th>/walkforeducation</th>\n",
       "      <td>113</td>\n",
       "      <td>107</td>\n",
       "      <td>322.941176</td>\n",
       "      <td>64</td>\n",
       "      <td>0.968750</td>\n",
       "      <td>0.849558</td>\n",
       "      <td>0</td>\n",
       "    </tr>\n",
       "    <tr>\n",
       "      <th>/yoga-pops-fundraiser</th>\n",
       "      <td>58</td>\n",
       "      <td>50</td>\n",
       "      <td>221.545455</td>\n",
       "      <td>44</td>\n",
       "      <td>0.818182</td>\n",
       "      <td>0.810345</td>\n",
       "      <td>0</td>\n",
       "    </tr>\n",
       "    <tr>\n",
       "      <th>/2021-blankets-for-india</th>\n",
       "      <td>38</td>\n",
       "      <td>27</td>\n",
       "      <td>171.916667</td>\n",
       "      <td>26</td>\n",
       "      <td>0.692308</td>\n",
       "      <td>0.684211</td>\n",
       "      <td>0</td>\n",
       "    </tr>\n",
       "    <tr>\n",
       "      <th>/donate</th>\n",
       "      <td>37</td>\n",
       "      <td>37</td>\n",
       "      <td>98.750000</td>\n",
       "      <td>33</td>\n",
       "      <td>0.878788</td>\n",
       "      <td>0.891892</td>\n",
       "      <td>0</td>\n",
       "    </tr>\n",
       "    <tr>\n",
       "      <th>/about</th>\n",
       "      <td>29</td>\n",
       "      <td>29</td>\n",
       "      <td>122.500000</td>\n",
       "      <td>25</td>\n",
       "      <td>0.920000</td>\n",
       "      <td>0.931034</td>\n",
       "      <td>0</td>\n",
       "    </tr>\n",
       "    <tr>\n",
       "      <th>/angelpatron</th>\n",
       "      <td>21</td>\n",
       "      <td>20</td>\n",
       "      <td>123.500000</td>\n",
       "      <td>19</td>\n",
       "      <td>0.894737</td>\n",
       "      <td>0.904762</td>\n",
       "      <td>0</td>\n",
       "    </tr>\n",
       "    <tr>\n",
       "      <th>/volunteerwithus</th>\n",
       "      <td>16</td>\n",
       "      <td>15</td>\n",
       "      <td>117.500000</td>\n",
       "      <td>13</td>\n",
       "      <td>0.846154</td>\n",
       "      <td>0.875000</td>\n",
       "      <td>0</td>\n",
       "    </tr>\n",
       "    <tr>\n",
       "      <th>/sponsorships</th>\n",
       "      <td>15</td>\n",
       "      <td>15</td>\n",
       "      <td>158.000000</td>\n",
       "      <td>10</td>\n",
       "      <td>0.900000</td>\n",
       "      <td>0.933333</td>\n",
       "      <td>0</td>\n",
       "    </tr>\n",
       "    <tr>\n",
       "      <th>/?requestedBy=screenshoter&amp;suppressbi=true</th>\n",
       "      <td>14</td>\n",
       "      <td>14</td>\n",
       "      <td>0.000000</td>\n",
       "      <td>14</td>\n",
       "      <td>1.000000</td>\n",
       "      <td>1.000000</td>\n",
       "      <td>0</td>\n",
       "    </tr>\n",
       "    <tr>\n",
       "      <th>Total</th>\n",
       "      <td>1968</td>\n",
       "      <td>1791</td>\n",
       "      <td>295.112805</td>\n",
       "      <td>1640</td>\n",
       "      <td>0.861585</td>\n",
       "      <td>0.833333</td>\n",
       "      <td>0</td>\n",
       "    </tr>\n",
       "  </tbody>\n",
       "</table>\n",
       "</div>"
      ],
      "text/plain": [
       "                                            Pageviews  Unique Pageviews  \\\n",
       "Page                                                                      \n",
       "/                                                1171              1049   \n",
       "/walkforeducation                                 113               107   \n",
       "/yoga-pops-fundraiser                              58                50   \n",
       "/2021-blankets-for-india                           38                27   \n",
       "/donate                                            37                37   \n",
       "/about                                             29                29   \n",
       "/angelpatron                                       21                20   \n",
       "/volunteerwithus                                   16                15   \n",
       "/sponsorships                                      15                15   \n",
       "/?requestedBy=screenshoter&suppressbi=true         14                14   \n",
       "Total                                            1968              1791   \n",
       "\n",
       "                                            Avg. Time on Page  Entrances  \\\n",
       "Page                                                                       \n",
       "/                                                  331.569444       1019   \n",
       "/walkforeducation                                  322.941176         64   \n",
       "/yoga-pops-fundraiser                              221.545455         44   \n",
       "/2021-blankets-for-india                           171.916667         26   \n",
       "/donate                                             98.750000         33   \n",
       "/about                                             122.500000         25   \n",
       "/angelpatron                                       123.500000         19   \n",
       "/volunteerwithus                                   117.500000         13   \n",
       "/sponsorships                                      158.000000         10   \n",
       "/?requestedBy=screenshoter&suppressbi=true           0.000000         14   \n",
       "Total                                              295.112805       1640   \n",
       "\n",
       "                                            Bounce Rate    % Exit  Page Value  \n",
       "Page                                                                           \n",
       "/                                              0.842002  0.815542           0  \n",
       "/walkforeducation                              0.968750  0.849558           0  \n",
       "/yoga-pops-fundraiser                          0.818182  0.810345           0  \n",
       "/2021-blankets-for-india                       0.692308  0.684211           0  \n",
       "/donate                                        0.878788  0.891892           0  \n",
       "/about                                         0.920000  0.931034           0  \n",
       "/angelpatron                                   0.894737  0.904762           0  \n",
       "/volunteerwithus                               0.846154  0.875000           0  \n",
       "/sponsorships                                  0.900000  0.933333           0  \n",
       "/?requestedBy=screenshoter&suppressbi=true     1.000000  1.000000           0  \n",
       "Total                                          0.861585  0.833333           0  "
      ]
     },
     "execution_count": 220,
     "metadata": {},
     "output_type": "execute_result"
    }
   ],
   "source": [
    "pageviews_per_page_df"
   ]
  },
  {
   "cell_type": "code",
   "execution_count": 182,
   "metadata": {},
   "outputs": [],
   "source": [
    "\"\"\" \"\"\"\n",
    "\n",
    "def cleanup(df, column_number):\n",
    "    c = 0\n",
    "    # create column of pages\n",
    "    column = df.iloc[:,column_number]\n",
    "    \n",
    "    # loop in column (c as counter)\n",
    "    for page_name in column:\n",
    "        \n",
    "        # check for int, float (nan's type == float)\n",
    "        if type(page_name) == type('str'):\n",
    "            \n",
    "            # create blank list\n",
    "            clean_name = []\n",
    "            \n",
    "            # nested loop \n",
    "            for m in page_name:\n",
    "                # Meat & Potatos\n",
    "                #\n",
    "                if (m == '/'):            # What is best practices for this if / else \n",
    "                    m = m  \n",
    "                else:\n",
    "                    if m == '-':\n",
    "                        clean_name.append(' ')\n",
    "                    else: \n",
    "                        clean_name.append(m)\n",
    "                        \n",
    "        # \n",
    "        #''.join(clean_name)\n",
    "        df.iloc[c,column_number] = ''.join(clean_name)\n",
    "        print(df.iloc[c,column_number])\n",
    "        c += 1\n",
    "    \n",
    "    return "
   ]
  },
  {
   "cell_type": "code",
   "execution_count": 181,
   "metadata": {},
   "outputs": [
    {
     "name": "stdout",
     "output_type": "stream",
     "text": [
      "/\n",
      "/walkforeducation\n",
      "/yoga-pops-fundraiser\n",
      "/2021-blankets-for-india\n",
      "/donate\n",
      "/about\n",
      "/angelpatron\n",
      "/volunteerwithus\n",
      "/sponsorships\n",
      "/?requestedBy=screenshoter&suppressbi=true\n",
      "nan\n"
     ]
    }
   ],
   "source": [
    "cleanup(pageviews_per_page_df, 0)"
   ]
  },
  {
   "cell_type": "code",
   "execution_count": 183,
   "metadata": {},
   "outputs": [
    {
     "name": "stdout",
     "output_type": "stream",
     "text": [
      "/yoga-pops-fundraiser\n",
      "<class 'str'>\n",
      "yoga pops fundraiser\n"
     ]
    },
    {
     "data": {
      "text/plain": [
       "True"
      ]
     },
     "execution_count": 183,
     "metadata": {},
     "output_type": "execute_result"
    }
   ],
   "source": [
    "# clean up page name \n",
    "\n",
    "x  =  pageviews_per_page_df.iloc[2,0]\n",
    "\n",
    "# if x is str (try exclude)\n",
    "\n",
    "# x ==  strings, No floats No integers (nans are floats)\n",
    "\n",
    "\n",
    "print(x)\n",
    "print(type(x))\n",
    "#print(len(x))\n",
    "page = []\n",
    "for m in x:\n",
    "    \n",
    "    # Nested if loops \n",
    "    if m == '/':            # What is best practices for this if / else \n",
    "        m = m  \n",
    "    else:\n",
    "        if m == '-':\n",
    "            page.append(' ')\n",
    "        else: \n",
    "            page.append(m)\n",
    "            \n",
    "#print(page)\n",
    "\n",
    "print(''.join(page))\n",
    "\n",
    "# loop through each varable to check char, and replace if needed \n",
    "\n",
    "(type(x) == type('str'))"
   ]
  },
  {
   "cell_type": "code",
   "execution_count": 239,
   "metadata": {},
   "outputs": [
    {
     "data": {
      "text/html": [
       "<div>\n",
       "<style scoped>\n",
       "    .dataframe tbody tr th:only-of-type {\n",
       "        vertical-align: middle;\n",
       "    }\n",
       "\n",
       "    .dataframe tbody tr th {\n",
       "        vertical-align: top;\n",
       "    }\n",
       "\n",
       "    .dataframe thead th {\n",
       "        text-align: right;\n",
       "    }\n",
       "</style>\n",
       "<table border=\"1\" class=\"dataframe\">\n",
       "  <thead>\n",
       "    <tr style=\"text-align: right;\">\n",
       "      <th></th>\n",
       "      <th>Pageviews</th>\n",
       "      <th>Unique Pageviews</th>\n",
       "      <th>Avg. Time on Page</th>\n",
       "      <th>Entrances</th>\n",
       "      <th>Bounce Rate</th>\n",
       "      <th>% Exit</th>\n",
       "      <th>Page Value</th>\n",
       "    </tr>\n",
       "    <tr>\n",
       "      <th>Page</th>\n",
       "      <th></th>\n",
       "      <th></th>\n",
       "      <th></th>\n",
       "      <th></th>\n",
       "      <th></th>\n",
       "      <th></th>\n",
       "      <th></th>\n",
       "    </tr>\n",
       "  </thead>\n",
       "  <tbody>\n",
       "    <tr>\n",
       "      <th>/</th>\n",
       "      <td>1171</td>\n",
       "      <td>1049</td>\n",
       "      <td>331.569444</td>\n",
       "      <td>1019</td>\n",
       "      <td>0.842002</td>\n",
       "      <td>0.815542</td>\n",
       "      <td>0</td>\n",
       "    </tr>\n",
       "    <tr>\n",
       "      <th>/walkforeducation</th>\n",
       "      <td>113</td>\n",
       "      <td>107</td>\n",
       "      <td>322.941176</td>\n",
       "      <td>64</td>\n",
       "      <td>0.968750</td>\n",
       "      <td>0.849558</td>\n",
       "      <td>0</td>\n",
       "    </tr>\n",
       "    <tr>\n",
       "      <th>/yoga-pops-fundraiser</th>\n",
       "      <td>58</td>\n",
       "      <td>50</td>\n",
       "      <td>221.545455</td>\n",
       "      <td>44</td>\n",
       "      <td>0.818182</td>\n",
       "      <td>0.810345</td>\n",
       "      <td>0</td>\n",
       "    </tr>\n",
       "    <tr>\n",
       "      <th>/2021-blankets-for-india</th>\n",
       "      <td>38</td>\n",
       "      <td>27</td>\n",
       "      <td>171.916667</td>\n",
       "      <td>26</td>\n",
       "      <td>0.692308</td>\n",
       "      <td>0.684211</td>\n",
       "      <td>0</td>\n",
       "    </tr>\n",
       "    <tr>\n",
       "      <th>/donate</th>\n",
       "      <td>37</td>\n",
       "      <td>37</td>\n",
       "      <td>98.750000</td>\n",
       "      <td>33</td>\n",
       "      <td>0.878788</td>\n",
       "      <td>0.891892</td>\n",
       "      <td>0</td>\n",
       "    </tr>\n",
       "    <tr>\n",
       "      <th>/about</th>\n",
       "      <td>29</td>\n",
       "      <td>29</td>\n",
       "      <td>122.500000</td>\n",
       "      <td>25</td>\n",
       "      <td>0.920000</td>\n",
       "      <td>0.931034</td>\n",
       "      <td>0</td>\n",
       "    </tr>\n",
       "    <tr>\n",
       "      <th>/angelpatron</th>\n",
       "      <td>21</td>\n",
       "      <td>20</td>\n",
       "      <td>123.500000</td>\n",
       "      <td>19</td>\n",
       "      <td>0.894737</td>\n",
       "      <td>0.904762</td>\n",
       "      <td>0</td>\n",
       "    </tr>\n",
       "    <tr>\n",
       "      <th>/volunteerwithus</th>\n",
       "      <td>16</td>\n",
       "      <td>15</td>\n",
       "      <td>117.500000</td>\n",
       "      <td>13</td>\n",
       "      <td>0.846154</td>\n",
       "      <td>0.875000</td>\n",
       "      <td>0</td>\n",
       "    </tr>\n",
       "    <tr>\n",
       "      <th>/sponsorships</th>\n",
       "      <td>15</td>\n",
       "      <td>15</td>\n",
       "      <td>158.000000</td>\n",
       "      <td>10</td>\n",
       "      <td>0.900000</td>\n",
       "      <td>0.933333</td>\n",
       "      <td>0</td>\n",
       "    </tr>\n",
       "    <tr>\n",
       "      <th>/?requestedBy=screenshoter&amp;suppressbi=true</th>\n",
       "      <td>14</td>\n",
       "      <td>14</td>\n",
       "      <td>0.000000</td>\n",
       "      <td>14</td>\n",
       "      <td>1.000000</td>\n",
       "      <td>1.000000</td>\n",
       "      <td>0</td>\n",
       "    </tr>\n",
       "  </tbody>\n",
       "</table>\n",
       "</div>"
      ],
      "text/plain": [
       "                                           Pageviews  Unique Pageviews  \\\n",
       "Page                                                                     \n",
       "/                                               1171              1049   \n",
       "/walkforeducation                                113               107   \n",
       "/yoga-pops-fundraiser                             58                50   \n",
       "/2021-blankets-for-india                          38                27   \n",
       "/donate                                           37                37   \n",
       "/about                                            29                29   \n",
       "/angelpatron                                      21                20   \n",
       "/volunteerwithus                                  16                15   \n",
       "/sponsorships                                     15                15   \n",
       "/?requestedBy=screenshoter&suppressbi=true        14                14   \n",
       "\n",
       "                                            Avg. Time on Page  Entrances  \\\n",
       "Page                                                                       \n",
       "/                                                  331.569444       1019   \n",
       "/walkforeducation                                  322.941176         64   \n",
       "/yoga-pops-fundraiser                              221.545455         44   \n",
       "/2021-blankets-for-india                           171.916667         26   \n",
       "/donate                                             98.750000         33   \n",
       "/about                                             122.500000         25   \n",
       "/angelpatron                                       123.500000         19   \n",
       "/volunteerwithus                                   117.500000         13   \n",
       "/sponsorships                                      158.000000         10   \n",
       "/?requestedBy=screenshoter&suppressbi=true           0.000000         14   \n",
       "\n",
       "                                            Bounce Rate    % Exit  Page Value  \n",
       "Page                                                                           \n",
       "/                                              0.842002  0.815542           0  \n",
       "/walkforeducation                              0.968750  0.849558           0  \n",
       "/yoga-pops-fundraiser                          0.818182  0.810345           0  \n",
       "/2021-blankets-for-india                       0.692308  0.684211           0  \n",
       "/donate                                        0.878788  0.891892           0  \n",
       "/about                                         0.920000  0.931034           0  \n",
       "/angelpatron                                   0.894737  0.904762           0  \n",
       "/volunteerwithus                               0.846154  0.875000           0  \n",
       "/sponsorships                                  0.900000  0.933333           0  \n",
       "/?requestedBy=screenshoter&suppressbi=true     1.000000  1.000000           0  "
      ]
     },
     "execution_count": 239,
     "metadata": {},
     "output_type": "execute_result"
    }
   ],
   "source": [
    "# turns nan to total \n",
    "\n",
    "pageviews_per_page_df.iloc[-1,0] = \"Total\"\n",
    "pageviews_per_page_df = pageviews_per_page_df.set_index('Page')\n",
    "pageviews_per_page_df.drop(index = 'Total', inplace = True)"
   ]
  },
  {
   "cell_type": "code",
   "execution_count": 240,
   "metadata": {},
   "outputs": [
    {
     "data": {
      "text/html": [
       "<div>\n",
       "<style scoped>\n",
       "    .dataframe tbody tr th:only-of-type {\n",
       "        vertical-align: middle;\n",
       "    }\n",
       "\n",
       "    .dataframe tbody tr th {\n",
       "        vertical-align: top;\n",
       "    }\n",
       "\n",
       "    .dataframe thead th {\n",
       "        text-align: right;\n",
       "    }\n",
       "</style>\n",
       "<table border=\"1\" class=\"dataframe\">\n",
       "  <thead>\n",
       "    <tr style=\"text-align: right;\">\n",
       "      <th></th>\n",
       "      <th>Pageviews</th>\n",
       "      <th>Unique Pageviews</th>\n",
       "      <th>Avg. Time on Page</th>\n",
       "      <th>Entrances</th>\n",
       "      <th>Bounce Rate</th>\n",
       "      <th>% Exit</th>\n",
       "      <th>Page Value</th>\n",
       "    </tr>\n",
       "    <tr>\n",
       "      <th>Page</th>\n",
       "      <th></th>\n",
       "      <th></th>\n",
       "      <th></th>\n",
       "      <th></th>\n",
       "      <th></th>\n",
       "      <th></th>\n",
       "      <th></th>\n",
       "    </tr>\n",
       "  </thead>\n",
       "  <tbody>\n",
       "    <tr>\n",
       "      <th>/</th>\n",
       "      <td>1171</td>\n",
       "      <td>1049</td>\n",
       "      <td>331.569444</td>\n",
       "      <td>1019</td>\n",
       "      <td>0.842002</td>\n",
       "      <td>0.815542</td>\n",
       "      <td>0</td>\n",
       "    </tr>\n",
       "    <tr>\n",
       "      <th>/walkforeducation</th>\n",
       "      <td>113</td>\n",
       "      <td>107</td>\n",
       "      <td>322.941176</td>\n",
       "      <td>64</td>\n",
       "      <td>0.968750</td>\n",
       "      <td>0.849558</td>\n",
       "      <td>0</td>\n",
       "    </tr>\n",
       "    <tr>\n",
       "      <th>/yoga-pops-fundraiser</th>\n",
       "      <td>58</td>\n",
       "      <td>50</td>\n",
       "      <td>221.545455</td>\n",
       "      <td>44</td>\n",
       "      <td>0.818182</td>\n",
       "      <td>0.810345</td>\n",
       "      <td>0</td>\n",
       "    </tr>\n",
       "    <tr>\n",
       "      <th>/2021-blankets-for-india</th>\n",
       "      <td>38</td>\n",
       "      <td>27</td>\n",
       "      <td>171.916667</td>\n",
       "      <td>26</td>\n",
       "      <td>0.692308</td>\n",
       "      <td>0.684211</td>\n",
       "      <td>0</td>\n",
       "    </tr>\n",
       "    <tr>\n",
       "      <th>/donate</th>\n",
       "      <td>37</td>\n",
       "      <td>37</td>\n",
       "      <td>98.750000</td>\n",
       "      <td>33</td>\n",
       "      <td>0.878788</td>\n",
       "      <td>0.891892</td>\n",
       "      <td>0</td>\n",
       "    </tr>\n",
       "    <tr>\n",
       "      <th>/about</th>\n",
       "      <td>29</td>\n",
       "      <td>29</td>\n",
       "      <td>122.500000</td>\n",
       "      <td>25</td>\n",
       "      <td>0.920000</td>\n",
       "      <td>0.931034</td>\n",
       "      <td>0</td>\n",
       "    </tr>\n",
       "    <tr>\n",
       "      <th>/angelpatron</th>\n",
       "      <td>21</td>\n",
       "      <td>20</td>\n",
       "      <td>123.500000</td>\n",
       "      <td>19</td>\n",
       "      <td>0.894737</td>\n",
       "      <td>0.904762</td>\n",
       "      <td>0</td>\n",
       "    </tr>\n",
       "    <tr>\n",
       "      <th>/volunteerwithus</th>\n",
       "      <td>16</td>\n",
       "      <td>15</td>\n",
       "      <td>117.500000</td>\n",
       "      <td>13</td>\n",
       "      <td>0.846154</td>\n",
       "      <td>0.875000</td>\n",
       "      <td>0</td>\n",
       "    </tr>\n",
       "    <tr>\n",
       "      <th>/sponsorships</th>\n",
       "      <td>15</td>\n",
       "      <td>15</td>\n",
       "      <td>158.000000</td>\n",
       "      <td>10</td>\n",
       "      <td>0.900000</td>\n",
       "      <td>0.933333</td>\n",
       "      <td>0</td>\n",
       "    </tr>\n",
       "    <tr>\n",
       "      <th>/?requestedBy=screenshoter&amp;suppressbi=true</th>\n",
       "      <td>14</td>\n",
       "      <td>14</td>\n",
       "      <td>0.000000</td>\n",
       "      <td>14</td>\n",
       "      <td>1.000000</td>\n",
       "      <td>1.000000</td>\n",
       "      <td>0</td>\n",
       "    </tr>\n",
       "    <tr>\n",
       "      <th>Total</th>\n",
       "      <td>Total</td>\n",
       "      <td>1791</td>\n",
       "      <td>295.112805</td>\n",
       "      <td>1640</td>\n",
       "      <td>0.861585</td>\n",
       "      <td>0.833333</td>\n",
       "      <td>0</td>\n",
       "    </tr>\n",
       "  </tbody>\n",
       "</table>\n",
       "</div>"
      ],
      "text/plain": [
       "                                           Pageviews  Unique Pageviews  \\\n",
       "Page                                                                     \n",
       "/                                               1171              1049   \n",
       "/walkforeducation                                113               107   \n",
       "/yoga-pops-fundraiser                             58                50   \n",
       "/2021-blankets-for-india                          38                27   \n",
       "/donate                                           37                37   \n",
       "/about                                            29                29   \n",
       "/angelpatron                                      21                20   \n",
       "/volunteerwithus                                  16                15   \n",
       "/sponsorships                                     15                15   \n",
       "/?requestedBy=screenshoter&suppressbi=true        14                14   \n",
       "Total                                          Total              1791   \n",
       "\n",
       "                                            Avg. Time on Page  Entrances  \\\n",
       "Page                                                                       \n",
       "/                                                  331.569444       1019   \n",
       "/walkforeducation                                  322.941176         64   \n",
       "/yoga-pops-fundraiser                              221.545455         44   \n",
       "/2021-blankets-for-india                           171.916667         26   \n",
       "/donate                                             98.750000         33   \n",
       "/about                                             122.500000         25   \n",
       "/angelpatron                                       123.500000         19   \n",
       "/volunteerwithus                                   117.500000         13   \n",
       "/sponsorships                                      158.000000         10   \n",
       "/?requestedBy=screenshoter&suppressbi=true           0.000000         14   \n",
       "Total                                              295.112805       1640   \n",
       "\n",
       "                                            Bounce Rate    % Exit  Page Value  \n",
       "Page                                                                           \n",
       "/                                              0.842002  0.815542           0  \n",
       "/walkforeducation                              0.968750  0.849558           0  \n",
       "/yoga-pops-fundraiser                          0.818182  0.810345           0  \n",
       "/2021-blankets-for-india                       0.692308  0.684211           0  \n",
       "/donate                                        0.878788  0.891892           0  \n",
       "/about                                         0.920000  0.931034           0  \n",
       "/angelpatron                                   0.894737  0.904762           0  \n",
       "/volunteerwithus                               0.846154  0.875000           0  \n",
       "/sponsorships                                  0.900000  0.933333           0  \n",
       "/?requestedBy=screenshoter&suppressbi=true     1.000000  1.000000           0  \n",
       "Total                                          0.861585  0.833333           0  "
      ]
     },
     "execution_count": 240,
     "metadata": {},
     "output_type": "execute_result"
    }
   ],
   "source": [
    "pageviews_per_page_df"
   ]
  },
  {
   "cell_type": "code",
   "execution_count": 241,
   "metadata": {},
   "outputs": [],
   "source": [
    "# Does not flatten when set index used \n",
    "    #columns.get_level_values(0)\n",
    "    #columns.to_flat_index()\n",
    "\n",
    "#pageviews_per_page_df.columns = pageviews_per_page_df.columns.to_flat_index()\n",
    "\n"
   ]
  },
  {
   "cell_type": "code",
   "execution_count": 246,
   "metadata": {},
   "outputs": [
    {
     "data": {
      "image/png": "[encoded data removed]",
      "text/plain": [
       "<Figure size 792x792 with 6 Axes>"
      ]
     },
     "metadata": {
      "needs_background": "light"
     },
     "output_type": "display_data"
    }
   ],
   "source": [
    "# distrobution of numbers \n",
    "\n",
    "pageviews_per_page_df.hist(figsize = (11,11));"
   ]
  },
  {
   "cell_type": "code",
   "execution_count": 252,
   "metadata": {},
   "outputs": [
    {
     "data": {
      "text/html": [
       "<div>\n",
       "<style scoped>\n",
       "    .dataframe tbody tr th:only-of-type {\n",
       "        vertical-align: middle;\n",
       "    }\n",
       "\n",
       "    .dataframe tbody tr th {\n",
       "        vertical-align: top;\n",
       "    }\n",
       "\n",
       "    .dataframe thead th {\n",
       "        text-align: right;\n",
       "    }\n",
       "</style>\n",
       "<table border=\"1\" class=\"dataframe\">\n",
       "  <thead>\n",
       "    <tr style=\"text-align: right;\">\n",
       "      <th></th>\n",
       "      <th>Unique Pageviews</th>\n",
       "      <th>Avg. Time on Page</th>\n",
       "      <th>Entrances</th>\n",
       "      <th>Bounce Rate</th>\n",
       "      <th>% Exit</th>\n",
       "      <th>Page Value</th>\n",
       "    </tr>\n",
       "  </thead>\n",
       "  <tbody>\n",
       "    <tr>\n",
       "      <th>count</th>\n",
       "      <td>11.000000</td>\n",
       "      <td>11.000000</td>\n",
       "      <td>11.000000</td>\n",
       "      <td>11.000000</td>\n",
       "      <td>11.000000</td>\n",
       "      <td>11.0</td>\n",
       "    </tr>\n",
       "    <tr>\n",
       "      <th>mean</th>\n",
       "      <td>286.727273</td>\n",
       "      <td>178.485050</td>\n",
       "      <td>264.272727</td>\n",
       "      <td>0.874773</td>\n",
       "      <td>0.866274</td>\n",
       "      <td>0.0</td>\n",
       "    </tr>\n",
       "    <tr>\n",
       "      <th>std</th>\n",
       "      <td>584.951125</td>\n",
       "      <td>104.073467</td>\n",
       "      <td>544.882389</td>\n",
       "      <td>0.081347</td>\n",
       "      <td>0.083067</td>\n",
       "      <td>0.0</td>\n",
       "    </tr>\n",
       "    <tr>\n",
       "      <th>min</th>\n",
       "      <td>14.000000</td>\n",
       "      <td>0.000000</td>\n",
       "      <td>10.000000</td>\n",
       "      <td>0.692308</td>\n",
       "      <td>0.684211</td>\n",
       "      <td>0.0</td>\n",
       "    </tr>\n",
       "    <tr>\n",
       "      <th>25%</th>\n",
       "      <td>17.500000</td>\n",
       "      <td>120.000000</td>\n",
       "      <td>16.500000</td>\n",
       "      <td>0.844078</td>\n",
       "      <td>0.824438</td>\n",
       "      <td>0.0</td>\n",
       "    </tr>\n",
       "    <tr>\n",
       "      <th>50%</th>\n",
       "      <td>29.000000</td>\n",
       "      <td>158.000000</td>\n",
       "      <td>26.000000</td>\n",
       "      <td>0.878788</td>\n",
       "      <td>0.875000</td>\n",
       "      <td>0.0</td>\n",
       "    </tr>\n",
       "    <tr>\n",
       "      <th>75%</th>\n",
       "      <td>78.500000</td>\n",
       "      <td>258.329130</td>\n",
       "      <td>54.000000</td>\n",
       "      <td>0.910000</td>\n",
       "      <td>0.917898</td>\n",
       "      <td>0.0</td>\n",
       "    </tr>\n",
       "    <tr>\n",
       "      <th>max</th>\n",
       "      <td>1791.000000</td>\n",
       "      <td>331.569444</td>\n",
       "      <td>1640.000000</td>\n",
       "      <td>1.000000</td>\n",
       "      <td>1.000000</td>\n",
       "      <td>0.0</td>\n",
       "    </tr>\n",
       "  </tbody>\n",
       "</table>\n",
       "</div>"
      ],
      "text/plain": [
       "       Unique Pageviews  Avg. Time on Page    Entrances  Bounce Rate  \\\n",
       "count         11.000000          11.000000    11.000000    11.000000   \n",
       "mean         286.727273         178.485050   264.272727     0.874773   \n",
       "std          584.951125         104.073467   544.882389     0.081347   \n",
       "min           14.000000           0.000000    10.000000     0.692308   \n",
       "25%           17.500000         120.000000    16.500000     0.844078   \n",
       "50%           29.000000         158.000000    26.000000     0.878788   \n",
       "75%           78.500000         258.329130    54.000000     0.910000   \n",
       "max         1791.000000         331.569444  1640.000000     1.000000   \n",
       "\n",
       "          % Exit  Page Value  \n",
       "count  11.000000        11.0  \n",
       "mean    0.866274         0.0  \n",
       "std     0.083067         0.0  \n",
       "min     0.684211         0.0  \n",
       "25%     0.824438         0.0  \n",
       "50%     0.875000         0.0  \n",
       "75%     0.917898         0.0  \n",
       "max     1.000000         0.0  "
      ]
     },
     "execution_count": 252,
     "metadata": {},
     "output_type": "execute_result"
    }
   ],
   "source": [
    "# Describe\n",
    "\n",
    "pageviews_per_page_df.describe()"
   ]
  },
  {
   "cell_type": "code",
   "execution_count": null,
   "metadata": {},
   "outputs": [],
   "source": [
    "#Bounce Rate\n",
    "\n",
    "pageviews_per_page_df['Bounce Rate'].mean()  "
   ]
  },
  {
   "cell_type": "code",
   "execution_count": 260,
   "metadata": {},
   "outputs": [
    {
     "data": {
      "image/png": "[encoded data removed]",
      "text/plain": [
       "<Figure size 792x792 with 1 Axes>"
      ]
     },
     "metadata": {
      "needs_background": "light"
     },
     "output_type": "display_data"
    }
   ],
   "source": [
    "#Bounce Rate\n",
    "\n",
    "pageviews_per_page_df[ pageviews_per_page_df['']].boxplot(figsize = (11,11));"
   ]
  },
  {
   "cell_type": "code",
   "execution_count": 267,
   "metadata": {},
   "outputs": [
    {
     "data": {
      "image/png": "[encoded data removed]",
      "text/plain": [
       "<Figure size 792x792 with 1 Axes>"
      ]
     },
     "metadata": {
      "needs_background": "light"
     },
     "output_type": "display_data"
    }
   ],
   "source": [
    "pageviews_per_page_df.boxplot(figsize = (11,11));"
   ]
  },
  {
   "cell_type": "code",
   "execution_count": 281,
   "metadata": {},
   "outputs": [
    {
     "data": {
      "image/png": "[encoded data removed]",
      "text/plain": [
       "<Figure size 432x288 with 1 Axes>"
      ]
     },
     "metadata": {
      "needs_background": "light"
     },
     "output_type": "display_data"
    }
   ],
   "source": [
    "# of all pages mentioned, average time on page\n",
    "\n",
    "sns.boxplot(data = pageviews_per_page_df, x = ('Avg. Time on Page'));"
   ]
  },
  {
   "cell_type": "code",
   "execution_count": 282,
   "metadata": {},
   "outputs": [
    {
     "data": {
      "image/png": "[encoded data removed]",
      "text/plain": [
       "<Figure size 432x288 with 1 Axes>"
      ]
     },
     "metadata": {
      "needs_background": "light"
     },
     "output_type": "display_data"
    }
   ],
   "source": [
    "sns.boxplot(data = pageviews_per_page_df, x = ('Entrances'));"
   ]
  },
  {
   "cell_type": "code",
   "execution_count": 285,
   "metadata": {},
   "outputs": [
    {
     "data": {
      "image/png": "[encoded data removed]",
      "text/plain": [
       "<Figure size 432x288 with 1 Axes>"
      ]
     },
     "metadata": {
      "needs_background": "light"
     },
     "output_type": "display_data"
    }
   ],
   "source": [
    "sns.boxplot(data = pageviews_per_page_df, x = ('Unique Pageviews'));"
   ]
  },
  {
   "cell_type": "code",
   "execution_count": 286,
   "metadata": {},
   "outputs": [
    {
     "ename": "AttributeError",
     "evalue": "module 'seaborn' has no attribute 'hist'",
     "output_type": "error",
     "traceback": [
      "\u001b[0;31m---------------------------------------------------------------------------\u001b[0m",
      "\u001b[0;31mAttributeError\u001b[0m                            Traceback (most recent call last)",
      "\u001b[0;32m<ipython-input-286-c6dd78b64ade>\u001b[0m in \u001b[0;36m<module>\u001b[0;34m\u001b[0m\n\u001b[0;32m----> 1\u001b[0;31m \u001b[0msns\u001b[0m\u001b[0;34m.\u001b[0m\u001b[0mhist\u001b[0m\u001b[0;34m(\u001b[0m\u001b[0;34m)\u001b[0m\u001b[0;34m\u001b[0m\u001b[0;34m\u001b[0m\u001b[0m\n\u001b[0m",
      "\u001b[0;31mAttributeError\u001b[0m: module 'seaborn' has no attribute 'hist'"
     ]
    }
   ],
   "source": [
    "sns.hist()"
   ]
  },
  {
   "cell_type": "code",
   "execution_count": 288,
   "metadata": {},
   "outputs": [
    {
     "ename": "TypeError",
     "evalue": "distplot() got an unexpected keyword argument 'data'",
     "output_type": "error",
     "traceback": [
      "\u001b[0;31m---------------------------------------------------------------------------\u001b[0m",
      "\u001b[0;31mTypeError\u001b[0m                                 Traceback (most recent call last)",
      "\u001b[0;32m<ipython-input-288-5795a0d6a60a>\u001b[0m in \u001b[0;36m<module>\u001b[0;34m\u001b[0m\n\u001b[0;32m----> 1\u001b[0;31m \u001b[0msns\u001b[0m\u001b[0;34m.\u001b[0m\u001b[0mdistplot\u001b[0m\u001b[0;34m(\u001b[0m\u001b[0mdata\u001b[0m \u001b[0;34m=\u001b[0m \u001b[0mpageviews_per_page_df\u001b[0m\u001b[0;34m)\u001b[0m\u001b[0;34m\u001b[0m\u001b[0;34m\u001b[0m\u001b[0m\n\u001b[0m",
      "\u001b[0;31mTypeError\u001b[0m: distplot() got an unexpected keyword argument 'data'"
     ]
    }
   ],
   "source": [
    "sns.distplot(pageviews_per_page_df)"
   ]
  },
  {
   "cell_type": "code",
   "execution_count": 291,
   "metadata": {},
   "outputs": [
    {
     "data": {
      "text/plain": [
       "<matplotlib.axes._subplots.AxesSubplot at 0x7fdc5116b910>"
      ]
     },
     "execution_count": 291,
     "metadata": {},
     "output_type": "execute_result"
    },
    {
     "data": {
      "image/png": "[encoded data removed]",
      "text/plain": [
       "<Figure size 432x288 with 1 Axes>"
      ]
     },
     "metadata": {
      "needs_background": "light"
     },
     "output_type": "display_data"
    }
   ],
   "source": [
    "sns.histplot(data = pageviews_per_page_df, x = 'Avg. Time on Page')"
   ]
  },
  {
   "cell_type": "markdown",
   "metadata": {},
   "source": [
    "# pageviews_perDay_df"
   ]
  },
  {
   "cell_type": "code",
   "execution_count": 301,
   "metadata": {},
   "outputs": [
    {
     "data": {
      "text/html": [
       "<div>\n",
       "<style scoped>\n",
       "    .dataframe tbody tr th:only-of-type {\n",
       "        vertical-align: middle;\n",
       "    }\n",
       "\n",
       "    .dataframe tbody tr th {\n",
       "        vertical-align: top;\n",
       "    }\n",
       "\n",
       "    .dataframe thead th {\n",
       "        text-align: right;\n",
       "    }\n",
       "</style>\n",
       "<table border=\"1\" class=\"dataframe\">\n",
       "  <thead>\n",
       "    <tr style=\"text-align: right;\">\n",
       "      <th></th>\n",
       "      <th>Pageviews</th>\n",
       "    </tr>\n",
       "    <tr>\n",
       "      <th>Day Index</th>\n",
       "      <th></th>\n",
       "    </tr>\n",
       "  </thead>\n",
       "  <tbody>\n",
       "    <tr>\n",
       "      <th>2020-01-01</th>\n",
       "      <td>0</td>\n",
       "    </tr>\n",
       "    <tr>\n",
       "      <th>2020-01-02</th>\n",
       "      <td>0</td>\n",
       "    </tr>\n",
       "  </tbody>\n",
       "</table>\n",
       "</div>"
      ],
      "text/plain": [
       "            Pageviews\n",
       "Day Index            \n",
       "2020-01-01          0\n",
       "2020-01-02          0"
      ]
     },
     "execution_count": 301,
     "metadata": {},
     "output_type": "execute_result"
    }
   ],
   "source": [
    "pageviews_perDay_df.head(2)"
   ]
  },
  {
   "cell_type": "code",
   "execution_count": 299,
   "metadata": {},
   "outputs": [],
   "source": [
    "# set 'day index' as datetime\n",
    "\n",
    "pageviews_perDay_df['Day Index'] = pd.to_datetime(pageviews_perDay_df['Day Index'])\n",
    "\n",
    "# set index\n",
    "pageviews_perDay_df = pageviews_perDay_df.set_index('Day Index')\n",
    "pageviews_perDay_df,head()"
   ]
  },
  {
   "cell_type": "code",
   "execution_count": 306,
   "metadata": {},
   "outputs": [
    {
     "data": {
      "image/png": "[encoded data removed]",
      "text/plain": [
       "<Figure size 432x288 with 1 Axes>"
      ]
     },
     "metadata": {
      "needs_background": "light"
     },
     "output_type": "display_data"
    }
   ],
   "source": [
    "# pageviews\n",
    "\n",
    "sns.lineplot(data = pageviews_perDay_df);"
   ]
  },
  {
   "cell_type": "code",
   "execution_count": 318,
   "metadata": {},
   "outputs": [
    {
     "data": {
      "image/png": "[encoded data removed]",
      "text/plain": [
       "<Figure size 432x288 with 1 Axes>"
      ]
     },
     "metadata": {
      "needs_background": "light"
     },
     "output_type": "display_data"
    },
    {
     "data": {
      "image/png": "[encoded data removed]",
      "text/plain": [
       "<Figure size 432x288 with 1 Axes>"
      ]
     },
     "metadata": {
      "needs_background": "light"
     },
     "output_type": "display_data"
    }
   ],
   "source": [
    "# page views by year \n",
    "\n",
    "pageviews_perDay_df.groupby(pageviews_perDay_df.index.year).plot();"
   ]
  },
  {
   "cell_type": "code",
   "execution_count": 327,
   "metadata": {},
   "outputs": [
    {
     "data": {
      "text/plain": [
       "<matplotlib.axes._subplots.AxesSubplot at 0x7fdc53cc3f10>"
      ]
     },
     "execution_count": 327,
     "metadata": {},
     "output_type": "execute_result"
    },
    {
     "data": {
      "image/png": "[encoded data removed]",
      "text/plain": [
       "<Figure size 432x288 with 1 Axes>"
      ]
     },
     "metadata": {
      "needs_background": "light"
     },
     "output_type": "display_data"
    }
   ],
   "source": [
    "# inspection of start of analytics\n",
    "\n",
    "pageviews_perDay_df['2020-7-19':'2020-8-1'].plot()"
   ]
  },
  {
   "cell_type": "code",
   "execution_count": 330,
   "metadata": {},
   "outputs": [],
   "source": [
    "# remove dates before Google Analitics was activated \n",
    "\n",
    "pageviews_perDay_df = pageviews_perDay_df['2020-7-21':'2022-1-1']"
   ]
  },
  {
   "cell_type": "code",
   "execution_count": 331,
   "metadata": {},
   "outputs": [
    {
     "data": {
      "text/plain": [
       "<matplotlib.axes._subplots.AxesSubplot at 0x7fdc53c67d60>"
      ]
     },
     "execution_count": 331,
     "metadata": {},
     "output_type": "execute_result"
    },
    {
     "data": {
      "image/png": "[encoded data removed]",
      "text/plain": [
       "<Figure size 432x288 with 1 Axes>"
      ]
     },
     "metadata": {
      "needs_background": "light"
     },
     "output_type": "display_data"
    }
   ],
   "source": [
    "pageviews_perDay_df.plot()"
   ]
  },
  {
   "cell_type": "code",
   "execution_count": null,
   "metadata": {},
   "outputs": [],
   "source": []
  },
  {
   "cell_type": "code",
   "execution_count": 336,
   "metadata": {},
   "outputs": [
    {
     "data": {
      "image/png": "[encoded data removed]",
      "text/plain": [
       "<Figure size 1080x792 with 1 Axes>"
      ]
     },
     "metadata": {
      "needs_background": "light"
     },
     "output_type": "display_data"
    }
   ],
   "source": [
    "# lineplot of pageviews \n",
    "plt.figure(figsize = (15,11))\n",
    "sns.lineplot(data = pageviews_perDay_df);"
   ]
  },
  {
   "cell_type": "code",
   "execution_count": null,
   "metadata": {},
   "outputs": [],
   "source": [
    "# social_df "
   ]
  },
  {
   "cell_type": "code",
   "execution_count": 29,
   "metadata": {
    "collapsed": true,
    "jupyter": {
     "outputs_hidden": true
    }
   },
   "outputs": [
    {
     "ename": "KeyError",
     "evalue": "'[4] not found in axis'",
     "output_type": "error",
     "traceback": [
      "\u001b[0;31m---------------------------------------------------------------------------\u001b[0m",
      "\u001b[0;31mKeyError\u001b[0m                                  Traceback (most recent call last)",
      "\u001b[0;32m<ipython-input-29-26df935f1009>\u001b[0m in \u001b[0;36m<module>\u001b[0;34m\u001b[0m\n\u001b[0;32m----> 1\u001b[0;31m \u001b[0msocial_df\u001b[0m\u001b[0;34m.\u001b[0m\u001b[0mdrop\u001b[0m\u001b[0;34m(\u001b[0m\u001b[0;36m4\u001b[0m\u001b[0;34m,\u001b[0m \u001b[0maxis\u001b[0m \u001b[0;34m=\u001b[0m \u001b[0;36m0\u001b[0m\u001b[0;34m,\u001b[0m \u001b[0minplace\u001b[0m \u001b[0;34m=\u001b[0m \u001b[0;32mTrue\u001b[0m\u001b[0;34m)\u001b[0m\u001b[0;34m\u001b[0m\u001b[0;34m\u001b[0m\u001b[0m\n\u001b[0m\u001b[1;32m      2\u001b[0m \u001b[0msocial_df\u001b[0m\u001b[0;34m\u001b[0m\u001b[0;34m\u001b[0m\u001b[0m\n",
      "\u001b[0;32m~/opt/anaconda3/lib/python3.8/site-packages/pandas/core/frame.py\u001b[0m in \u001b[0;36mdrop\u001b[0;34m(self, labels, axis, index, columns, level, inplace, errors)\u001b[0m\n\u001b[1;32m   3988\u001b[0m                 \u001b[0mweight\u001b[0m  \u001b[0;36m1.0\u001b[0m     \u001b[0;36m0.8\u001b[0m\u001b[0;34m\u001b[0m\u001b[0;34m\u001b[0m\u001b[0m\n\u001b[1;32m   3989\u001b[0m         \"\"\"\n\u001b[0;32m-> 3990\u001b[0;31m         return super().drop(\n\u001b[0m\u001b[1;32m   3991\u001b[0m             \u001b[0mlabels\u001b[0m\u001b[0;34m=\u001b[0m\u001b[0mlabels\u001b[0m\u001b[0;34m,\u001b[0m\u001b[0;34m\u001b[0m\u001b[0;34m\u001b[0m\u001b[0m\n\u001b[1;32m   3992\u001b[0m             \u001b[0maxis\u001b[0m\u001b[0;34m=\u001b[0m\u001b[0maxis\u001b[0m\u001b[0;34m,\u001b[0m\u001b[0;34m\u001b[0m\u001b[0;34m\u001b[0m\u001b[0m\n",
      "\u001b[0;32m~/opt/anaconda3/lib/python3.8/site-packages/pandas/core/generic.py\u001b[0m in \u001b[0;36mdrop\u001b[0;34m(self, labels, axis, index, columns, level, inplace, errors)\u001b[0m\n\u001b[1;32m   3934\u001b[0m         \u001b[0;32mfor\u001b[0m \u001b[0maxis\u001b[0m\u001b[0;34m,\u001b[0m \u001b[0mlabels\u001b[0m \u001b[0;32min\u001b[0m \u001b[0maxes\u001b[0m\u001b[0;34m.\u001b[0m\u001b[0mitems\u001b[0m\u001b[0;34m(\u001b[0m\u001b[0;34m)\u001b[0m\u001b[0;34m:\u001b[0m\u001b[0;34m\u001b[0m\u001b[0;34m\u001b[0m\u001b[0m\n\u001b[1;32m   3935\u001b[0m             \u001b[0;32mif\u001b[0m \u001b[0mlabels\u001b[0m \u001b[0;32mis\u001b[0m \u001b[0;32mnot\u001b[0m \u001b[0;32mNone\u001b[0m\u001b[0;34m:\u001b[0m\u001b[0;34m\u001b[0m\u001b[0;34m\u001b[0m\u001b[0m\n\u001b[0;32m-> 3936\u001b[0;31m                 \u001b[0mobj\u001b[0m \u001b[0;34m=\u001b[0m \u001b[0mobj\u001b[0m\u001b[0;34m.\u001b[0m\u001b[0m_drop_axis\u001b[0m\u001b[0;34m(\u001b[0m\u001b[0mlabels\u001b[0m\u001b[0;34m,\u001b[0m \u001b[0maxis\u001b[0m\u001b[0;34m,\u001b[0m \u001b[0mlevel\u001b[0m\u001b[0;34m=\u001b[0m\u001b[0mlevel\u001b[0m\u001b[0;34m,\u001b[0m \u001b[0merrors\u001b[0m\u001b[0;34m=\u001b[0m\u001b[0merrors\u001b[0m\u001b[0;34m)\u001b[0m\u001b[0;34m\u001b[0m\u001b[0;34m\u001b[0m\u001b[0m\n\u001b[0m\u001b[1;32m   3937\u001b[0m \u001b[0;34m\u001b[0m\u001b[0m\n\u001b[1;32m   3938\u001b[0m         \u001b[0;32mif\u001b[0m \u001b[0minplace\u001b[0m\u001b[0;34m:\u001b[0m\u001b[0;34m\u001b[0m\u001b[0;34m\u001b[0m\u001b[0m\n",
      "\u001b[0;32m~/opt/anaconda3/lib/python3.8/site-packages/pandas/core/generic.py\u001b[0m in \u001b[0;36m_drop_axis\u001b[0;34m(self, labels, axis, level, errors)\u001b[0m\n\u001b[1;32m   3968\u001b[0m                 \u001b[0mnew_axis\u001b[0m \u001b[0;34m=\u001b[0m \u001b[0maxis\u001b[0m\u001b[0;34m.\u001b[0m\u001b[0mdrop\u001b[0m\u001b[0;34m(\u001b[0m\u001b[0mlabels\u001b[0m\u001b[0;34m,\u001b[0m \u001b[0mlevel\u001b[0m\u001b[0;34m=\u001b[0m\u001b[0mlevel\u001b[0m\u001b[0;34m,\u001b[0m \u001b[0merrors\u001b[0m\u001b[0;34m=\u001b[0m\u001b[0merrors\u001b[0m\u001b[0;34m)\u001b[0m\u001b[0;34m\u001b[0m\u001b[0;34m\u001b[0m\u001b[0m\n\u001b[1;32m   3969\u001b[0m             \u001b[0;32melse\u001b[0m\u001b[0;34m:\u001b[0m\u001b[0;34m\u001b[0m\u001b[0;34m\u001b[0m\u001b[0m\n\u001b[0;32m-> 3970\u001b[0;31m                 \u001b[0mnew_axis\u001b[0m \u001b[0;34m=\u001b[0m \u001b[0maxis\u001b[0m\u001b[0;34m.\u001b[0m\u001b[0mdrop\u001b[0m\u001b[0;34m(\u001b[0m\u001b[0mlabels\u001b[0m\u001b[0;34m,\u001b[0m \u001b[0merrors\u001b[0m\u001b[0;34m=\u001b[0m\u001b[0merrors\u001b[0m\u001b[0;34m)\u001b[0m\u001b[0;34m\u001b[0m\u001b[0;34m\u001b[0m\u001b[0m\n\u001b[0m\u001b[1;32m   3971\u001b[0m             \u001b[0mresult\u001b[0m \u001b[0;34m=\u001b[0m \u001b[0mself\u001b[0m\u001b[0;34m.\u001b[0m\u001b[0mreindex\u001b[0m\u001b[0;34m(\u001b[0m\u001b[0;34m**\u001b[0m\u001b[0;34m{\u001b[0m\u001b[0maxis_name\u001b[0m\u001b[0;34m:\u001b[0m \u001b[0mnew_axis\u001b[0m\u001b[0;34m}\u001b[0m\u001b[0;34m)\u001b[0m\u001b[0;34m\u001b[0m\u001b[0;34m\u001b[0m\u001b[0m\n\u001b[1;32m   3972\u001b[0m \u001b[0;34m\u001b[0m\u001b[0m\n",
      "\u001b[0;32m~/opt/anaconda3/lib/python3.8/site-packages/pandas/core/indexes/base.py\u001b[0m in \u001b[0;36mdrop\u001b[0;34m(self, labels, errors)\u001b[0m\n\u001b[1;32m   5016\u001b[0m         \u001b[0;32mif\u001b[0m \u001b[0mmask\u001b[0m\u001b[0;34m.\u001b[0m\u001b[0many\u001b[0m\u001b[0;34m(\u001b[0m\u001b[0;34m)\u001b[0m\u001b[0;34m:\u001b[0m\u001b[0;34m\u001b[0m\u001b[0;34m\u001b[0m\u001b[0m\n\u001b[1;32m   5017\u001b[0m             \u001b[0;32mif\u001b[0m \u001b[0merrors\u001b[0m \u001b[0;34m!=\u001b[0m \u001b[0;34m\"ignore\"\u001b[0m\u001b[0;34m:\u001b[0m\u001b[0;34m\u001b[0m\u001b[0;34m\u001b[0m\u001b[0m\n\u001b[0;32m-> 5018\u001b[0;31m                 \u001b[0;32mraise\u001b[0m \u001b[0mKeyError\u001b[0m\u001b[0;34m(\u001b[0m\u001b[0;34mf\"{labels[mask]} not found in axis\"\u001b[0m\u001b[0;34m)\u001b[0m\u001b[0;34m\u001b[0m\u001b[0;34m\u001b[0m\u001b[0m\n\u001b[0m\u001b[1;32m   5019\u001b[0m             \u001b[0mindexer\u001b[0m \u001b[0;34m=\u001b[0m \u001b[0mindexer\u001b[0m\u001b[0;34m[\u001b[0m\u001b[0;34m~\u001b[0m\u001b[0mmask\u001b[0m\u001b[0;34m]\u001b[0m\u001b[0;34m\u001b[0m\u001b[0;34m\u001b[0m\u001b[0m\n\u001b[1;32m   5020\u001b[0m         \u001b[0;32mreturn\u001b[0m \u001b[0mself\u001b[0m\u001b[0;34m.\u001b[0m\u001b[0mdelete\u001b[0m\u001b[0;34m(\u001b[0m\u001b[0mindexer\u001b[0m\u001b[0;34m)\u001b[0m\u001b[0;34m\u001b[0m\u001b[0;34m\u001b[0m\u001b[0m\n",
      "\u001b[0;31mKeyError\u001b[0m: '[4] not found in axis'"
     ]
    }
   ],
   "source": [
    "social_df.drop(4, axis = 0, inplace = True) \n",
    "social_df"
   ]
  },
  {
   "cell_type": "code",
   "execution_count": 30,
   "metadata": {},
   "outputs": [
    {
     "data": {
      "text/html": [
       "<div>\n",
       "<style scoped>\n",
       "    .dataframe tbody tr th:only-of-type {\n",
       "        vertical-align: middle;\n",
       "    }\n",
       "\n",
       "    .dataframe tbody tr th {\n",
       "        vertical-align: top;\n",
       "    }\n",
       "\n",
       "    .dataframe thead th {\n",
       "        text-align: right;\n",
       "    }\n",
       "</style>\n",
       "<table border=\"1\" class=\"dataframe\">\n",
       "  <thead>\n",
       "    <tr style=\"text-align: right;\">\n",
       "      <th></th>\n",
       "      <th>Social Network</th>\n",
       "      <th>Users</th>\n",
       "      <th>New Users</th>\n",
       "      <th>Sessions</th>\n",
       "      <th>Bounce Rate</th>\n",
       "      <th>Pages / Session</th>\n",
       "      <th>Avg. Session Duration</th>\n",
       "      <th>Donate (Goal 1 Conversion Rate)</th>\n",
       "      <th>Donate (Goal 1 Completions)</th>\n",
       "      <th>Donate (Goal 1 Value)</th>\n",
       "    </tr>\n",
       "  </thead>\n",
       "  <tbody>\n",
       "    <tr>\n",
       "      <th>0</th>\n",
       "      <td>Facebook</td>\n",
       "      <td>278</td>\n",
       "      <td>267</td>\n",
       "      <td>353</td>\n",
       "      <td>0.88102</td>\n",
       "      <td>1.155807</td>\n",
       "      <td>26.580737</td>\n",
       "      <td>0</td>\n",
       "      <td>0</td>\n",
       "      <td>0</td>\n",
       "    </tr>\n",
       "    <tr>\n",
       "      <th>1</th>\n",
       "      <td>LinkedIn</td>\n",
       "      <td>6</td>\n",
       "      <td>4</td>\n",
       "      <td>8</td>\n",
       "      <td>1.00000</td>\n",
       "      <td>1.000000</td>\n",
       "      <td>0.000000</td>\n",
       "      <td>0</td>\n",
       "      <td>0</td>\n",
       "      <td>0</td>\n",
       "    </tr>\n",
       "    <tr>\n",
       "      <th>2</th>\n",
       "      <td>YouTube</td>\n",
       "      <td>2</td>\n",
       "      <td>2</td>\n",
       "      <td>2</td>\n",
       "      <td>0.50000</td>\n",
       "      <td>2.000000</td>\n",
       "      <td>163.000000</td>\n",
       "      <td>0</td>\n",
       "      <td>0</td>\n",
       "      <td>0</td>\n",
       "    </tr>\n",
       "    <tr>\n",
       "      <th>3</th>\n",
       "      <td>Twitter</td>\n",
       "      <td>1</td>\n",
       "      <td>1</td>\n",
       "      <td>1</td>\n",
       "      <td>0.00000</td>\n",
       "      <td>2.000000</td>\n",
       "      <td>279.000000</td>\n",
       "      <td>0</td>\n",
       "      <td>0</td>\n",
       "      <td>0</td>\n",
       "    </tr>\n",
       "  </tbody>\n",
       "</table>\n",
       "</div>"
      ],
      "text/plain": [
       "  Social Network  Users  New Users  Sessions  Bounce Rate  Pages / Session  \\\n",
       "0       Facebook    278        267       353      0.88102         1.155807   \n",
       "1       LinkedIn      6          4         8      1.00000         1.000000   \n",
       "2        YouTube      2          2         2      0.50000         2.000000   \n",
       "3        Twitter      1          1         1      0.00000         2.000000   \n",
       "\n",
       "   Avg. Session Duration  Donate (Goal 1 Conversion Rate)  \\\n",
       "0              26.580737                                0   \n",
       "1               0.000000                                0   \n",
       "2             163.000000                                0   \n",
       "3             279.000000                                0   \n",
       "\n",
       "   Donate (Goal 1 Completions)  Donate (Goal 1 Value)  \n",
       "0                            0                      0  \n",
       "1                            0                      0  \n",
       "2                            0                      0  \n",
       "3                            0                      0  "
      ]
     },
     "execution_count": 30,
     "metadata": {},
     "output_type": "execute_result"
    }
   ],
   "source": [
    "social_df\n"
   ]
  },
  {
   "cell_type": "code",
   "execution_count": null,
   "metadata": {},
   "outputs": [],
   "source": [
    " youtube and twitter -  had muhc longer avg session time -\n",
    "    maybe due to "
   ]
  }
 ],
 "metadata": {
  "kernelspec": {
   "display_name": "Python 3",
   "language": "python",
   "name": "python3"
  },
  "language_info": {
   "codemirror_mode": {
    "name": "ipython",
    "version": 3
   },
   "file_extension": ".py",
   "mimetype": "text/x-python",
   "name": "python",
   "nbconvert_exporter": "python",
   "pygments_lexer": "ipython3",
   "version": "3.8.2"
  }
 },
 "nbformat": 4,
 "nbformat_minor": 4
}
