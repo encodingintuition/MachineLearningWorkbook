{
 "cells": [
  {
   "cell_type": "code",
   "execution_count": null,
   "metadata": {},
   "outputs": [],
   "source": [
    "SELECT STREAM , SUM(amt) OVER w\n",
    "FROM sales\n",
    "WINDOW w AS (PARTITION BY store_id\n",
    "ORDER BY s.ROWTIME\n",
    "RANGE BETWEEN INTERVAL '1' HOUR PRECEDING AND CURRENT ROW);"
   ]
  },
  {
   "cell_type": "code",
   "execution_count": null,
   "metadata": {},
   "outputs": [],
   "source": [
    "Select t2.Date from Table t1\n",
    "\n",
    "INNER JOIN table t2 on\n",
    "\n",
    "t2.ID=t1.ID+1\n",
    "\n",
    "where t2.Temperature <t1.Temperature;"
   ]
  }
 ],
 "metadata": {
  "kernelspec": {
   "display_name": "Python 3",
   "language": "python",
   "name": "python3"
  },
  "language_info": {
   "codemirror_mode": {
    "name": "ipython",
    "version": 3
   },
   "file_extension": ".py",
   "mimetype": "text/x-python",
   "name": "python",
   "nbconvert_exporter": "python",
   "pygments_lexer": "ipython3",
   "version": "3.8.2"
  }
 },
 "nbformat": 4,
 "nbformat_minor": 4
}
