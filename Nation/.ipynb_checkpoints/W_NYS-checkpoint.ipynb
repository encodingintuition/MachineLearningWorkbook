{
 "cells": [
  {
   "cell_type": "markdown",
   "metadata": {},
   "source": [
    "# Water New York State \n",
    "<hr/>\n",
    "Seeing through the perspective of Native Americans "
   ]
  },
  {
   "cell_type": "code",
   "execution_count": null,
   "metadata": {},
   "outputs": [],
   "source": []
  },
  {
   "cell_type": "code",
   "execution_count": null,
   "metadata": {},
   "outputs": [],
   "source": []
  },
  {
   "cell_type": "markdown",
   "metadata": {},
   "source": [
    "Geographic areas:\n",
    "- Nations \n",
    "- bodies of water\n",
    "- water sheds "
   ]
  },
  {
   "cell_type": "markdown",
   "metadata": {},
   "source": [
    "Issues With Water:\n",
    "- lake onondaga \n",
    "- injecting the earth with fraking gas - PA / NY border \n",
    "\n",
    "- canada, pipe line  "
   ]
  },
  {
   "cell_type": "markdown",
   "metadata": {},
   "source": [
    "notes:\n",
    "- dumping wast water from negboring towns \n",
    "- nuclear power plant"
   ]
  }
 ],
 "metadata": {
  "kernelspec": {
   "display_name": "Python 3",
   "language": "python",
   "name": "python3"
  },
  "language_info": {
   "codemirror_mode": {
    "name": "ipython",
    "version": 3
   },
   "file_extension": ".py",
   "mimetype": "text/x-python",
   "name": "python",
   "nbconvert_exporter": "python",
   "pygments_lexer": "ipython3",
   "version": "3.8.2"
  }
 },
 "nbformat": 4,
 "nbformat_minor": 4
}
