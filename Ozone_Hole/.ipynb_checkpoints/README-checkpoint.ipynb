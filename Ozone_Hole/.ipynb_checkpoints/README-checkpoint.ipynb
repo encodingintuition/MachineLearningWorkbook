{
 "cells": [
  {
   "cell_type": "markdown",
   "metadata": {},
   "source": [
    "# Ozone Hole Data Journey\n",
    "<hr/>\n",
    "Data idea from -  https://tthrowbackthurs.github.io/, Posted by David Velleca on January 2, 2020   \n",
    "\n",
    "Data source  - https://ozonewatch.gsfc.nasa.gov"
   ]
  },
  {
   "cell_type": "markdown",
   "metadata": {},
   "source": [
    "\n",
    "\n",
    "# Content:\n",
    "- [Questions](#Questions:)\n",
    "- [History](#History:)"
   ]
  },
  {
   "cell_type": "markdown",
   "metadata": {},
   "source": [
    "# Questions:\n",
    "<hr/>\n",
    "\n",
    "#### Why do I find this information intersting?\n",
    "- Can I see three other perspectives of why this information is intersting that is the oppisite of my own.  \n",
    "<br>\n",
    "\n",
    "\n",
    "#### What can I learn from this information (how is this information teaching me)?  \n",
    "- straight line anwer \n",
    "- inverse answer \n",
    "\n",
    "- mirror reflected around ____ computer vision term obstructed ___ object anser\n",
    "- mirror reflection answer\n",
    "- cause & effect \n",
    "- what not to do\n",
    "- (light and vision / geometry to conceptualize relationship of learning by teaching)\n",
    "\n",
    "<br>\n",
    "\n",
    "#### How can this learned information(lessons) be applyed? (information - lessions )\n",
    "- actons (phyiscal good, work done)\n",
    "- phyilosphy (public good)  \n",
    "<br>\n",
    "\n",
    "#### How can these lessions help other people? (people vs human being vs human)\n",
    "- Direct \n",
    "- indirect\n",
    "<br>\n",
    "\n",
    "#### Confidence Matix of Life\n",
    "- What are the desired outcomes of these actions & phyilosphy\n",
    "  - Who does it benifit  ***TP***\n",
    "  - Who does it hinder   ***TN*** \n",
    "-  What are undesired outcomes of these actions & phyilosphy\n",
    "   - Who does it benifit  ***FP***\n",
    "   - Who does it hinder   ***FN***\n"
   ]
  },
  {
   "cell_type": "markdown",
   "metadata": {},
   "source": [
    "# History:\n",
    "<hr/>"
   ]
  },
  {
   "cell_type": "markdown",
   "metadata": {},
   "source": [
    "> The Ozone Hols is a seasonal depletion of the Ozone Layer - a protective layer of the atmosphere that is vital in protecting the Earth from the bulk of the Sun's ultraviolet radiation. The hole forms in the Southern Hemisphere, over Antarctica, during the Southern Hemisphere Spring. Chemical reactions driven by Bromine and Chlorine (coming from CFC's) cause the rapid degredation of the Ozone layer, with the hole peaking in late September or early October.\n",
    "> -  David Velleca"
   ]
  },
  {
   "cell_type": "markdown",
   "metadata": {},
   "source": [
    "? what would the holes look like  \n",
    "? what is the chemical reation that happens  \n",
    "? what is ozone, $O_3$\n",
    "? What does ozone look like, how does that attribute to its properties?  \n",
    "? what is a Dobson Units"
   ]
  },
  {
   "cell_type": "code",
   "execution_count": null,
   "metadata": {},
   "outputs": [],
   "source": []
  }
 ],
 "metadata": {
  "kernelspec": {
   "display_name": "Python 3",
   "language": "python",
   "name": "python3"
  },
  "language_info": {
   "codemirror_mode": {
    "name": "ipython",
    "version": 3
   },
   "file_extension": ".py",
   "mimetype": "text/x-python",
   "name": "python",
   "nbconvert_exporter": "python",
   "pygments_lexer": "ipython3",
   "version": "3.8.2"
  }
 },
 "nbformat": 4,
 "nbformat_minor": 4
}
