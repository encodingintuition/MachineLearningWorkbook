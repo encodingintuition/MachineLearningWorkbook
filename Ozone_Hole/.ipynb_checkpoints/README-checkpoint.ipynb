{
 "cells": [
  {
   "cell_type": "markdown",
   "metadata": {},
   "source": [
    "# Ozone Hole Data Journey\n",
    "<hr/>\n",
    "Data idea from -  https://tthrowbackthurs.github.io/, Posted by David Velleca on January 2, 2020   "
   ]
  },
  {
   "cell_type": "code",
   "execution_count": null,
   "metadata": {},
   "outputs": [],
   "source": []
  },
  {
   "cell_type": "markdown",
   "metadata": {},
   "source": [
    "\n",
    "\n",
    "# Content:\n",
    "- [Questions](#Questions:)\n",
    "- [History](#History:)\n",
    "- [Green Houses Gases](#Green-Houses-Gases)"
   ]
  },
  {
   "cell_type": "markdown",
   "metadata": {},
   "source": [
    "# Questions:\n",
    "<hr/>\n",
    "\n",
    "#### Why do I find this information intersting?\n",
    "- Can I see three other perspectives of why this information is intersting that is the oppisite of my own.  \n",
    "<br>\n",
    "\n",
    "\n",
    "#### What can I learn from this information (how is this information teaching me)?  \n",
    "- straight line anwer \n",
    "- inverse answer \n",
    "\n",
    "- mirror reflected around ____ computer vision term obstructed ___ object anser\n",
    "- mirror reflection answer\n",
    "- cause & effect \n",
    "- what not to do\n",
    "- (light and vision / geometry to conceptualize relationship of learning by teaching)\n",
    "\n",
    "<br>\n",
    "\n",
    "#### How can this learned information(lessons) be applyed? (information - lessions )\n",
    "- actons (phyiscal good, work done)\n",
    "- phyilosphy (public good)  \n",
    "<br>\n",
    "\n",
    "#### How can these lessions help other people? (people vs human being vs human)\n",
    "- Direct \n",
    "- indirect\n",
    "<br>\n",
    "\n",
    "#### Confidence Matix of Life\n",
    "- What are the desired outcomes of these actions & phyilosphy\n",
    "  - Who does it benifit  ***TP***\n",
    "  - Who does it hinder   ***TN*** \n",
    "-  What are undesired outcomes of these actions & phyilosphy\n",
    "   - Who does it benifit  ***FP***\n",
    "   - Who does it hinder   ***FN***\n"
   ]
  },
  {
   "cell_type": "markdown",
   "metadata": {},
   "source": [
    "# History:\n",
    "<hr/>"
   ]
  },
  {
   "cell_type": "markdown",
   "metadata": {},
   "source": [
    "> The Ozone Hols is a seasonal depletion of the Ozone Layer - a protective layer of the atmosphere that is vital in protecting the Earth from the bulk of the Sun's ultraviolet radiation. The hole forms in the Southern Hemisphere, over Antarctica, during the Southern Hemisphere Spring. Chemical reactions driven by Bromine and Chlorine (coming from CFC's) cause the rapid degredation of the Ozone layer, with the hole peaking in late September or early October.\n",
    "> -  David Velleca"
   ]
  },
  {
   "cell_type": "markdown",
   "metadata": {},
   "source": [
    " "
   ]
  },
  {
   "cell_type": "markdown",
   "metadata": {},
   "source": [
    " "
   ]
  },
  {
   "cell_type": "markdown",
   "metadata": {},
   "source": [
    "# Green Houses Gases"
   ]
  },
  {
   "cell_type": "markdown",
   "metadata": {},
   "source": [
    "\n",
    "#### Major Long-Lived Greenhouse Gases and Their Characteristics\n",
    "| Greenhouse gas | How it's produced   | Average lifetime in the atmosphere    | 100-year global warming potential |\n",
    "| :------------- | :----------: | :----------: |-----------: |\n",
    "| Carbon dioxide |Emitted primarily through the burning of fossil fuels (oil, natural gas, and coal), solid waste, and trees and wood products. Changes in land use also play a role. Deforestation and soil degradation add carbon dioxide to the atmosphere, while forest regrowth takes it out of the atmosphere.| see below* |  1 |\n",
    "| Methane | Emitted during the production and transport of oil and natural gas as well as coal. Methane emissions also result from livestock and agricultural practices and from the anaerobic decay of organic waste in municipal solid waste landfills. |12.4 years** | 28–36|\n",
    "| Nitrous oxide| Emitted during agricultural and industrial activities, as well as during combustion of fossil fuels and solid waste. |121 years** | 265–298|\n",
    "| Fluorinated gases| A group of gases that contain fluorine, including hydrofluorocarbons, perfluorocarbons, and sulfur hexafluoride, among other chemicals. These gases are emitted from a variety of industrial processes and commercial and household uses and do not occur naturally. Sometimes used as substitutes for ozone-depleting substances such as chlorofluorocarbons (CFCs).  | A few weeks to thousands of years| Varies (the highest is sulfur hexfluoride at 23,500|\n",
    "\n",
    "** Carbon dioxides lifetime cannot be represented with a single value because the gas is not destroyed over time, but instead moves among different parts of the ocean–atmosphere–land system. Some of the excess carbon dioxide is absorbed quickly (for example, by the ocean surface), but some will remain in the atmosphere for thousands of years, due in part to the very slow process by which carbon is transferred to ocean sediments. $*\n",
    "\n",
    "*** The lifetimes shown for methane and nitrous oxide are perturbation lifetimes, which have been used to calculate the global warming potentials shown here. $*\n",
    "\n",
    "\n",
    "from https://www.epa.gov/climate-indicators/greenhouse-gases"
   ]
  },
  {
   "cell_type": "markdown",
   "metadata": {},
   "source": [
    "### What is Natural gas \n",
    "<hr/>\n",
    "\n",
    "<img src='../img/natural_gas.png'>\n",
    "https://www.croftsystems.net/oil-gas-blog/natural-gas-composition/"
   ]
  },
  {
   "cell_type": "markdown",
   "metadata": {},
   "source": [
    "### Natural gas\n",
    "\n",
    "    Natural Gas = (\n",
    "                   methane : CH_4, 60 - 90 \n",
    "                   ethane : C2H6, 0 - 20\n",
    "                   propane : C3H8, 0 - 20\n",
    "                   butane : C4H10, 0 - 20\n",
    "                   carbon dioxide : CO2, 0 - 8 \n",
    "                   oxygen : 02, 0 - 0.2\n",
    "                   nitrogen : N2, 0 - 5\n",
    "                   hydrogen sulfide : H2S, 0 - 5\n",
    "                   rare gases : A, He, 0\n",
    "                   )\n",
    "                         "
   ]
  },
  {
   "cell_type": "markdown",
   "metadata": {},
   "source": [
    "# Data sources\n",
    "<hr/>\n",
    "\n",
    "Global Temp & Parcipitation changes  \n",
    "https://climatedataguide.ucar.edu/climate-data/global-temperature-data-sets-overview-comparison-table\n",
    "\n",
    "Data source  \n",
    "https://ozonewatch.gsfc.nasa.gov\n",
    "\n",
    "climate . GOV  \n",
    "https://www.climate.gov/news-features/understanding-climate/climate-change-global-temperature   \n",
    "NCAR Climate Data Guide  \n",
    "https://climatedataguide.ucar.edu/climate-data/global-surface-temperatures-best-berkeley-earth-surface-temperatures  \n",
    "Berkely Earth  \n",
    "http://berkeleyearth.org/data/  \n",
    "Climate Change Indicator  \n",
    "https://www.epa.gov/climate-indicators/greenhouse-gases  \n",
    "Annual carbon dioxide by openEI  \n",
    "https://openei.org/datasets/dataset/annual-carbon-dioxide-emissions-2005-2009  "
   ]
  },
  {
   "cell_type": "markdown",
   "metadata": {},
   "source": [
    "\n"
   ]
  },
  {
   "cell_type": "markdown",
   "metadata": {},
   "source": [
    "# Notes \n",
    "<hr/>"
   ]
  },
  {
   "cell_type": "markdown",
   "metadata": {},
   "source": [
    "? what would the holes look like  \n",
    "? what is the chemical reation that happens between Bromine and Chlorine \n",
    "? when does the chemical reation happen \n",
    "? what is ozone, $O_3$\n",
    "? What does ozone look like, how does that attribute to its properties?  \n",
    "? what is a Dobson Units"
   ]
  },
  {
   "cell_type": "code",
   "execution_count": null,
   "metadata": {},
   "outputs": [],
   "source": []
  },
  {
   "cell_type": "code",
   "execution_count": null,
   "metadata": {},
   "outputs": [],
   "source": [
    "create visual awareness, PoSiTiVe\n",
    "teaching tool to understand the earth \n",
    "carbon tax - positive spin \n",
    "- world tax on industry to same standards]"
   ]
  },
  {
   "cell_type": "code",
   "execution_count": null,
   "metadata": {},
   "outputs": [],
   "source": [
    "data to add is CFC production levels?  \n",
    "dates of govermental polcy and time to effect curve \n",
    "\n",
    "add \n",
    "ocean temp \n",
    "land temp \n",
    "city temp London, NY, _, _, _,  \n",
    "production from \n",
    "\n"
   ]
  },
  {
   "cell_type": "code",
   "execution_count": null,
   "metadata": {},
   "outputs": [],
   "source": []
  }
 ],
 "metadata": {
  "kernelspec": {
   "display_name": "Python 3",
   "language": "python",
   "name": "python3"
  },
  "language_info": {
   "codemirror_mode": {
    "name": "ipython",
    "version": 3
   },
   "file_extension": ".py",
   "mimetype": "text/x-python",
   "name": "python",
   "nbconvert_exporter": "python",
   "pygments_lexer": "ipython3",
   "version": "3.8.2"
  }
 },
 "nbformat": 4,
 "nbformat_minor": 4
}
