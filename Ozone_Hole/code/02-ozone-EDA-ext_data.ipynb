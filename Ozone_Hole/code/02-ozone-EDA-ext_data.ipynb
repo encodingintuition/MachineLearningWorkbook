{
 "cells": [
  {
   "cell_type": "code",
   "execution_count": 242,
   "metadata": {},
   "outputs": [],
   "source": [
    "import pandas as pd "
   ]
  },
  {
   "cell_type": "markdown",
   "metadata": {},
   "source": [
    "# Content \n",
    "\n",
    "- [What is Natural gas ](#What-is-Natural-gas)\n",
    "- [Data CO2](#Data-CO2)\n",
    "- [Dry Natural Gas Consumption 1980 - 2009](#Dry-Natural-Gas-Consumption-1980---2009)"
   ]
  },
  {
   "cell_type": "markdown",
   "metadata": {},
   "source": [
    "# What is Natural gas \n",
    "<hr/>\n",
    "\n",
    "<img src='../img/natural_gas.png'>\n",
    "https://www.croftsystems.net/oil-gas-blog/natural-gas-composition/"
   ]
  },
  {
   "cell_type": "markdown",
   "metadata": {},
   "source": [
    "# Natural gas\n",
    "\n",
    "    Natural Gas = (\n",
    "                   methane : CH_4, 60 - 90 \n",
    "                   ethane : C2H6, 0 - 20\n",
    "                   propane : C3H8, 0 - 20\n",
    "                   butane : C4H10, 0 - 20\n",
    "                   carbon dioxide : CO2, 0 - 8 \n",
    "                   oxygen : 02, 0 - 0.2\n",
    "                   nitrogen : N2, 0 - 5\n",
    "                   hydrogen sulfide : H2S, 0 - 5\n",
    "                   rare gases : A, He, 0\n",
    "                   )\n",
    "                           "
   ]
  }
 ],
 "metadata": {
  "kernelspec": {
   "display_name": "Python 3",
   "language": "python",
   "name": "python3"
  },
  "language_info": {
   "codemirror_mode": {
    "name": "ipython",
    "version": 3
   },
   "file_extension": ".py",
   "mimetype": "text/x-python",
   "name": "python",
   "nbconvert_exporter": "python",
   "pygments_lexer": "ipython3",
   "version": "3.8.2"
  }
 },
 "nbformat": 4,
 "nbformat_minor": 4
}
