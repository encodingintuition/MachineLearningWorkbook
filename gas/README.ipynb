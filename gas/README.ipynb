{
 "cells": [
  {
   "cell_type": "markdown",
   "metadata": {},
   "source": [
    "# Gas use - Temperture \n",
    "<hr/>\n",
    "Objective to predict my gas usage / see how changes in my weather and head setting affect my heat consumption."
   ]
  },
  {
   "cell_type": "code",
   "execution_count": null,
   "metadata": {},
   "outputs": [],
   "source": []
  },
  {
   "cell_type": "markdown",
   "metadata": {},
   "source": [
    "## Gas Data \n",
    "\n",
    "Data comes from my invoices from Kimlin Energy Services"
   ]
  },
  {
   "cell_type": "markdown",
   "metadata": {},
   "source": [
    "## thermostat setting\n",
    "\n",
    "normally 64, \n",
    "post marcell 66 \n",
    "\n",
    "upstairs 64"
   ]
  },
  {
   "cell_type": "markdown",
   "metadata": {},
   "source": [
    "## Temperture data \n",
    "\n",
    "National Center Fro Environmental Information \n",
    "https://www.ncdc.noaa.gov/cdo-web/search"
   ]
  },
  {
   "cell_type": "markdown",
   "metadata": {},
   "source": [
    "##  Data dictionary - Temperture data\n",
    "\n",
    "Air Temperature\n",
    "\n",
    "| var | b |\n",
    "|:--- | ---:|\n",
    "| TMAX\t| Maximum temperature |\n",
    "| TMIN\t| Minimum temperature |\n",
    "| TOBS\t| Temperature at the time of observation |\n",
    "\n",
    "Percipitation\n",
    "\n",
    "DAPR\tNumber of days included in the multiday precipitation total (MDPR)\n",
    "DASF\tNumber of days included in the multiday snow fall total (MDSF)\n",
    "MDPR\tMultiday precipitation total (use with DAPR and DWPR, if available)\n",
    "MDSF\tMultiday snowfall total\n",
    "PRCP\tPrecipitation\n",
    "SNOW\tSnowfall\n",
    "SNWD\tSnow depth\n",
    "\n",
    "Water\n",
    "\n",
    "WESD\tWater equivalent of snow on the ground\n",
    "WESF\tWater equivalent of snowfall\n",
    "\n",
    "Weather Type\n",
    "\n",
    "WT01\tFog, ice fog, or freezing fog (may include heavy fog)\n",
    "WT03\tThunder\n",
    "WT04\tIce pellets, sleet, snow pellets, or small hail\"\n",
    "WT05\tHail (may include small hail)\n",
    "WT06\tGlaze or rime\n",
    "WT08\tSmoke or haze\n",
    "WT09\tBlowing or drifting snow\n",
    "WT10\tTornado, waterspout, or funnel cloud\"\n",
    "WT11\tHigh or damaging winds\n",
    "WT14\tDrizzle\n",
    "WT16\tRain (may include freezing rain, drizzle, and freezing drizzle)\"\n",
    "WT18\tSnow, snow pellets, snow grains, or ice crystals\n"
   ]
  },
  {
   "cell_type": "code",
   "execution_count": null,
   "metadata": {},
   "outputs": [],
   "source": []
  }
 ],
 "metadata": {
  "kernelspec": {
   "display_name": "Python 3",
   "language": "python",
   "name": "python3"
  },
  "language_info": {
   "codemirror_mode": {
    "name": "ipython",
    "version": 3
   },
   "file_extension": ".py",
   "mimetype": "text/x-python",
   "name": "python",
   "nbconvert_exporter": "python",
   "pygments_lexer": "ipython3",
   "version": "3.8.2"
  }
 },
 "nbformat": 4,
 "nbformat_minor": 4
}
