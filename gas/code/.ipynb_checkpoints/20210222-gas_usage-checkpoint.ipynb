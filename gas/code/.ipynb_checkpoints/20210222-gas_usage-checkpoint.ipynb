{
 "cells": [
  {
   "cell_type": "markdown",
   "metadata": {},
   "source": [
    "# Gas Usage vs Temperature"
   ]
  },
  {
   "cell_type": "code",
   "execution_count": 3,
   "metadata": {},
   "outputs": [],
   "source": [
    "\n",
    "import matplotlib.pyplot as plt\n",
    "import seaborn as sns\n",
    "\n",
    "import pandas as pd\n",
    "import numpy as np\n",
    "\n"
   ]
  },
  {
   "cell_type": "markdown",
   "metadata": {},
   "source": [
    "# data"
   ]
  },
  {
   "cell_type": "code",
   "execution_count": 4,
   "metadata": {},
   "outputs": [
    {
     "name": "stdout",
     "output_type": "stream",
     "text": [
      "(7, 6)\n"
     ]
    },
    {
     "data": {
      "text/html": [
       "<div>\n",
       "<style scoped>\n",
       "    .dataframe tbody tr th:only-of-type {\n",
       "        vertical-align: middle;\n",
       "    }\n",
       "\n",
       "    .dataframe tbody tr th {\n",
       "        vertical-align: top;\n",
       "    }\n",
       "\n",
       "    .dataframe thead th {\n",
       "        text-align: right;\n",
       "    }\n",
       "</style>\n",
       "<table border=\"1\" class=\"dataframe\">\n",
       "  <thead>\n",
       "    <tr style=\"text-align: right;\">\n",
       "      <th></th>\n",
       "      <th>invoice number</th>\n",
       "      <th>transaction date</th>\n",
       "      <th>cost</th>\n",
       "      <th>gal</th>\n",
       "      <th>Environmental Compliance Fee</th>\n",
       "      <th>cost per gal</th>\n",
       "    </tr>\n",
       "  </thead>\n",
       "  <tbody>\n",
       "    <tr>\n",
       "      <th>0</th>\n",
       "      <td>NaN</td>\n",
       "      <td>NaT</td>\n",
       "      <td>NaN</td>\n",
       "      <td>NaN</td>\n",
       "      <td>NaN</td>\n",
       "      <td>NaN</td>\n",
       "    </tr>\n",
       "    <tr>\n",
       "      <th>1</th>\n",
       "      <td>NaN</td>\n",
       "      <td>NaT</td>\n",
       "      <td>NaN</td>\n",
       "      <td>NaN</td>\n",
       "      <td>NaN</td>\n",
       "      <td>NaN</td>\n",
       "    </tr>\n",
       "    <tr>\n",
       "      <th>2</th>\n",
       "      <td>676952.0</td>\n",
       "      <td>2020-10-02</td>\n",
       "      <td>117.04</td>\n",
       "      <td>55.3</td>\n",
       "      <td>6.99</td>\n",
       "      <td>1.99</td>\n",
       "    </tr>\n",
       "    <tr>\n",
       "      <th>3</th>\n",
       "      <td>681181.0</td>\n",
       "      <td>2020-11-25</td>\n",
       "      <td>320.20</td>\n",
       "      <td>103.5</td>\n",
       "      <td>6.99</td>\n",
       "      <td>NaN</td>\n",
       "    </tr>\n",
       "    <tr>\n",
       "      <th>4</th>\n",
       "      <td>685620.0</td>\n",
       "      <td>2020-12-26</td>\n",
       "      <td>205.99</td>\n",
       "      <td>100.0</td>\n",
       "      <td>6.99</td>\n",
       "      <td>1.99</td>\n",
       "    </tr>\n",
       "  </tbody>\n",
       "</table>\n",
       "</div>"
      ],
      "text/plain": [
       "   invoice number transaction date    cost    gal  \\\n",
       "0             NaN              NaT     NaN    NaN   \n",
       "1             NaN              NaT     NaN    NaN   \n",
       "2        676952.0       2020-10-02  117.04   55.3   \n",
       "3        681181.0       2020-11-25  320.20  103.5   \n",
       "4        685620.0       2020-12-26  205.99  100.0   \n",
       "\n",
       "   Environmental Compliance Fee  cost per gal  \n",
       "0                           NaN           NaN  \n",
       "1                           NaN           NaN  \n",
       "2                          6.99          1.99  \n",
       "3                          6.99           NaN  \n",
       "4                          6.99          1.99  "
      ]
     },
     "execution_count": 4,
     "metadata": {},
     "output_type": "execute_result"
    }
   ],
   "source": [
    "df = pd.read_excel('../data/gas_used.xlsx')\n",
    "print(df.shape)\n",
    "df.head()"
   ]
  },
  {
   "cell_type": "code",
   "execution_count": 5,
   "metadata": {},
   "outputs": [
    {
     "name": "stdout",
     "output_type": "stream",
     "text": [
      "(2604, 13)\n"
     ]
    },
    {
     "data": {
      "text/html": [
       "<div>\n",
       "<style scoped>\n",
       "    .dataframe tbody tr th:only-of-type {\n",
       "        vertical-align: middle;\n",
       "    }\n",
       "\n",
       "    .dataframe tbody tr th {\n",
       "        vertical-align: top;\n",
       "    }\n",
       "\n",
       "    .dataframe thead th {\n",
       "        text-align: right;\n",
       "    }\n",
       "</style>\n",
       "<table border=\"1\" class=\"dataframe\">\n",
       "  <thead>\n",
       "    <tr style=\"text-align: right;\">\n",
       "      <th></th>\n",
       "      <th>STATION</th>\n",
       "      <th>NAME</th>\n",
       "      <th>DATE</th>\n",
       "      <th>DAPR</th>\n",
       "      <th>MDPR</th>\n",
       "      <th>PRCP</th>\n",
       "      <th>SNOW</th>\n",
       "      <th>SNWD</th>\n",
       "      <th>TMAX</th>\n",
       "      <th>TMIN</th>\n",
       "      <th>TOBS</th>\n",
       "      <th>WESD</th>\n",
       "      <th>WESF</th>\n",
       "    </tr>\n",
       "  </thead>\n",
       "  <tbody>\n",
       "    <tr>\n",
       "      <th>744</th>\n",
       "      <td>US1NYUL0032</td>\n",
       "      <td>ESOPUS 0.8 NNE, NY US</td>\n",
       "      <td>2021-02-06</td>\n",
       "      <td>NaN</td>\n",
       "      <td>NaN</td>\n",
       "      <td>0.0</td>\n",
       "      <td>0.0</td>\n",
       "      <td>NaN</td>\n",
       "      <td>NaN</td>\n",
       "      <td>NaN</td>\n",
       "      <td>NaN</td>\n",
       "      <td>NaN</td>\n",
       "      <td>NaN</td>\n",
       "    </tr>\n",
       "    <tr>\n",
       "      <th>858</th>\n",
       "      <td>US1NYUL0023</td>\n",
       "      <td>WEST HURLEY 0.1 S, NY US</td>\n",
       "      <td>2020-08-01</td>\n",
       "      <td>NaN</td>\n",
       "      <td>NaN</td>\n",
       "      <td>0.0</td>\n",
       "      <td>0.0</td>\n",
       "      <td>NaN</td>\n",
       "      <td>NaN</td>\n",
       "      <td>NaN</td>\n",
       "      <td>NaN</td>\n",
       "      <td>NaN</td>\n",
       "      <td>NaN</td>\n",
       "    </tr>\n",
       "    <tr>\n",
       "      <th>1679</th>\n",
       "      <td>US1NYUL0016</td>\n",
       "      <td>ROSENDALE VILLAGE 1.8 WNW, NY US</td>\n",
       "      <td>2020-10-31</td>\n",
       "      <td>NaN</td>\n",
       "      <td>NaN</td>\n",
       "      <td>0.1</td>\n",
       "      <td>0.3</td>\n",
       "      <td>0.0</td>\n",
       "      <td>NaN</td>\n",
       "      <td>NaN</td>\n",
       "      <td>NaN</td>\n",
       "      <td>NaN</td>\n",
       "      <td>NaN</td>\n",
       "    </tr>\n",
       "  </tbody>\n",
       "</table>\n",
       "</div>"
      ],
      "text/plain": [
       "          STATION                              NAME        DATE  DAPR  MDPR  \\\n",
       "744   US1NYUL0032             ESOPUS 0.8 NNE, NY US  2021-02-06   NaN   NaN   \n",
       "858   US1NYUL0023          WEST HURLEY 0.1 S, NY US  2020-08-01   NaN   NaN   \n",
       "1679  US1NYUL0016  ROSENDALE VILLAGE 1.8 WNW, NY US  2020-10-31   NaN   NaN   \n",
       "\n",
       "      PRCP  SNOW  SNWD  TMAX  TMIN  TOBS  WESD  WESF  \n",
       "744    0.0   0.0   NaN   NaN   NaN   NaN   NaN   NaN  \n",
       "858    0.0   0.0   NaN   NaN   NaN   NaN   NaN   NaN  \n",
       "1679   0.1   0.3   0.0   NaN   NaN   NaN   NaN   NaN  "
      ]
     },
     "execution_count": 5,
     "metadata": {},
     "output_type": "execute_result"
    }
   ],
   "source": [
    "df_ = pd.read_csv('../data/2469458.csv')\n",
    "print(df_.shape)\n",
    "df_.sample(3)"
   ]
  },
  {
   "cell_type": "code",
   "execution_count": 6,
   "metadata": {},
   "outputs": [
    {
     "name": "stdout",
     "output_type": "stream",
     "text": [
      "(2604, 26)\n"
     ]
    },
    {
     "data": {
      "text/html": [
       "<div>\n",
       "<style scoped>\n",
       "    .dataframe tbody tr th:only-of-type {\n",
       "        vertical-align: middle;\n",
       "    }\n",
       "\n",
       "    .dataframe tbody tr th {\n",
       "        vertical-align: top;\n",
       "    }\n",
       "\n",
       "    .dataframe thead th {\n",
       "        text-align: right;\n",
       "    }\n",
       "</style>\n",
       "<table border=\"1\" class=\"dataframe\">\n",
       "  <thead>\n",
       "    <tr style=\"text-align: right;\">\n",
       "      <th></th>\n",
       "      <th>STATION</th>\n",
       "      <th>NAME</th>\n",
       "      <th>LATITUDE</th>\n",
       "      <th>LONGITUDE</th>\n",
       "      <th>ELEVATION</th>\n",
       "      <th>DATE</th>\n",
       "      <th>DAPR</th>\n",
       "      <th>DAPR_ATTRIBUTES</th>\n",
       "      <th>MDPR</th>\n",
       "      <th>MDPR_ATTRIBUTES</th>\n",
       "      <th>...</th>\n",
       "      <th>TMAX</th>\n",
       "      <th>TMAX_ATTRIBUTES</th>\n",
       "      <th>TMIN</th>\n",
       "      <th>TMIN_ATTRIBUTES</th>\n",
       "      <th>TOBS</th>\n",
       "      <th>TOBS_ATTRIBUTES</th>\n",
       "      <th>WESD</th>\n",
       "      <th>WESD_ATTRIBUTES</th>\n",
       "      <th>WESF</th>\n",
       "      <th>WESF_ATTRIBUTES</th>\n",
       "    </tr>\n",
       "  </thead>\n",
       "  <tbody>\n",
       "    <tr>\n",
       "      <th>817</th>\n",
       "      <td>US1NYUL0022</td>\n",
       "      <td>KINGSTON 2.1 N, NY US</td>\n",
       "      <td>41.961037</td>\n",
       "      <td>-73.995767</td>\n",
       "      <td>55.8</td>\n",
       "      <td>2020-10-10</td>\n",
       "      <td>NaN</td>\n",
       "      <td>NaN</td>\n",
       "      <td>NaN</td>\n",
       "      <td>NaN</td>\n",
       "      <td>...</td>\n",
       "      <td>NaN</td>\n",
       "      <td>NaN</td>\n",
       "      <td>NaN</td>\n",
       "      <td>NaN</td>\n",
       "      <td>NaN</td>\n",
       "      <td>NaN</td>\n",
       "      <td>NaN</td>\n",
       "      <td>NaN</td>\n",
       "      <td>NaN</td>\n",
       "      <td>NaN</td>\n",
       "    </tr>\n",
       "    <tr>\n",
       "      <th>1860</th>\n",
       "      <td>USC00306570</td>\n",
       "      <td>PHONECIA 2 SW, NY US</td>\n",
       "      <td>42.067400</td>\n",
       "      <td>-74.335600</td>\n",
       "      <td>323.1</td>\n",
       "      <td>2020-10-08</td>\n",
       "      <td>NaN</td>\n",
       "      <td>NaN</td>\n",
       "      <td>NaN</td>\n",
       "      <td>NaN</td>\n",
       "      <td>...</td>\n",
       "      <td>NaN</td>\n",
       "      <td>NaN</td>\n",
       "      <td>NaN</td>\n",
       "      <td>NaN</td>\n",
       "      <td>NaN</td>\n",
       "      <td>NaN</td>\n",
       "      <td>NaN</td>\n",
       "      <td>NaN</td>\n",
       "      <td>NaN</td>\n",
       "      <td>NaN</td>\n",
       "    </tr>\n",
       "    <tr>\n",
       "      <th>855</th>\n",
       "      <td>US1NYUL0022</td>\n",
       "      <td>KINGSTON 2.1 N, NY US</td>\n",
       "      <td>41.961037</td>\n",
       "      <td>-73.995767</td>\n",
       "      <td>55.8</td>\n",
       "      <td>2021-02-02</td>\n",
       "      <td>NaN</td>\n",
       "      <td>NaN</td>\n",
       "      <td>NaN</td>\n",
       "      <td>NaN</td>\n",
       "      <td>...</td>\n",
       "      <td>NaN</td>\n",
       "      <td>NaN</td>\n",
       "      <td>NaN</td>\n",
       "      <td>NaN</td>\n",
       "      <td>NaN</td>\n",
       "      <td>NaN</td>\n",
       "      <td>1.3</td>\n",
       "      <td>,,N</td>\n",
       "      <td>1.3</td>\n",
       "      <td>,,N</td>\n",
       "    </tr>\n",
       "  </tbody>\n",
       "</table>\n",
       "<p>3 rows × 26 columns</p>\n",
       "</div>"
      ],
      "text/plain": [
       "          STATION                   NAME   LATITUDE  LONGITUDE  ELEVATION  \\\n",
       "817   US1NYUL0022  KINGSTON 2.1 N, NY US  41.961037 -73.995767       55.8   \n",
       "1860  USC00306570   PHONECIA 2 SW, NY US  42.067400 -74.335600      323.1   \n",
       "855   US1NYUL0022  KINGSTON 2.1 N, NY US  41.961037 -73.995767       55.8   \n",
       "\n",
       "            DATE  DAPR DAPR_ATTRIBUTES  MDPR MDPR_ATTRIBUTES  ...  TMAX  \\\n",
       "817   2020-10-10   NaN             NaN   NaN             NaN  ...   NaN   \n",
       "1860  2020-10-08   NaN             NaN   NaN             NaN  ...   NaN   \n",
       "855   2021-02-02   NaN             NaN   NaN             NaN  ...   NaN   \n",
       "\n",
       "     TMAX_ATTRIBUTES  TMIN TMIN_ATTRIBUTES  TOBS TOBS_ATTRIBUTES  WESD  \\\n",
       "817              NaN   NaN             NaN   NaN             NaN   NaN   \n",
       "1860             NaN   NaN             NaN   NaN             NaN   NaN   \n",
       "855              NaN   NaN             NaN   NaN             NaN   1.3   \n",
       "\n",
       "     WESD_ATTRIBUTES  WESF WESF_ATTRIBUTES  \n",
       "817              NaN   NaN             NaN  \n",
       "1860             NaN   NaN             NaN  \n",
       "855              ,,N   1.3             ,,N  \n",
       "\n",
       "[3 rows x 26 columns]"
      ]
     },
     "execution_count": 6,
     "metadata": {},
     "output_type": "execute_result"
    }
   ],
   "source": [
    "_df = pd.read_csv('../data/2469673.csv')\n",
    "print(_df.shape)\n",
    "_df.sample(3)"
   ]
  },
  {
   "cell_type": "code",
   "execution_count": 7,
   "metadata": {},
   "outputs": [
    {
     "name": "stdout",
     "output_type": "stream",
     "text": [
      "(553, 20)\n"
     ]
    },
    {
     "data": {
      "text/html": [
       "<div>\n",
       "<style scoped>\n",
       "    .dataframe tbody tr th:only-of-type {\n",
       "        vertical-align: middle;\n",
       "    }\n",
       "\n",
       "    .dataframe tbody tr th {\n",
       "        vertical-align: top;\n",
       "    }\n",
       "\n",
       "    .dataframe thead th {\n",
       "        text-align: right;\n",
       "    }\n",
       "</style>\n",
       "<table border=\"1\" class=\"dataframe\">\n",
       "  <thead>\n",
       "    <tr style=\"text-align: right;\">\n",
       "      <th></th>\n",
       "      <th>STATION</th>\n",
       "      <th>NAME</th>\n",
       "      <th>LATITUDE</th>\n",
       "      <th>LONGITUDE</th>\n",
       "      <th>ELEVATION</th>\n",
       "      <th>DATE</th>\n",
       "      <th>DAPR</th>\n",
       "      <th>DAPR_ATTRIBUTES</th>\n",
       "      <th>MDPR</th>\n",
       "      <th>MDPR_ATTRIBUTES</th>\n",
       "      <th>PRCP</th>\n",
       "      <th>PRCP_ATTRIBUTES</th>\n",
       "      <th>SNOW</th>\n",
       "      <th>SNOW_ATTRIBUTES</th>\n",
       "      <th>SNWD</th>\n",
       "      <th>SNWD_ATTRIBUTES</th>\n",
       "      <th>WESD</th>\n",
       "      <th>WESD_ATTRIBUTES</th>\n",
       "      <th>WESF</th>\n",
       "      <th>WESF_ATTRIBUTES</th>\n",
       "    </tr>\n",
       "  </thead>\n",
       "  <tbody>\n",
       "    <tr>\n",
       "      <th>505</th>\n",
       "      <td>US1NYUL0029</td>\n",
       "      <td>HIGHLAND 0.2 SW, NY US</td>\n",
       "      <td>41.714862</td>\n",
       "      <td>-73.968399</td>\n",
       "      <td>116.7</td>\n",
       "      <td>2021-01-03</td>\n",
       "      <td>NaN</td>\n",
       "      <td>NaN</td>\n",
       "      <td>NaN</td>\n",
       "      <td>NaN</td>\n",
       "      <td>0.00</td>\n",
       "      <td>,,N</td>\n",
       "      <td>0.0</td>\n",
       "      <td>,,N</td>\n",
       "      <td>0.0</td>\n",
       "      <td>,,N</td>\n",
       "      <td>0.0</td>\n",
       "      <td>,,N</td>\n",
       "      <td>0.0</td>\n",
       "      <td>,,N</td>\n",
       "    </tr>\n",
       "    <tr>\n",
       "      <th>397</th>\n",
       "      <td>US1NYUL0026</td>\n",
       "      <td>GARDINER 1.3 WNW, NY US</td>\n",
       "      <td>41.685850</td>\n",
       "      <td>-74.173692</td>\n",
       "      <td>68.6</td>\n",
       "      <td>2021-01-04</td>\n",
       "      <td>NaN</td>\n",
       "      <td>NaN</td>\n",
       "      <td>NaN</td>\n",
       "      <td>NaN</td>\n",
       "      <td>0.22</td>\n",
       "      <td>,,N</td>\n",
       "      <td>NaN</td>\n",
       "      <td>NaN</td>\n",
       "      <td>NaN</td>\n",
       "      <td>NaN</td>\n",
       "      <td>NaN</td>\n",
       "      <td>NaN</td>\n",
       "      <td>NaN</td>\n",
       "      <td>NaN</td>\n",
       "    </tr>\n",
       "    <tr>\n",
       "      <th>247</th>\n",
       "      <td>US1NYUL0019</td>\n",
       "      <td>WOODSTOCK 0.8 ENE, NY US</td>\n",
       "      <td>42.040970</td>\n",
       "      <td>-74.095882</td>\n",
       "      <td>150.9</td>\n",
       "      <td>2021-01-15</td>\n",
       "      <td>NaN</td>\n",
       "      <td>NaN</td>\n",
       "      <td>NaN</td>\n",
       "      <td>NaN</td>\n",
       "      <td>0.02</td>\n",
       "      <td>,,N</td>\n",
       "      <td>0.0</td>\n",
       "      <td>T,,N</td>\n",
       "      <td>NaN</td>\n",
       "      <td>NaN</td>\n",
       "      <td>NaN</td>\n",
       "      <td>NaN</td>\n",
       "      <td>NaN</td>\n",
       "      <td>NaN</td>\n",
       "    </tr>\n",
       "  </tbody>\n",
       "</table>\n",
       "</div>"
      ],
      "text/plain": [
       "         STATION                      NAME   LATITUDE  LONGITUDE  ELEVATION  \\\n",
       "505  US1NYUL0029    HIGHLAND 0.2 SW, NY US  41.714862 -73.968399      116.7   \n",
       "397  US1NYUL0026   GARDINER 1.3 WNW, NY US  41.685850 -74.173692       68.6   \n",
       "247  US1NYUL0019  WOODSTOCK 0.8 ENE, NY US  42.040970 -74.095882      150.9   \n",
       "\n",
       "           DATE  DAPR DAPR_ATTRIBUTES  MDPR MDPR_ATTRIBUTES  PRCP  \\\n",
       "505  2021-01-03   NaN             NaN   NaN             NaN  0.00   \n",
       "397  2021-01-04   NaN             NaN   NaN             NaN  0.22   \n",
       "247  2021-01-15   NaN             NaN   NaN             NaN  0.02   \n",
       "\n",
       "    PRCP_ATTRIBUTES  SNOW SNOW_ATTRIBUTES  SNWD SNWD_ATTRIBUTES  WESD  \\\n",
       "505             ,,N   0.0             ,,N   0.0             ,,N   0.0   \n",
       "397             ,,N   NaN             NaN   NaN             NaN   NaN   \n",
       "247             ,,N   0.0            T,,N   NaN             NaN   NaN   \n",
       "\n",
       "    WESD_ATTRIBUTES  WESF WESF_ATTRIBUTES  \n",
       "505             ,,N   0.0             ,,N  \n",
       "397             NaN   NaN             NaN  \n",
       "247             NaN   NaN             NaN  "
      ]
     },
     "execution_count": 7,
     "metadata": {},
     "output_type": "execute_result"
    }
   ],
   "source": [
    "_df_ = pd.read_csv('../data/2469671.csv')\n",
    "print(_df_.shape)\n",
    "_df_.sample(3)"
   ]
  },
  {
   "cell_type": "code",
   "execution_count": null,
   "metadata": {},
   "outputs": [],
   "source": []
  },
  {
   "cell_type": "markdown",
   "metadata": {},
   "source": [
    "# EDA\n",
    "<hr />"
   ]
  },
  {
   "cell_type": "markdown",
   "metadata": {},
   "source": [
    "Clean data - gas_used.xls"
   ]
  },
  {
   "cell_type": "markdown",
   "metadata": {},
   "source": [
    "Numpy - paying with pandas -> numpy "
   ]
  },
  {
   "cell_type": "code",
   "execution_count": 8,
   "metadata": {},
   "outputs": [
    {
     "name": "stdout",
     "output_type": "stream",
     "text": [
      "<class 'method'>\n",
      "\n"
     ]
    },
    {
     "data": {
      "text/plain": [
       "array([[nan, NaT, nan, nan, nan, nan],\n",
       "       [nan, NaT, nan, nan, nan, nan],\n",
       "       [676952.0, Timestamp('2020-10-02 00:00:00'), 117.04, 55.3, 6.99,\n",
       "        1.99],\n",
       "       [681181.0, Timestamp('2020-11-25 00:00:00'), 320.2, 103.5, 6.99,\n",
       "        nan],\n",
       "       [685620.0, Timestamp('2020-12-26 00:00:00'), 205.99, 100.0, 6.99,\n",
       "        1.99],\n",
       "       [688270.0, Timestamp('2021-01-20 00:00:00'), 224.7, 109.4, 6.99,\n",
       "        1.99],\n",
       "       [692265.0, Timestamp('2021-02-17 00:00:00'), 205.99, 100.0, 6.99,\n",
       "        1.99]], dtype=object)"
      ]
     },
     "execution_count": 8,
     "metadata": {},
     "output_type": "execute_result"
    }
   ],
   "source": [
    "# DataFrame.to_numpy(dtype=None, copy=False, na_value=<object object>)[source]\n",
    "# view pandas as numpy\n",
    "\n",
    "print(type(df.to_numpy))\n",
    "print()\n",
    "df.to_numpy()"
   ]
  },
  {
   "cell_type": "code",
   "execution_count": null,
   "metadata": {},
   "outputs": [],
   "source": []
  },
  {
   "cell_type": "code",
   "execution_count": 9,
   "metadata": {},
   "outputs": [
    {
     "data": {
      "text/html": [
       "<div>\n",
       "<style scoped>\n",
       "    .dataframe tbody tr th:only-of-type {\n",
       "        vertical-align: middle;\n",
       "    }\n",
       "\n",
       "    .dataframe tbody tr th {\n",
       "        vertical-align: top;\n",
       "    }\n",
       "\n",
       "    .dataframe thead th {\n",
       "        text-align: right;\n",
       "    }\n",
       "</style>\n",
       "<table border=\"1\" class=\"dataframe\">\n",
       "  <thead>\n",
       "    <tr style=\"text-align: right;\">\n",
       "      <th></th>\n",
       "      <th>invoice number</th>\n",
       "      <th>transaction date</th>\n",
       "      <th>cost</th>\n",
       "      <th>gal</th>\n",
       "      <th>Environmental Compliance Fee</th>\n",
       "      <th>cost per gal</th>\n",
       "    </tr>\n",
       "  </thead>\n",
       "  <tbody>\n",
       "    <tr>\n",
       "      <th>2</th>\n",
       "      <td>676952.0</td>\n",
       "      <td>2020-10-02</td>\n",
       "      <td>117.04</td>\n",
       "      <td>55.3</td>\n",
       "      <td>6.99</td>\n",
       "      <td>1.99</td>\n",
       "    </tr>\n",
       "    <tr>\n",
       "      <th>3</th>\n",
       "      <td>681181.0</td>\n",
       "      <td>2020-11-25</td>\n",
       "      <td>320.20</td>\n",
       "      <td>103.5</td>\n",
       "      <td>6.99</td>\n",
       "      <td>NaN</td>\n",
       "    </tr>\n",
       "    <tr>\n",
       "      <th>4</th>\n",
       "      <td>685620.0</td>\n",
       "      <td>2020-12-26</td>\n",
       "      <td>205.99</td>\n",
       "      <td>100.0</td>\n",
       "      <td>6.99</td>\n",
       "      <td>1.99</td>\n",
       "    </tr>\n",
       "    <tr>\n",
       "      <th>5</th>\n",
       "      <td>688270.0</td>\n",
       "      <td>2021-01-20</td>\n",
       "      <td>224.70</td>\n",
       "      <td>109.4</td>\n",
       "      <td>6.99</td>\n",
       "      <td>1.99</td>\n",
       "    </tr>\n",
       "    <tr>\n",
       "      <th>6</th>\n",
       "      <td>692265.0</td>\n",
       "      <td>2021-02-17</td>\n",
       "      <td>205.99</td>\n",
       "      <td>100.0</td>\n",
       "      <td>6.99</td>\n",
       "      <td>1.99</td>\n",
       "    </tr>\n",
       "  </tbody>\n",
       "</table>\n",
       "</div>"
      ],
      "text/plain": [
       "   invoice number transaction date    cost    gal  \\\n",
       "2        676952.0       2020-10-02  117.04   55.3   \n",
       "3        681181.0       2020-11-25  320.20  103.5   \n",
       "4        685620.0       2020-12-26  205.99  100.0   \n",
       "5        688270.0       2021-01-20  224.70  109.4   \n",
       "6        692265.0       2021-02-17  205.99  100.0   \n",
       "\n",
       "   Environmental Compliance Fee  cost per gal  \n",
       "2                          6.99          1.99  \n",
       "3                          6.99           NaN  \n",
       "4                          6.99          1.99  \n",
       "5                          6.99          1.99  \n",
       "6                          6.99          1.99  "
      ]
     },
     "execution_count": 9,
     "metadata": {},
     "output_type": "execute_result"
    }
   ],
   "source": [
    "# drop rows with nans - look but not update\n",
    "\n",
    "df.drop([0,1])"
   ]
  },
  {
   "cell_type": "code",
   "execution_count": 10,
   "metadata": {},
   "outputs": [
    {
     "name": "stdout",
     "output_type": "stream",
     "text": [
      "<class 'numpy.ndarray'>\n"
     ]
    },
    {
     "data": {
      "text/plain": [
       "array([[676952.0, Timestamp('2020-10-02 00:00:00'), 117.04, 55.3, 6.99,\n",
       "        1.99],\n",
       "       [681181.0, Timestamp('2020-11-25 00:00:00'), 320.2, 103.5, 6.99,\n",
       "        nan],\n",
       "       [685620.0, Timestamp('2020-12-26 00:00:00'), 205.99, 100.0, 6.99,\n",
       "        1.99],\n",
       "       [688270.0, Timestamp('2021-01-20 00:00:00'), 224.7, 109.4, 6.99,\n",
       "        1.99],\n",
       "       [692265.0, Timestamp('2021-02-17 00:00:00'), 205.99, 100.0, 6.99,\n",
       "        1.99]], dtype=object)"
      ]
     },
     "execution_count": 10,
     "metadata": {},
     "output_type": "execute_result"
    }
   ],
   "source": [
    "# delete rows with numpy \n",
    "\n",
    "\"\"\"\n",
    "??special handling of scalars??\n",
    "What is def of scalars and how can they be specially be handled. \n",
    "\"\"\"\n",
    "\n",
    "#created numpy array \n",
    "x = df.to_numpy()\n",
    "\n",
    "print(type(x))\n",
    "\n",
    "## numpy.delete(arr, obj, axis=None)\n",
    "np.delete(x, [0,1],0)"
   ]
  },
  {
   "cell_type": "markdown",
   "metadata": {},
   "source": [
    "    practice numpy \n"
   ]
  },
  {
   "cell_type": "code",
   "execution_count": 11,
   "metadata": {},
   "outputs": [],
   "source": [
    "# drop the nan rows and redefine the dataframe\n",
    "\n",
    "df = df.drop([0,1])\n",
    "df.head()"
   ]
  },
  {
   "cell_type": "code",
   "execution_count": 51,
   "metadata": {},
   "outputs": [
    {
     "data": {
      "text/html": [
       "<div>\n",
       "<style scoped>\n",
       "    .dataframe tbody tr th:only-of-type {\n",
       "        vertical-align: middle;\n",
       "    }\n",
       "\n",
       "    .dataframe tbody tr th {\n",
       "        vertical-align: top;\n",
       "    }\n",
       "\n",
       "    .dataframe thead th {\n",
       "        text-align: right;\n",
       "    }\n",
       "</style>\n",
       "<table border=\"1\" class=\"dataframe\">\n",
       "  <thead>\n",
       "    <tr style=\"text-align: right;\">\n",
       "      <th></th>\n",
       "      <th>invoice number</th>\n",
       "      <th>transaction date</th>\n",
       "      <th>cost</th>\n",
       "      <th>gal</th>\n",
       "      <th>Environmental Compliance Fee</th>\n",
       "      <th>cost per gal</th>\n",
       "    </tr>\n",
       "  </thead>\n",
       "  <tbody>\n",
       "    <tr>\n",
       "      <th>2</th>\n",
       "      <td>676952.0</td>\n",
       "      <td>2020-10-02</td>\n",
       "      <td>117.04</td>\n",
       "      <td>55.3</td>\n",
       "      <td>6.99</td>\n",
       "      <td>1.99</td>\n",
       "    </tr>\n",
       "    <tr>\n",
       "      <th>3</th>\n",
       "      <td>681181.0</td>\n",
       "      <td>2020-11-25</td>\n",
       "      <td>320.20</td>\n",
       "      <td>103.5</td>\n",
       "      <td>6.99</td>\n",
       "      <td>NaN</td>\n",
       "    </tr>\n",
       "    <tr>\n",
       "      <th>4</th>\n",
       "      <td>685620.0</td>\n",
       "      <td>2020-12-26</td>\n",
       "      <td>205.99</td>\n",
       "      <td>100.0</td>\n",
       "      <td>6.99</td>\n",
       "      <td>1.99</td>\n",
       "    </tr>\n",
       "    <tr>\n",
       "      <th>5</th>\n",
       "      <td>688270.0</td>\n",
       "      <td>2021-01-20</td>\n",
       "      <td>224.70</td>\n",
       "      <td>109.4</td>\n",
       "      <td>6.99</td>\n",
       "      <td>1.99</td>\n",
       "    </tr>\n",
       "    <tr>\n",
       "      <th>6</th>\n",
       "      <td>692265.0</td>\n",
       "      <td>2021-02-17</td>\n",
       "      <td>205.99</td>\n",
       "      <td>100.0</td>\n",
       "      <td>6.99</td>\n",
       "      <td>1.99</td>\n",
       "    </tr>\n",
       "  </tbody>\n",
       "</table>\n",
       "</div>"
      ],
      "text/plain": [
       "   invoice number transaction date    cost    gal  \\\n",
       "2        676952.0       2020-10-02  117.04   55.3   \n",
       "3        681181.0       2020-11-25  320.20  103.5   \n",
       "4        685620.0       2020-12-26  205.99  100.0   \n",
       "5        688270.0       2021-01-20  224.70  109.4   \n",
       "6        692265.0       2021-02-17  205.99  100.0   \n",
       "\n",
       "   Environmental Compliance Fee  cost per gal  \n",
       "2                          6.99          1.99  \n",
       "3                          6.99           NaN  \n",
       "4                          6.99          1.99  \n",
       "5                          6.99          1.99  \n",
       "6                          6.99          1.99  "
      ]
     },
     "execution_count": 51,
     "metadata": {},
     "output_type": "execute_result"
    }
   ],
   "source": []
  },
  {
   "cell_type": "code",
   "execution_count": 12,
   "metadata": {},
   "outputs": [
    {
     "name": "stdout",
     "output_type": "stream",
     "text": [
      "<class 'pandas.core.series.Series'>\n",
      "\n"
     ]
    },
    {
     "data": {
      "text/plain": [
       "2   2020-10-02\n",
       "3   2020-11-25\n",
       "4   2020-12-26\n",
       "5   2021-01-20\n",
       "6   2021-02-17\n",
       "Name: transaction date, dtype: datetime64[ns]"
      ]
     },
     "execution_count": 12,
     "metadata": {},
     "output_type": "execute_result"
    }
   ],
   "source": [
    "print(type(df['transaction date']))\n",
    "print()\n",
    "df['transaction date']"
   ]
  },
  {
   "cell_type": "code",
   "execution_count": null,
   "metadata": {},
   "outputs": [],
   "source": [
    "# reset index \n"
   ]
  },
  {
   "cell_type": "code",
   "execution_count": null,
   "metadata": {},
   "outputs": [],
   "source": [
    "# convert transaction date to timestamp\n"
   ]
  },
  {
   "cell_type": "code",
   "execution_count": 63,
   "metadata": {
    "collapsed": true,
    "jupyter": {
     "outputs_hidden": true
    }
   },
   "outputs": [
    {
     "ename": "KeyError",
     "evalue": "'gal'",
     "output_type": "error",
     "traceback": [
      "\u001b[0;31m---------------------------------------------------------------------------\u001b[0m",
      "\u001b[0;31mKeyError\u001b[0m                                  Traceback (most recent call last)",
      "\u001b[0;32m~/opt/anaconda3/lib/python3.8/site-packages/pandas/core/indexes/base.py\u001b[0m in \u001b[0;36mget_loc\u001b[0;34m(self, key, method, tolerance)\u001b[0m\n\u001b[1;32m   2645\u001b[0m             \u001b[0;32mtry\u001b[0m\u001b[0;34m:\u001b[0m\u001b[0;34m\u001b[0m\u001b[0;34m\u001b[0m\u001b[0m\n\u001b[0;32m-> 2646\u001b[0;31m                 \u001b[0;32mreturn\u001b[0m \u001b[0mself\u001b[0m\u001b[0;34m.\u001b[0m\u001b[0m_engine\u001b[0m\u001b[0;34m.\u001b[0m\u001b[0mget_loc\u001b[0m\u001b[0;34m(\u001b[0m\u001b[0mkey\u001b[0m\u001b[0;34m)\u001b[0m\u001b[0;34m\u001b[0m\u001b[0;34m\u001b[0m\u001b[0m\n\u001b[0m\u001b[1;32m   2647\u001b[0m             \u001b[0;32mexcept\u001b[0m \u001b[0mKeyError\u001b[0m\u001b[0;34m:\u001b[0m\u001b[0;34m\u001b[0m\u001b[0;34m\u001b[0m\u001b[0m\n",
      "\u001b[0;32mpandas/_libs/index.pyx\u001b[0m in \u001b[0;36mpandas._libs.index.IndexEngine.get_loc\u001b[0;34m()\u001b[0m\n",
      "\u001b[0;32mpandas/_libs/index.pyx\u001b[0m in \u001b[0;36mpandas._libs.index.IndexEngine.get_loc\u001b[0;34m()\u001b[0m\n",
      "\u001b[0;32mpandas/_libs/index_class_helper.pxi\u001b[0m in \u001b[0;36mpandas._libs.index.Int64Engine._check_type\u001b[0;34m()\u001b[0m\n",
      "\u001b[0;31mKeyError\u001b[0m: 'gal'",
      "\nDuring handling of the above exception, another exception occurred:\n",
      "\u001b[0;31mKeyError\u001b[0m                                  Traceback (most recent call last)",
      "\u001b[0;32m<ipython-input-63-a3a1685a139f>\u001b[0m in \u001b[0;36m<module>\u001b[0;34m\u001b[0m\n\u001b[1;32m      1\u001b[0m \u001b[0;31m#\u001b[0m\u001b[0;34m\u001b[0m\u001b[0;34m\u001b[0m\u001b[0;34m\u001b[0m\u001b[0m\n\u001b[1;32m      2\u001b[0m \u001b[0;34m\u001b[0m\u001b[0m\n\u001b[0;32m----> 3\u001b[0;31m \u001b[0mdf\u001b[0m\u001b[0;34m.\u001b[0m\u001b[0mloc\u001b[0m\u001b[0;34m[\u001b[0m\u001b[0;34m'gal'\u001b[0m\u001b[0;34m]\u001b[0m\u001b[0;34m\u001b[0m\u001b[0;34m\u001b[0m\u001b[0m\n\u001b[0m",
      "\u001b[0;32m~/opt/anaconda3/lib/python3.8/site-packages/pandas/core/indexing.py\u001b[0m in \u001b[0;36m__getitem__\u001b[0;34m(self, key)\u001b[0m\n\u001b[1;32m   1766\u001b[0m \u001b[0;34m\u001b[0m\u001b[0m\n\u001b[1;32m   1767\u001b[0m             \u001b[0mmaybe_callable\u001b[0m \u001b[0;34m=\u001b[0m \u001b[0mcom\u001b[0m\u001b[0;34m.\u001b[0m\u001b[0mapply_if_callable\u001b[0m\u001b[0;34m(\u001b[0m\u001b[0mkey\u001b[0m\u001b[0;34m,\u001b[0m \u001b[0mself\u001b[0m\u001b[0;34m.\u001b[0m\u001b[0mobj\u001b[0m\u001b[0;34m)\u001b[0m\u001b[0;34m\u001b[0m\u001b[0;34m\u001b[0m\u001b[0m\n\u001b[0;32m-> 1768\u001b[0;31m             \u001b[0;32mreturn\u001b[0m \u001b[0mself\u001b[0m\u001b[0;34m.\u001b[0m\u001b[0m_getitem_axis\u001b[0m\u001b[0;34m(\u001b[0m\u001b[0mmaybe_callable\u001b[0m\u001b[0;34m,\u001b[0m \u001b[0maxis\u001b[0m\u001b[0;34m=\u001b[0m\u001b[0maxis\u001b[0m\u001b[0;34m)\u001b[0m\u001b[0;34m\u001b[0m\u001b[0;34m\u001b[0m\u001b[0m\n\u001b[0m\u001b[1;32m   1769\u001b[0m \u001b[0;34m\u001b[0m\u001b[0m\n\u001b[1;32m   1770\u001b[0m     \u001b[0;32mdef\u001b[0m \u001b[0m_is_scalar_access\u001b[0m\u001b[0;34m(\u001b[0m\u001b[0mself\u001b[0m\u001b[0;34m,\u001b[0m \u001b[0mkey\u001b[0m\u001b[0;34m:\u001b[0m \u001b[0mTuple\u001b[0m\u001b[0;34m)\u001b[0m\u001b[0;34m:\u001b[0m\u001b[0;34m\u001b[0m\u001b[0;34m\u001b[0m\u001b[0m\n",
      "\u001b[0;32m~/opt/anaconda3/lib/python3.8/site-packages/pandas/core/indexing.py\u001b[0m in \u001b[0;36m_getitem_axis\u001b[0;34m(self, key, axis)\u001b[0m\n\u001b[1;32m   1963\u001b[0m         \u001b[0;31m# fall thru to straight lookup\u001b[0m\u001b[0;34m\u001b[0m\u001b[0;34m\u001b[0m\u001b[0;34m\u001b[0m\u001b[0m\n\u001b[1;32m   1964\u001b[0m         \u001b[0mself\u001b[0m\u001b[0;34m.\u001b[0m\u001b[0m_validate_key\u001b[0m\u001b[0;34m(\u001b[0m\u001b[0mkey\u001b[0m\u001b[0;34m,\u001b[0m \u001b[0maxis\u001b[0m\u001b[0;34m)\u001b[0m\u001b[0;34m\u001b[0m\u001b[0;34m\u001b[0m\u001b[0m\n\u001b[0;32m-> 1965\u001b[0;31m         \u001b[0;32mreturn\u001b[0m \u001b[0mself\u001b[0m\u001b[0;34m.\u001b[0m\u001b[0m_get_label\u001b[0m\u001b[0;34m(\u001b[0m\u001b[0mkey\u001b[0m\u001b[0;34m,\u001b[0m \u001b[0maxis\u001b[0m\u001b[0;34m=\u001b[0m\u001b[0maxis\u001b[0m\u001b[0;34m)\u001b[0m\u001b[0;34m\u001b[0m\u001b[0;34m\u001b[0m\u001b[0m\n\u001b[0m\u001b[1;32m   1966\u001b[0m \u001b[0;34m\u001b[0m\u001b[0m\n\u001b[1;32m   1967\u001b[0m \u001b[0;34m\u001b[0m\u001b[0m\n",
      "\u001b[0;32m~/opt/anaconda3/lib/python3.8/site-packages/pandas/core/indexing.py\u001b[0m in \u001b[0;36m_get_label\u001b[0;34m(self, label, axis)\u001b[0m\n\u001b[1;32m    623\u001b[0m             \u001b[0;32mraise\u001b[0m \u001b[0mIndexingError\u001b[0m\u001b[0;34m(\u001b[0m\u001b[0;34m\"no slices here, handle elsewhere\"\u001b[0m\u001b[0;34m)\u001b[0m\u001b[0;34m\u001b[0m\u001b[0;34m\u001b[0m\u001b[0m\n\u001b[1;32m    624\u001b[0m \u001b[0;34m\u001b[0m\u001b[0m\n\u001b[0;32m--> 625\u001b[0;31m         \u001b[0;32mreturn\u001b[0m \u001b[0mself\u001b[0m\u001b[0;34m.\u001b[0m\u001b[0mobj\u001b[0m\u001b[0;34m.\u001b[0m\u001b[0m_xs\u001b[0m\u001b[0;34m(\u001b[0m\u001b[0mlabel\u001b[0m\u001b[0;34m,\u001b[0m \u001b[0maxis\u001b[0m\u001b[0;34m=\u001b[0m\u001b[0maxis\u001b[0m\u001b[0;34m)\u001b[0m\u001b[0;34m\u001b[0m\u001b[0;34m\u001b[0m\u001b[0m\n\u001b[0m\u001b[1;32m    626\u001b[0m \u001b[0;34m\u001b[0m\u001b[0m\n\u001b[1;32m    627\u001b[0m     \u001b[0;32mdef\u001b[0m \u001b[0m_get_loc\u001b[0m\u001b[0;34m(\u001b[0m\u001b[0mself\u001b[0m\u001b[0;34m,\u001b[0m \u001b[0mkey\u001b[0m\u001b[0;34m:\u001b[0m \u001b[0mint\u001b[0m\u001b[0;34m,\u001b[0m \u001b[0maxis\u001b[0m\u001b[0;34m:\u001b[0m \u001b[0mint\u001b[0m\u001b[0;34m)\u001b[0m\u001b[0;34m:\u001b[0m\u001b[0;34m\u001b[0m\u001b[0;34m\u001b[0m\u001b[0m\n",
      "\u001b[0;32m~/opt/anaconda3/lib/python3.8/site-packages/pandas/core/generic.py\u001b[0m in \u001b[0;36mxs\u001b[0;34m(self, key, axis, level, drop_level)\u001b[0m\n\u001b[1;32m   3535\u001b[0m             \u001b[0mloc\u001b[0m\u001b[0;34m,\u001b[0m \u001b[0mnew_index\u001b[0m \u001b[0;34m=\u001b[0m \u001b[0mself\u001b[0m\u001b[0;34m.\u001b[0m\u001b[0mindex\u001b[0m\u001b[0;34m.\u001b[0m\u001b[0mget_loc_level\u001b[0m\u001b[0;34m(\u001b[0m\u001b[0mkey\u001b[0m\u001b[0;34m,\u001b[0m \u001b[0mdrop_level\u001b[0m\u001b[0;34m=\u001b[0m\u001b[0mdrop_level\u001b[0m\u001b[0;34m)\u001b[0m\u001b[0;34m\u001b[0m\u001b[0;34m\u001b[0m\u001b[0m\n\u001b[1;32m   3536\u001b[0m         \u001b[0;32melse\u001b[0m\u001b[0;34m:\u001b[0m\u001b[0;34m\u001b[0m\u001b[0;34m\u001b[0m\u001b[0m\n\u001b[0;32m-> 3537\u001b[0;31m             \u001b[0mloc\u001b[0m \u001b[0;34m=\u001b[0m \u001b[0mself\u001b[0m\u001b[0;34m.\u001b[0m\u001b[0mindex\u001b[0m\u001b[0;34m.\u001b[0m\u001b[0mget_loc\u001b[0m\u001b[0;34m(\u001b[0m\u001b[0mkey\u001b[0m\u001b[0;34m)\u001b[0m\u001b[0;34m\u001b[0m\u001b[0;34m\u001b[0m\u001b[0m\n\u001b[0m\u001b[1;32m   3538\u001b[0m \u001b[0;34m\u001b[0m\u001b[0m\n\u001b[1;32m   3539\u001b[0m             \u001b[0;32mif\u001b[0m \u001b[0misinstance\u001b[0m\u001b[0;34m(\u001b[0m\u001b[0mloc\u001b[0m\u001b[0;34m,\u001b[0m \u001b[0mnp\u001b[0m\u001b[0;34m.\u001b[0m\u001b[0mndarray\u001b[0m\u001b[0;34m)\u001b[0m\u001b[0;34m:\u001b[0m\u001b[0;34m\u001b[0m\u001b[0;34m\u001b[0m\u001b[0m\n",
      "\u001b[0;32m~/opt/anaconda3/lib/python3.8/site-packages/pandas/core/indexes/base.py\u001b[0m in \u001b[0;36mget_loc\u001b[0;34m(self, key, method, tolerance)\u001b[0m\n\u001b[1;32m   2646\u001b[0m                 \u001b[0;32mreturn\u001b[0m \u001b[0mself\u001b[0m\u001b[0;34m.\u001b[0m\u001b[0m_engine\u001b[0m\u001b[0;34m.\u001b[0m\u001b[0mget_loc\u001b[0m\u001b[0;34m(\u001b[0m\u001b[0mkey\u001b[0m\u001b[0;34m)\u001b[0m\u001b[0;34m\u001b[0m\u001b[0;34m\u001b[0m\u001b[0m\n\u001b[1;32m   2647\u001b[0m             \u001b[0;32mexcept\u001b[0m \u001b[0mKeyError\u001b[0m\u001b[0;34m:\u001b[0m\u001b[0;34m\u001b[0m\u001b[0;34m\u001b[0m\u001b[0m\n\u001b[0;32m-> 2648\u001b[0;31m                 \u001b[0;32mreturn\u001b[0m \u001b[0mself\u001b[0m\u001b[0;34m.\u001b[0m\u001b[0m_engine\u001b[0m\u001b[0;34m.\u001b[0m\u001b[0mget_loc\u001b[0m\u001b[0;34m(\u001b[0m\u001b[0mself\u001b[0m\u001b[0;34m.\u001b[0m\u001b[0m_maybe_cast_indexer\u001b[0m\u001b[0;34m(\u001b[0m\u001b[0mkey\u001b[0m\u001b[0;34m)\u001b[0m\u001b[0;34m)\u001b[0m\u001b[0;34m\u001b[0m\u001b[0;34m\u001b[0m\u001b[0m\n\u001b[0m\u001b[1;32m   2649\u001b[0m         \u001b[0mindexer\u001b[0m \u001b[0;34m=\u001b[0m \u001b[0mself\u001b[0m\u001b[0;34m.\u001b[0m\u001b[0mget_indexer\u001b[0m\u001b[0;34m(\u001b[0m\u001b[0;34m[\u001b[0m\u001b[0mkey\u001b[0m\u001b[0;34m]\u001b[0m\u001b[0;34m,\u001b[0m \u001b[0mmethod\u001b[0m\u001b[0;34m=\u001b[0m\u001b[0mmethod\u001b[0m\u001b[0;34m,\u001b[0m \u001b[0mtolerance\u001b[0m\u001b[0;34m=\u001b[0m\u001b[0mtolerance\u001b[0m\u001b[0;34m)\u001b[0m\u001b[0;34m\u001b[0m\u001b[0;34m\u001b[0m\u001b[0m\n\u001b[1;32m   2650\u001b[0m         \u001b[0;32mif\u001b[0m \u001b[0mindexer\u001b[0m\u001b[0;34m.\u001b[0m\u001b[0mndim\u001b[0m \u001b[0;34m>\u001b[0m \u001b[0;36m1\u001b[0m \u001b[0;32mor\u001b[0m \u001b[0mindexer\u001b[0m\u001b[0;34m.\u001b[0m\u001b[0msize\u001b[0m \u001b[0;34m>\u001b[0m \u001b[0;36m1\u001b[0m\u001b[0;34m:\u001b[0m\u001b[0;34m\u001b[0m\u001b[0;34m\u001b[0m\u001b[0m\n",
      "\u001b[0;32mpandas/_libs/index.pyx\u001b[0m in \u001b[0;36mpandas._libs.index.IndexEngine.get_loc\u001b[0;34m()\u001b[0m\n",
      "\u001b[0;32mpandas/_libs/index.pyx\u001b[0m in \u001b[0;36mpandas._libs.index.IndexEngine.get_loc\u001b[0;34m()\u001b[0m\n",
      "\u001b[0;32mpandas/_libs/index_class_helper.pxi\u001b[0m in \u001b[0;36mpandas._libs.index.Int64Engine._check_type\u001b[0;34m()\u001b[0m\n",
      "\u001b[0;31mKeyError\u001b[0m: 'gal'"
     ]
    }
   ],
   "source": [
    "#  issue why is this not working ?\n",
    "\n",
    "df.loc['gal']"
   ]
  },
  {
   "cell_type": "code",
   "execution_count": null,
   "metadata": {},
   "outputs": [],
   "source": []
  },
  {
   "cell_type": "code",
   "execution_count": 15,
   "metadata": {},
   "outputs": [
    {
     "data": {
      "image/png": "[encoded data removed]",
      "text/plain": [
       "<Figure size 792x504 with 6 Axes>"
      ]
     },
     "metadata": {
      "needs_background": "light"
     },
     "output_type": "display_data"
    }
   ],
   "source": [
    "#\n",
    "\n",
    "df.hist(figsize = (11,7));"
   ]
  },
  {
   "cell_type": "code",
   "execution_count": 18,
   "metadata": {},
   "outputs": [
    {
     "data": {
      "image/png": "[encoded data removed]",
      "text/plain": [
       "<Figure size 792x504 with 1 Axes>"
      ]
     },
     "metadata": {
      "needs_background": "light"
     },
     "output_type": "display_data"
    }
   ],
   "source": [
    "\n",
    "\n",
    "df.plot('transaction date', 'gal', figsize = (11,7));"
   ]
  },
  {
   "cell_type": "markdown",
   "metadata": {},
   "source": [
    "# Weather Station Data\n",
    "<hr />"
   ]
  },
  {
   "cell_type": "markdown",
   "metadata": {},
   "source": [
    ": ---:--- :---:\n",
    "|a|b|x|\n",
    ": ---:--- :---:"
   ]
  },
  {
   "cell_type": "markdown",
   "metadata": {},
   "source": [
    "##  Data Dictory \n",
    "\n",
    "Air Temperature\n",
    "\n",
    "TMAX\tMaximum temperature\n",
    "TMIN\tMinimum temperature\n",
    "TOBS\tTemperature at the time of observation\n",
    "\n",
    "Percipitation\n",
    "\n",
    "DAPR\tNumber of days included in the multiday precipitation total (MDPR)\n",
    "DASF\tNumber of days included in the multiday snow fall total (MDSF)\n",
    "MDPR\tMultiday precipitation total (use with DAPR and DWPR, if available)\n",
    "MDSF\tMultiday snowfall total\n",
    "PRCP\tPrecipitation\n",
    "SNOW\tSnowfall\n",
    "SNWD\tSnow depth\n",
    "\n",
    "Water\n",
    "\n",
    "WESD\tWater equivalent of snow on the ground\n",
    "WESF\tWater equivalent of snowfall\n",
    "\n",
    "Weather Type\n",
    "\n",
    "WT01\tFog, ice fog, or freezing fog (may include heavy fog)\n",
    "WT03\tThunder\n",
    "WT04\tIce pellets, sleet, snow pellets, or small hail\"\n",
    "WT05\tHail (may include small hail)\n",
    "WT06\tGlaze or rime\n",
    "WT08\tSmoke or haze\n",
    "WT09\tBlowing or drifting snow\n",
    "WT10\tTornado, waterspout, or funnel cloud\"\n",
    "WT11\tHigh or damaging winds\n",
    "WT14\tDrizzle\n",
    "WT16\tRain (may include freezing rain, drizzle, and freezing drizzle)\"\n",
    "WT18\tSnow, snow pellets, snow grains, or ice crystals\n",
    "\n",
    "\n"
   ]
  },
  {
   "cell_type": "markdown",
   "metadata": {},
   "source": [
    "## Best version of NOAA data\n",
    "\n",
    "We downloaded the temp data from NOAA in 3 different ways to understand which way is the most complete. "
   ]
  },
  {
   "cell_type": "code",
   "execution_count": 111,
   "metadata": {},
   "outputs": [
    {
     "name": "stdout",
     "output_type": "stream",
     "text": [
      "(2604, 13)\n"
     ]
    }
   ],
   "source": [
    "print(df_.shape)\n",
    "df_['STATION'].nunique()"
   ]
  },
  {
   "cell_type": "code",
   "execution_count": 112,
   "metadata": {},
   "outputs": [
    {
     "name": "stdout",
     "output_type": "stream",
     "text": [
      "(2604, 26)\n"
     ]
    },
    {
     "data": {
      "text/plain": [
       "16"
      ]
     },
     "execution_count": 112,
     "metadata": {},
     "output_type": "execute_result"
    }
   ],
   "source": [
    "# by Ulster \n",
    "\n",
    "print(_df.shape)\n",
    "_df['STATION'].nunique()"
   ]
  },
  {
   "cell_type": "code",
   "execution_count": 114,
   "metadata": {},
   "outputs": [
    {
     "name": "stdout",
     "output_type": "stream",
     "text": [
      "(553, 20)\n"
     ]
    },
    {
     "data": {
      "text/plain": [
       "13"
      ]
     },
     "execution_count": 114,
     "metadata": {},
     "output_type": "execute_result"
    }
   ],
   "source": [
    "print(_df_.shape)\n",
    "_df_['STATION'].nunique()"
   ]
  },
  {
   "cell_type": "markdown",
   "metadata": {},
   "source": [
    "    The last version is the most complete \n",
    "    _df"
   ]
  },
  {
   "cell_type": "code",
   "execution_count": 20,
   "metadata": {},
   "outputs": [
    {
     "data": {
      "text/html": [
       "<div>\n",
       "<style scoped>\n",
       "    .dataframe tbody tr th:only-of-type {\n",
       "        vertical-align: middle;\n",
       "    }\n",
       "\n",
       "    .dataframe tbody tr th {\n",
       "        vertical-align: top;\n",
       "    }\n",
       "\n",
       "    .dataframe thead th {\n",
       "        text-align: right;\n",
       "    }\n",
       "</style>\n",
       "<table border=\"1\" class=\"dataframe\">\n",
       "  <thead>\n",
       "    <tr style=\"text-align: right;\">\n",
       "      <th></th>\n",
       "      <th>589</th>\n",
       "      <th>1990</th>\n",
       "      <th>1841</th>\n",
       "    </tr>\n",
       "  </thead>\n",
       "  <tbody>\n",
       "    <tr>\n",
       "      <th>STATION</th>\n",
       "      <td>US1NYUL0032</td>\n",
       "      <td>US1NYUL0028</td>\n",
       "      <td>USC00306570</td>\n",
       "    </tr>\n",
       "    <tr>\n",
       "      <th>NAME</th>\n",
       "      <td>ESOPUS 0.8 NNE, NY US</td>\n",
       "      <td>KERHONKSON 3.7 N, NY US</td>\n",
       "      <td>PHONECIA 2 SW, NY US</td>\n",
       "    </tr>\n",
       "    <tr>\n",
       "      <th>LATITUDE</th>\n",
       "      <td>41.8385</td>\n",
       "      <td>41.8321</td>\n",
       "      <td>42.0674</td>\n",
       "    </tr>\n",
       "    <tr>\n",
       "      <th>LONGITUDE</th>\n",
       "      <td>-73.9588</td>\n",
       "      <td>-74.3012</td>\n",
       "      <td>-74.3356</td>\n",
       "    </tr>\n",
       "    <tr>\n",
       "      <th>ELEVATION</th>\n",
       "      <td>49.4</td>\n",
       "      <td>273.1</td>\n",
       "      <td>323.1</td>\n",
       "    </tr>\n",
       "    <tr>\n",
       "      <th>DATE</th>\n",
       "      <td>2020-09-04</td>\n",
       "      <td>2020-09-15</td>\n",
       "      <td>2020-09-19</td>\n",
       "    </tr>\n",
       "    <tr>\n",
       "      <th>DAPR</th>\n",
       "      <td>NaN</td>\n",
       "      <td>NaN</td>\n",
       "      <td>NaN</td>\n",
       "    </tr>\n",
       "    <tr>\n",
       "      <th>DAPR_ATTRIBUTES</th>\n",
       "      <td>NaN</td>\n",
       "      <td>NaN</td>\n",
       "      <td>NaN</td>\n",
       "    </tr>\n",
       "    <tr>\n",
       "      <th>MDPR</th>\n",
       "      <td>NaN</td>\n",
       "      <td>NaN</td>\n",
       "      <td>NaN</td>\n",
       "    </tr>\n",
       "    <tr>\n",
       "      <th>MDPR_ATTRIBUTES</th>\n",
       "      <td>NaN</td>\n",
       "      <td>NaN</td>\n",
       "      <td>NaN</td>\n",
       "    </tr>\n",
       "    <tr>\n",
       "      <th>PRCP</th>\n",
       "      <td>0</td>\n",
       "      <td>0</td>\n",
       "      <td>0</td>\n",
       "    </tr>\n",
       "    <tr>\n",
       "      <th>PRCP_ATTRIBUTES</th>\n",
       "      <td>T,,N</td>\n",
       "      <td>,,N</td>\n",
       "      <td>,,7,0700</td>\n",
       "    </tr>\n",
       "    <tr>\n",
       "      <th>SNOW</th>\n",
       "      <td>NaN</td>\n",
       "      <td>0</td>\n",
       "      <td>0</td>\n",
       "    </tr>\n",
       "    <tr>\n",
       "      <th>SNOW_ATTRIBUTES</th>\n",
       "      <td>NaN</td>\n",
       "      <td>,,N</td>\n",
       "      <td>,,7,0700</td>\n",
       "    </tr>\n",
       "    <tr>\n",
       "      <th>SNWD</th>\n",
       "      <td>NaN</td>\n",
       "      <td>NaN</td>\n",
       "      <td>0</td>\n",
       "    </tr>\n",
       "    <tr>\n",
       "      <th>SNWD_ATTRIBUTES</th>\n",
       "      <td>NaN</td>\n",
       "      <td>NaN</td>\n",
       "      <td>,,7,0700</td>\n",
       "    </tr>\n",
       "    <tr>\n",
       "      <th>TMAX</th>\n",
       "      <td>NaN</td>\n",
       "      <td>NaN</td>\n",
       "      <td>NaN</td>\n",
       "    </tr>\n",
       "    <tr>\n",
       "      <th>TMAX_ATTRIBUTES</th>\n",
       "      <td>NaN</td>\n",
       "      <td>NaN</td>\n",
       "      <td>NaN</td>\n",
       "    </tr>\n",
       "    <tr>\n",
       "      <th>TMIN</th>\n",
       "      <td>NaN</td>\n",
       "      <td>NaN</td>\n",
       "      <td>NaN</td>\n",
       "    </tr>\n",
       "    <tr>\n",
       "      <th>TMIN_ATTRIBUTES</th>\n",
       "      <td>NaN</td>\n",
       "      <td>NaN</td>\n",
       "      <td>NaN</td>\n",
       "    </tr>\n",
       "    <tr>\n",
       "      <th>TOBS</th>\n",
       "      <td>NaN</td>\n",
       "      <td>NaN</td>\n",
       "      <td>NaN</td>\n",
       "    </tr>\n",
       "    <tr>\n",
       "      <th>TOBS_ATTRIBUTES</th>\n",
       "      <td>NaN</td>\n",
       "      <td>NaN</td>\n",
       "      <td>NaN</td>\n",
       "    </tr>\n",
       "    <tr>\n",
       "      <th>WESD</th>\n",
       "      <td>NaN</td>\n",
       "      <td>NaN</td>\n",
       "      <td>NaN</td>\n",
       "    </tr>\n",
       "    <tr>\n",
       "      <th>WESD_ATTRIBUTES</th>\n",
       "      <td>NaN</td>\n",
       "      <td>NaN</td>\n",
       "      <td>NaN</td>\n",
       "    </tr>\n",
       "    <tr>\n",
       "      <th>WESF</th>\n",
       "      <td>NaN</td>\n",
       "      <td>NaN</td>\n",
       "      <td>NaN</td>\n",
       "    </tr>\n",
       "    <tr>\n",
       "      <th>WESF_ATTRIBUTES</th>\n",
       "      <td>NaN</td>\n",
       "      <td>NaN</td>\n",
       "      <td>NaN</td>\n",
       "    </tr>\n",
       "  </tbody>\n",
       "</table>\n",
       "</div>"
      ],
      "text/plain": [
       "                                  589                      1990  \\\n",
       "STATION                    US1NYUL0032              US1NYUL0028   \n",
       "NAME             ESOPUS 0.8 NNE, NY US  KERHONKSON 3.7 N, NY US   \n",
       "LATITUDE                       41.8385                  41.8321   \n",
       "LONGITUDE                     -73.9588                 -74.3012   \n",
       "ELEVATION                         49.4                    273.1   \n",
       "DATE                        2020-09-04               2020-09-15   \n",
       "DAPR                               NaN                      NaN   \n",
       "DAPR_ATTRIBUTES                    NaN                      NaN   \n",
       "MDPR                               NaN                      NaN   \n",
       "MDPR_ATTRIBUTES                    NaN                      NaN   \n",
       "PRCP                                 0                        0   \n",
       "PRCP_ATTRIBUTES                   T,,N                      ,,N   \n",
       "SNOW                               NaN                        0   \n",
       "SNOW_ATTRIBUTES                    NaN                      ,,N   \n",
       "SNWD                               NaN                      NaN   \n",
       "SNWD_ATTRIBUTES                    NaN                      NaN   \n",
       "TMAX                               NaN                      NaN   \n",
       "TMAX_ATTRIBUTES                    NaN                      NaN   \n",
       "TMIN                               NaN                      NaN   \n",
       "TMIN_ATTRIBUTES                    NaN                      NaN   \n",
       "TOBS                               NaN                      NaN   \n",
       "TOBS_ATTRIBUTES                    NaN                      NaN   \n",
       "WESD                               NaN                      NaN   \n",
       "WESD_ATTRIBUTES                    NaN                      NaN   \n",
       "WESF                               NaN                      NaN   \n",
       "WESF_ATTRIBUTES                    NaN                      NaN   \n",
       "\n",
       "                                 1841  \n",
       "STATION                   USC00306570  \n",
       "NAME             PHONECIA 2 SW, NY US  \n",
       "LATITUDE                      42.0674  \n",
       "LONGITUDE                    -74.3356  \n",
       "ELEVATION                       323.1  \n",
       "DATE                       2020-09-19  \n",
       "DAPR                              NaN  \n",
       "DAPR_ATTRIBUTES                   NaN  \n",
       "MDPR                              NaN  \n",
       "MDPR_ATTRIBUTES                   NaN  \n",
       "PRCP                                0  \n",
       "PRCP_ATTRIBUTES              ,,7,0700  \n",
       "SNOW                                0  \n",
       "SNOW_ATTRIBUTES              ,,7,0700  \n",
       "SNWD                                0  \n",
       "SNWD_ATTRIBUTES              ,,7,0700  \n",
       "TMAX                              NaN  \n",
       "TMAX_ATTRIBUTES                   NaN  \n",
       "TMIN                              NaN  \n",
       "TMIN_ATTRIBUTES                   NaN  \n",
       "TOBS                              NaN  \n",
       "TOBS_ATTRIBUTES                   NaN  \n",
       "WESD                              NaN  \n",
       "WESD_ATTRIBUTES                   NaN  \n",
       "WESF                              NaN  \n",
       "WESF_ATTRIBUTES                   NaN  "
      ]
     },
     "execution_count": 20,
     "metadata": {},
     "output_type": "execute_result"
    }
   ],
   "source": [
    "# the data  \n",
    "\n",
    "_df.sample(3).T"
   ]
  },
  {
   "cell_type": "markdown",
   "metadata": {},
   "source": [
    "? what are the attributes columns?\n"
   ]
  },
  {
   "cell_type": "code",
   "execution_count": 23,
   "metadata": {},
   "outputs": [
    {
     "data": {
      "text/plain": [
       "16"
      ]
     },
     "execution_count": 23,
     "metadata": {},
     "output_type": "execute_result"
    }
   ],
   "source": [
    "# how many observations centers are being used \n",
    "\n",
    "_df['STATION'].nunique()"
   ]
  },
  {
   "cell_type": "code",
   "execution_count": 24,
   "metadata": {},
   "outputs": [
    {
     "data": {
      "text/plain": [
       "array(['US1NYUL0015', 'US1NYUL0016', 'US1NYUL0019', 'US1NYUL0020',\n",
       "       'US1NYUL0021', 'US1NYUL0022', 'US1NYUL0023', 'US1NYUL0026',\n",
       "       'US1NYUL0028', 'US1NYUL0029', 'US1NYUL0031', 'US1NYUL0032',\n",
       "       'US1NYUL0034', 'USC00305426', 'USC00306570', 'USC00307274'],\n",
       "      dtype=object)"
      ]
     },
     "execution_count": 24,
     "metadata": {},
     "output_type": "execute_result"
    }
   ],
   "source": [
    "# names of stations\n",
    "\n",
    "np.unique(_df['STATION'])"
   ]
  },
  {
   "cell_type": "code",
   "execution_count": 33,
   "metadata": {},
   "outputs": [
    {
     "data": {
      "text/html": [
       "<div>\n",
       "<style scoped>\n",
       "    .dataframe tbody tr th:only-of-type {\n",
       "        vertical-align: middle;\n",
       "    }\n",
       "\n",
       "    .dataframe tbody tr th {\n",
       "        vertical-align: top;\n",
       "    }\n",
       "\n",
       "    .dataframe thead th {\n",
       "        text-align: right;\n",
       "    }\n",
       "</style>\n",
       "<table border=\"1\" class=\"dataframe\">\n",
       "  <thead>\n",
       "    <tr style=\"text-align: right;\">\n",
       "      <th></th>\n",
       "      <th></th>\n",
       "      <th>count</th>\n",
       "      <th>mean</th>\n",
       "    </tr>\n",
       "    <tr>\n",
       "      <th>STATION</th>\n",
       "      <th>NAME</th>\n",
       "      <th></th>\n",
       "      <th></th>\n",
       "    </tr>\n",
       "  </thead>\n",
       "  <tbody>\n",
       "    <tr>\n",
       "      <th>US1NYUL0015</th>\n",
       "      <th>STONE RIDGE 0.7 N, NY US</th>\n",
       "      <td>0</td>\n",
       "      <td>NaN</td>\n",
       "    </tr>\n",
       "    <tr>\n",
       "      <th>US1NYUL0016</th>\n",
       "      <th>ROSENDALE VILLAGE 1.8 WNW, NY US</th>\n",
       "      <td>0</td>\n",
       "      <td>NaN</td>\n",
       "    </tr>\n",
       "    <tr>\n",
       "      <th>US1NYUL0019</th>\n",
       "      <th>WOODSTOCK 0.8 ENE, NY US</th>\n",
       "      <td>0</td>\n",
       "      <td>NaN</td>\n",
       "    </tr>\n",
       "    <tr>\n",
       "      <th>US1NYUL0020</th>\n",
       "      <th>ULSTER PARK 0.9 NNW, NY US</th>\n",
       "      <td>0</td>\n",
       "      <td>NaN</td>\n",
       "    </tr>\n",
       "    <tr>\n",
       "      <th>US1NYUL0021</th>\n",
       "      <th>STONE RIDGE 0.5 WNW, NY US</th>\n",
       "      <td>0</td>\n",
       "      <td>NaN</td>\n",
       "    </tr>\n",
       "    <tr>\n",
       "      <th>US1NYUL0022</th>\n",
       "      <th>KINGSTON 2.1 N, NY US</th>\n",
       "      <td>0</td>\n",
       "      <td>NaN</td>\n",
       "    </tr>\n",
       "    <tr>\n",
       "      <th>US1NYUL0023</th>\n",
       "      <th>WEST HURLEY 0.1 S, NY US</th>\n",
       "      <td>0</td>\n",
       "      <td>NaN</td>\n",
       "    </tr>\n",
       "    <tr>\n",
       "      <th>US1NYUL0026</th>\n",
       "      <th>GARDINER 1.3 WNW, NY US</th>\n",
       "      <td>0</td>\n",
       "      <td>NaN</td>\n",
       "    </tr>\n",
       "    <tr>\n",
       "      <th>US1NYUL0028</th>\n",
       "      <th>KERHONKSON 3.7 N, NY US</th>\n",
       "      <td>0</td>\n",
       "      <td>NaN</td>\n",
       "    </tr>\n",
       "    <tr>\n",
       "      <th>US1NYUL0029</th>\n",
       "      <th>HIGHLAND 0.2 SW, NY US</th>\n",
       "      <td>0</td>\n",
       "      <td>NaN</td>\n",
       "    </tr>\n",
       "    <tr>\n",
       "      <th>US1NYUL0031</th>\n",
       "      <th>HURLEY 2.2 S, NY US</th>\n",
       "      <td>0</td>\n",
       "      <td>NaN</td>\n",
       "    </tr>\n",
       "    <tr>\n",
       "      <th>US1NYUL0032</th>\n",
       "      <th>ESOPUS 0.8 NNE, NY US</th>\n",
       "      <td>0</td>\n",
       "      <td>NaN</td>\n",
       "    </tr>\n",
       "    <tr>\n",
       "      <th>US1NYUL0034</th>\n",
       "      <th>WALLKILL 3.7 E, NY US</th>\n",
       "      <td>0</td>\n",
       "      <td>NaN</td>\n",
       "    </tr>\n",
       "    <tr>\n",
       "      <th>USC00305426</th>\n",
       "      <th>MOHONK LAKE, NY US</th>\n",
       "      <td>31</td>\n",
       "      <td>80.548387</td>\n",
       "    </tr>\n",
       "    <tr>\n",
       "      <th>USC00306570</th>\n",
       "      <th>PHONECIA 2 SW, NY US</th>\n",
       "      <td>0</td>\n",
       "      <td>NaN</td>\n",
       "    </tr>\n",
       "    <tr>\n",
       "      <th>USC00307274</th>\n",
       "      <th>ROSENDALE 2 E, NY US</th>\n",
       "      <td>0</td>\n",
       "      <td>NaN</td>\n",
       "    </tr>\n",
       "  </tbody>\n",
       "</table>\n",
       "</div>"
      ],
      "text/plain": [
       "                                              count       mean\n",
       "STATION     NAME                                              \n",
       "US1NYUL0015 STONE RIDGE 0.7 N, NY US              0        NaN\n",
       "US1NYUL0016 ROSENDALE VILLAGE 1.8 WNW, NY US      0        NaN\n",
       "US1NYUL0019 WOODSTOCK 0.8 ENE, NY US              0        NaN\n",
       "US1NYUL0020 ULSTER PARK 0.9 NNW, NY US            0        NaN\n",
       "US1NYUL0021 STONE RIDGE 0.5 WNW, NY US            0        NaN\n",
       "US1NYUL0022 KINGSTON 2.1 N, NY US                 0        NaN\n",
       "US1NYUL0023 WEST HURLEY 0.1 S, NY US              0        NaN\n",
       "US1NYUL0026 GARDINER 1.3 WNW, NY US               0        NaN\n",
       "US1NYUL0028 KERHONKSON 3.7 N, NY US               0        NaN\n",
       "US1NYUL0029 HIGHLAND 0.2 SW, NY US                0        NaN\n",
       "US1NYUL0031 HURLEY 2.2 S, NY US                   0        NaN\n",
       "US1NYUL0032 ESOPUS 0.8 NNE, NY US                 0        NaN\n",
       "US1NYUL0034 WALLKILL 3.7 E, NY US                 0        NaN\n",
       "USC00305426 MOHONK LAKE, NY US                   31  80.548387\n",
       "USC00306570 PHONECIA 2 SW, NY US                  0        NaN\n",
       "USC00307274 ROSENDALE 2 E, NY US                  0        NaN"
      ]
     },
     "execution_count": 33,
     "metadata": {},
     "output_type": "execute_result"
    }
   ],
   "source": [
    "# list of stations and count of data they have\n",
    "\n",
    "_df.groupby(['STATION','NAME'])['TOBS'].agg(['count', 'mean'])"
   ]
  },
  {
   "cell_type": "markdown",
   "metadata": {},
   "source": [
    "Only one station, #USC00305426 in Mohonk Lake, NY has a record of temperature.   "
   ]
  },
  {
   "cell_type": "code",
   "execution_count": 39,
   "metadata": {},
   "outputs": [
    {
     "data": {
      "text/plain": [
       "0     2020-08-01\n",
       "1     2020-08-02\n",
       "2     2020-08-03\n",
       "3     2020-08-04\n",
       "4     2020-08-05\n",
       "5     2020-08-06\n",
       "6     2020-08-07\n",
       "7     2020-08-08\n",
       "8     2020-08-09\n",
       "9     2020-08-10\n",
       "10    2020-08-11\n",
       "11    2020-08-12\n",
       "12    2020-08-13\n",
       "13    2020-08-14\n",
       "14    2020-08-15\n",
       "15    2020-08-16\n",
       "16    2020-08-17\n",
       "17    2020-08-18\n",
       "18    2020-08-19\n",
       "19    2020-08-20\n",
       "20    2020-08-21\n",
       "21    2020-08-22\n",
       "22    2020-08-23\n",
       "23    2020-08-24\n",
       "24    2020-08-25\n",
       "25    2020-08-26\n",
       "26    2020-08-27\n",
       "27    2020-08-28\n",
       "28    2020-08-29\n",
       "29    2020-08-30\n",
       "30    2020-08-31\n",
       "Name: DATE, dtype: object"
      ]
     },
     "execution_count": 39,
     "metadata": {},
     "output_type": "execute_result"
    }
   ],
   "source": [
    "# inspect the info from #USC00305426 in Mohonk Lake, NY\n",
    "\n",
    "_df[_df['STATION'] == 'USC00305426']['DATE']"
   ]
  },
  {
   "cell_type": "markdown",
   "metadata": {},
   "source": [
    "     Temp Recordings for Mohonk Lake station where only done in Aug, not in the other months\n",
    "\n"
   ]
  },
  {
   "cell_type": "markdown",
   "metadata": {},
   "source": [
    "## _df_"
   ]
  },
  {
   "cell_type": "code",
   "execution_count": null,
   "metadata": {},
   "outputs": [],
   "source": []
  }
 ],
 "metadata": {
  "kernelspec": {
   "display_name": "Python 3",
   "language": "python",
   "name": "python3"
  },
  "language_info": {
   "codemirror_mode": {
    "name": "ipython",
    "version": 3
   },
   "file_extension": ".py",
   "mimetype": "text/x-python",
   "name": "python",
   "nbconvert_exporter": "python",
   "pygments_lexer": "ipython3",
   "version": "3.8.2"
  }
 },
 "nbformat": 4,
 "nbformat_minor": 4
}
