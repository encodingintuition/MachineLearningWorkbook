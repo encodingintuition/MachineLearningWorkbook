{
 "cells": [
  {
   "cell_type": "markdown",
   "metadata": {},
   "source": [
    "# README\n",
    "<hr/>"
   ]
  },
  {
   "cell_type": "markdown",
   "metadata": {},
   "source": [
    "### Temp data from \n",
    "\n",
    "https://power.larc.nasa.gov/data-access-viewer/"
   ]
  },
  {
   "cell_type": "markdown",
   "metadata": {},
   "source": [
    "### Temp Data Specs\n",
    "\n",
    "NASA/POWER SRB/FLASHFlux/MERRA2/GEOS 5.12.4 (FP-IT) 0.5 x 0.5 Degree Daily Averaged Data \t\t\t\t\t\t\t\t\t\t\n",
    "Dates (month/day/year): 08/01/2020 through 02/25/2021 \t\t\t\t\t\t\t\t\t\t\n",
    "Location: Latitude  41.7745   Longitude -74.2773 \t\t\t\t\t\t\t\t\t\t\n",
    "Elevation from MERRA-2: Average for 1/2x1/2 degree lat/lon region = 339.04 meters   Site = na \t\t\t\t\t\t\t\t\t\t\n",
    "Climate zone: na (reference Briggs et al: http://www.energycodes.gov) \t\t\t\t\t\t\t\t\t\t\n",
    "Value for missing model data cannot be computed or out of model availability range: -999 \t\t\t\t\t\t\t\t\t\t\n",
    "Parameter(s): \t\t\t\t\t\t\t\t\t\t\n"
   ]
  },
  {
   "cell_type": "markdown",
   "metadata": {},
   "source": [
    "### Data Dictonary for Temp data\n",
    "\n",
    "T2M_RANGE MERRA2 1/2x1/2 Temperature Range at 2 Meters (C) \t\t\t\t\t\t\t\n",
    "T2M_MAX MERRA2 1/2x1/2 Maximum Temperature at 2 Meters (C) \t\t\t\t\t\t\t\n",
    "T2M_MIN MERRA2 1/2x1/2 Minimum Temperature at 2 Meters (C) \t\t\t\t\t\t\t\n",
    "T2M MERRA2 1/2x1/2 Temperature at 2 Meters (C) \t\t\t\t\t\t\t\n",
    "TS MERRA2 1/2x1/2 Earth Skin Temperature (C) \t\t\t\t\t\t\t\n",
    "T2MDEW MERRA2 1/2x1/2 Dew/Frost Point at 2 Meters (C) \t\t\t\t\t\t\t\n",
    "T2MWET MERRA2 1/2x1/2 Wet Bulb Temperature at 2 Meters (C) \t\t\t\t\t\t\t\n"
   ]
  },
  {
   "cell_type": "code",
   "execution_count": null,
   "metadata": {},
   "outputs": [],
   "source": []
  }
 ],
 "metadata": {
  "kernelspec": {
   "display_name": "Python 3",
   "language": "python",
   "name": "python3"
  },
  "language_info": {
   "codemirror_mode": {
    "name": "ipython",
    "version": 3
   },
   "file_extension": ".py",
   "mimetype": "text/x-python",
   "name": "python",
   "nbconvert_exporter": "python",
   "pygments_lexer": "ipython3",
   "version": "3.8.2"
  }
 },
 "nbformat": 4,
 "nbformat_minor": 4
}
