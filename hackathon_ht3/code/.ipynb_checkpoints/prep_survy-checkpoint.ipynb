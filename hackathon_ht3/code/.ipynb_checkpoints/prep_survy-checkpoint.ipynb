{
 "cells": [
  {
   "cell_type": "markdown",
   "metadata": {},
   "source": [
    "# Post-pandemic travel lodging\n",
    "<hr/>\n"
   ]
  },
  {
   "cell_type": "code",
   "execution_count": 54,
   "metadata": {},
   "outputs": [
    {
     "data": {
      "image/png": "[encoded data removed]",
      "text/plain": [
       "<Figure size 432x72 with 1 Axes>"
      ]
     },
     "metadata": {
      "needs_background": "light"
     },
     "output_type": "display_data"
    }
   ],
   "source": [
    "sns.palplot(sns.cubehelix_palette())"
   ]
  },
  {
   "cell_type": "code",
   "execution_count": 55,
   "metadata": {},
   "outputs": [
    {
     "data": {
      "image/png": "[encoded data removed]",
      "text/plain": [
       "<Figure size 432x72 with 1 Axes>"
      ]
     },
     "metadata": {
      "needs_background": "light"
     },
     "output_type": "display_data"
    }
   ],
   "source": [
    "sns.palplot(sns.cubehelix_palette(start=2.8, rot=.1))"
   ]
  },
  {
   "cell_type": "code",
   "execution_count": 77,
   "metadata": {},
   "outputs": [],
   "source": [
    "# Libaries \n",
    "import rpy2\n",
    "\n",
    "import pandas as pd\n",
    "import seaborn as sns; sns.set_theme()\n",
    "sns.set_style('ticks')\n",
    "\n",
    "import matplotlib.pyplot as plt\n",
    "%matplotlib inline\n",
    "\n",
    "# NLP algorithms\n",
    "from sklearn.feature_extraction.text import CountVectorizer\n",
    "from vaderSentiment.vaderSentiment import SentimentIntensityAnalyzer"
   ]
  },
  {
   "cell_type": "code",
   "execution_count": 40,
   "metadata": {},
   "outputs": [],
   "source": [
    "# %load_ext rpy2.ipython"
   ]
  },
  {
   "cell_type": "markdown",
   "metadata": {},
   "source": [
    "# data DICT\n",
    "|---|---|\n",
    "|:---:|:"
   ]
  },
  {
   "cell_type": "markdown",
   "metadata": {},
   "source": [
    "# Content\n",
    "\n",
    "- [Data Ingestion](#Data-Ingestion)\n",
    "- [Functions](#Functions)\n",
    "- [EDA](#EDA)\n",
    "    - [Age](#Age)\n",
    "    - [Zipcode](#zipcode)\n",
    "    - [How often do you usually travel per year?](#How-often-do-you-usually-travel-per-year?)\n",
    "    - [What type of lodging do you most often stay at?](#What-type-of-lodging-do-you-most-often-stay-at?)\n",
    "    - [Who do you usually travel with?](#Who-do-you-usually-travel-with?)\n",
    "    - [How many people do you travel with?](#How-many-people-do-you-travel-with?)\n",
    "    - [Do you prefer to use an app or website when booking your travel accommodations?](#Do-you-prefer-to-use-an-app-or-website-when-booking-your-travel-accommodations?)\n",
    "    - [Have you travelled during the pandemic?](#Have-you-travelled-during-the-pandemic?)\n",
    "    - [If YES,  what type of lodging did you stay at and why?](#If-YES,--what-type-of-lodging-did-you-stay-at-and-why?)\n",
    "    - [If YES,  did you have any concerns or difficulties during your stay in relation to COVID?](#If-YES,--did-you-have-any-concerns-or-difficulties-during-your-stay-in-relation-to-COVID?)\n",
    "    - [Why do you typically choose that lodging option?](#Why-do-you-typically-choose-that-lodging-option?)\n",
    "    - [\"Bed and Breakfast\", what comes to mind](#\"Bed-and-Breakfast\",-what-comes-to-mind)\n",
    "    - [How do you typically find places to stay at while traveling? (rank from 1-4)](#How-do-you-typically-find-places-to-stay-at-while-traveling?-(rank-from-1-4))\n",
    "    - [# When you book a vacation, what matters to you? (rank from 1-6)](#When-you-book-a-vacation,-what-matters-to-you?-(rank-from-1-6))"
   ]
  },
  {
   "cell_type": "markdown",
   "metadata": {},
   "source": [
    "Subsets of survey\n"
   ]
  },
  {
   "cell_type": "markdown",
   "metadata": {},
   "source": [
    "# Data Ingestion \n",
    "<hr>"
   ]
  },
  {
   "cell_type": "code",
   "execution_count": 3,
   "metadata": {},
   "outputs": [
    {
     "name": "stdout",
     "output_type": "stream",
     "text": [
      "(32, 23)\n"
     ]
    },
    {
     "data": {
      "text/html": [
       "<div>\n",
       "<style scoped>\n",
       "    .dataframe tbody tr th:only-of-type {\n",
       "        vertical-align: middle;\n",
       "    }\n",
       "\n",
       "    .dataframe tbody tr th {\n",
       "        vertical-align: top;\n",
       "    }\n",
       "\n",
       "    .dataframe thead th {\n",
       "        text-align: right;\n",
       "    }\n",
       "</style>\n",
       "<table border=\"1\" class=\"dataframe\">\n",
       "  <thead>\n",
       "    <tr style=\"text-align: right;\">\n",
       "      <th></th>\n",
       "      <th>Timestamp</th>\n",
       "      <th>What is your age?</th>\n",
       "      <th>What is your home zip code?</th>\n",
       "      <th>When you hear the term \"bed and breakfast\", what comes to mind?</th>\n",
       "      <th>How often do you usually travel?</th>\n",
       "      <th>What type of lodging do you most often stay at when you travel?</th>\n",
       "      <th>Why do you typically choose that lodging option?</th>\n",
       "      <th>Who do you usually travel with?</th>\n",
       "      <th>How many people do you travel with?</th>\n",
       "      <th>How do you typically find places to stay at while traveling? Please rank from 1-4, with 4 being the method you rely on most. [Recommendations from friends/family]</th>\n",
       "      <th>...</th>\n",
       "      <th>Do you prefer to use an app or website when booking your travel accommodations?</th>\n",
       "      <th>When you book a vacation, what matters to you? Please rank from 1-6, with 6 being most important. [Tours and excursions]</th>\n",
       "      <th>When you book a vacation, what matters to you? Please rank from 1-6, with 6 being most important. [Food/Restaurants/Bars]</th>\n",
       "      <th>When you book a vacation, what matters to you? Please rank from 1-6, with 6 being most important. [Relaxation]</th>\n",
       "      <th>When you book a vacation, what matters to you? Please rank from 1-6, with 6 being most important. [Shopping]</th>\n",
       "      <th>When you book a vacation, what matters to you? Please rank from 1-6, with 6 being most important. [Meeting new people]</th>\n",
       "      <th>When you book a vacation, what matters to you? Please rank from 1-6, with 6 being most important. [Immersing yourself in a new place]</th>\n",
       "      <th>Have you travelled during the pandemic?</th>\n",
       "      <th>If you travelled during the pandemic, what type of lodging did you stay at and why?</th>\n",
       "      <th>If you travelled during the pandemic, did you have any concerns or difficulties during your stay in relation to COVID? If so, what were they?</th>\n",
       "    </tr>\n",
       "  </thead>\n",
       "  <tbody>\n",
       "    <tr>\n",
       "      <th>0</th>\n",
       "      <td>2021-03-23 15:38:11.493</td>\n",
       "      <td>34.0</td>\n",
       "      <td>10514.0</td>\n",
       "      <td>Charming vacation</td>\n",
       "      <td>2</td>\n",
       "      <td>Hotel</td>\n",
       "      <td>Experience. Know what to expect</td>\n",
       "      <td>With family</td>\n",
       "      <td>3-4 people</td>\n",
       "      <td>1</td>\n",
       "      <td>...</td>\n",
       "      <td>Website</td>\n",
       "      <td>6</td>\n",
       "      <td>4</td>\n",
       "      <td>3</td>\n",
       "      <td>1</td>\n",
       "      <td>2</td>\n",
       "      <td>5</td>\n",
       "      <td>Yes</td>\n",
       "      <td>Hotel for ease/safe</td>\n",
       "      <td>No</td>\n",
       "    </tr>\n",
       "  </tbody>\n",
       "</table>\n",
       "<p>1 rows × 23 columns</p>\n",
       "</div>"
      ],
      "text/plain": [
       "                Timestamp  What is your age?  What is your home zip code?  \\\n",
       "0 2021-03-23 15:38:11.493               34.0                      10514.0   \n",
       "\n",
       "  When you hear the term \"bed and breakfast\", what comes to mind?  \\\n",
       "0                                 Charming vacation                 \n",
       "\n",
       "   How often do you usually travel?  \\\n",
       "0                                 2   \n",
       "\n",
       "  What type of lodging do you most often stay at when you travel?   \\\n",
       "0                                              Hotel                 \n",
       "\n",
       "  Why do you typically choose that lodging option?  \\\n",
       "0                  Experience. Know what to expect   \n",
       "\n",
       "  Who do you usually travel with? How many people do you travel with?  \\\n",
       "0                     With family                          3-4 people   \n",
       "\n",
       "   How do you typically find places to stay at while traveling? Please rank from 1-4, with 4 being the method you rely on most. [Recommendations from friends/family]  \\\n",
       "0                                                  1                                                                                                                    \n",
       "\n",
       "   ...  \\\n",
       "0  ...   \n",
       "\n",
       "   Do you prefer to use an app or website when booking your travel accommodations?  \\\n",
       "0                                            Website                                 \n",
       "\n",
       "   When you book a vacation, what matters to you? Please rank from 1-6, with 6 being most important. [Tours and excursions]  \\\n",
       "0                                                  6                                                                          \n",
       "\n",
       "   When you book a vacation, what matters to you? Please rank from 1-6, with 6 being most important. [Food/Restaurants/Bars]  \\\n",
       "0                                                  4                                                                           \n",
       "\n",
       "  When you book a vacation, what matters to you? Please rank from 1-6, with 6 being most important. [Relaxation]  \\\n",
       "0                                                  3                                                               \n",
       "\n",
       "   When you book a vacation, what matters to you? Please rank from 1-6, with 6 being most important. [Shopping]  \\\n",
       "0                                                  1                                                              \n",
       "\n",
       "   When you book a vacation, what matters to you? Please rank from 1-6, with 6 being most important. [Meeting new people]  \\\n",
       "0                                                  2                                                                        \n",
       "\n",
       "   When you book a vacation, what matters to you? Please rank from 1-6, with 6 being most important. [Immersing yourself in a new place]  \\\n",
       "0                                                  5                                                                                       \n",
       "\n",
       "   Have you travelled during the pandemic?  \\\n",
       "0                                      Yes   \n",
       "\n",
       "   If you travelled during the pandemic, what type of lodging did you stay at and why?  \\\n",
       "0                                Hotel for ease/safe                                     \n",
       "\n",
       "   If you travelled during the pandemic, did you have any concerns or difficulties during your stay in relation to COVID? If so, what were they?  \n",
       "0                                                 No                                                                                              \n",
       "\n",
       "[1 rows x 23 columns]"
      ]
     },
     "execution_count": 3,
     "metadata": {},
     "output_type": "execute_result"
    }
   ],
   "source": [
    "# read Survey \n",
    "\n",
    "df1 = pd.read_excel('../data/Post-pandemic_travel_lodging-1.xlsx', head = None )\n",
    "print(df1.shape)\n",
    "df1.head(1)"
   ]
  },
  {
   "cell_type": "code",
   "execution_count": 4,
   "metadata": {},
   "outputs": [],
   "source": [
    "# Rename columns \n",
    "\n",
    "df1.columns = ['timestamp', 'age', 'zipcode', 'term_bnb', 'trav_per_year',\n",
    "               'type_lodging', 'why_lodging', 'who_travel', 'num_people', \n",
    "              'find_recommendations', 'find_social', 'find_google', 'find_online', \n",
    "              'app_website', 'matters_tours', 'matters_food', 'matters_relax',\n",
    "               'matters_shopping', 'matters_meeting' , 'matters_immersing',\n",
    "              'covid_travel', 'covid_lodging', 'covid_issues']"
   ]
  },
  {
   "cell_type": "code",
   "execution_count": 45,
   "metadata": {},
   "outputs": [],
   "source": [
    "# Reset index \n",
    "df1.drop('timestamp', axis = 1, inplace = True)\n",
    "#df1.reset_index(inplace = True)"
   ]
  },
  {
   "cell_type": "code",
   "execution_count": null,
   "metadata": {},
   "outputs": [],
   "source": [
    "'trav_per_year.yaxis.label.set_visible(False)'"
   ]
  },
  {
   "cell_type": "code",
   "execution_count": 46,
   "metadata": {},
   "outputs": [
    {
     "data": {
      "text/html": [
       "<div>\n",
       "<style scoped>\n",
       "    .dataframe tbody tr th:only-of-type {\n",
       "        vertical-align: middle;\n",
       "    }\n",
       "\n",
       "    .dataframe tbody tr th {\n",
       "        vertical-align: top;\n",
       "    }\n",
       "\n",
       "    .dataframe thead th {\n",
       "        text-align: right;\n",
       "    }\n",
       "</style>\n",
       "<table border=\"1\" class=\"dataframe\">\n",
       "  <thead>\n",
       "    <tr style=\"text-align: right;\">\n",
       "      <th></th>\n",
       "      <th>0</th>\n",
       "      <th>1</th>\n",
       "      <th>2</th>\n",
       "      <th>3</th>\n",
       "      <th>4</th>\n",
       "      <th>5</th>\n",
       "      <th>6</th>\n",
       "      <th>7</th>\n",
       "      <th>8</th>\n",
       "      <th>9</th>\n",
       "      <th>...</th>\n",
       "      <th>22</th>\n",
       "      <th>23</th>\n",
       "      <th>24</th>\n",
       "      <th>25</th>\n",
       "      <th>26</th>\n",
       "      <th>27</th>\n",
       "      <th>28</th>\n",
       "      <th>29</th>\n",
       "      <th>30</th>\n",
       "      <th>31</th>\n",
       "    </tr>\n",
       "  </thead>\n",
       "  <tbody>\n",
       "    <tr>\n",
       "      <th>index</th>\n",
       "      <td>0</td>\n",
       "      <td>1</td>\n",
       "      <td>2</td>\n",
       "      <td>3</td>\n",
       "      <td>4</td>\n",
       "      <td>5</td>\n",
       "      <td>6</td>\n",
       "      <td>7</td>\n",
       "      <td>8</td>\n",
       "      <td>9</td>\n",
       "      <td>...</td>\n",
       "      <td>22</td>\n",
       "      <td>23</td>\n",
       "      <td>24</td>\n",
       "      <td>25</td>\n",
       "      <td>26</td>\n",
       "      <td>27</td>\n",
       "      <td>28</td>\n",
       "      <td>29</td>\n",
       "      <td>30</td>\n",
       "      <td>31</td>\n",
       "    </tr>\n",
       "    <tr>\n",
       "      <th>age</th>\n",
       "      <td>34</td>\n",
       "      <td>53</td>\n",
       "      <td>30</td>\n",
       "      <td>58</td>\n",
       "      <td>23</td>\n",
       "      <td>36</td>\n",
       "      <td>33</td>\n",
       "      <td>24</td>\n",
       "      <td>23</td>\n",
       "      <td>27</td>\n",
       "      <td>...</td>\n",
       "      <td>18</td>\n",
       "      <td>24</td>\n",
       "      <td>23</td>\n",
       "      <td>20</td>\n",
       "      <td>24</td>\n",
       "      <td>41</td>\n",
       "      <td>25</td>\n",
       "      <td>42</td>\n",
       "      <td>NaN</td>\n",
       "      <td>25</td>\n",
       "    </tr>\n",
       "    <tr>\n",
       "      <th>zipcode</th>\n",
       "      <td>10514</td>\n",
       "      <td>60611</td>\n",
       "      <td>60605</td>\n",
       "      <td>60611</td>\n",
       "      <td>1605</td>\n",
       "      <td>20024</td>\n",
       "      <td>60605</td>\n",
       "      <td>78741</td>\n",
       "      <td>78751</td>\n",
       "      <td>11370</td>\n",
       "      <td>...</td>\n",
       "      <td>60609</td>\n",
       "      <td>78705</td>\n",
       "      <td>77058</td>\n",
       "      <td>33428</td>\n",
       "      <td>78628</td>\n",
       "      <td>11238</td>\n",
       "      <td>75074</td>\n",
       "      <td>11205</td>\n",
       "      <td>NaN</td>\n",
       "      <td>94530</td>\n",
       "    </tr>\n",
       "    <tr>\n",
       "      <th>term_bnb</th>\n",
       "      <td>Charming vacation</td>\n",
       "      <td>Tea and bread</td>\n",
       "      <td>Motel, AirBnb, cozy lodging in countryside</td>\n",
       "      <td>inexpensive lodging, comfort of home away from...</td>\n",
       "      <td>Homey</td>\n",
       "      <td>Quaint vacation lodging</td>\n",
       "      <td>Small family-owned vacation home</td>\n",
       "      <td>Small, quaint hotel with breakfast</td>\n",
       "      <td>A hotel</td>\n",
       "      <td>Cabin</td>\n",
       "      <td>...</td>\n",
       "      <td>travel</td>\n",
       "      <td>Place to stay overnight that is quaint and has...</td>\n",
       "      <td>A hotel</td>\n",
       "      <td>A hotel or inn that serves complimentary break...</td>\n",
       "      <td>Romantic partners going on some sort of getawa...</td>\n",
       "      <td>Countryside</td>\n",
       "      <td>Cute</td>\n",
       "      <td>Old Victorian house with lots of old people an...</td>\n",
       "      <td>basic room with basic breakfast in a dining ro...</td>\n",
       "      <td>small quaint hotel/motel that has food include...</td>\n",
       "    </tr>\n",
       "    <tr>\n",
       "      <th>trav_per_year</th>\n",
       "      <td>2</td>\n",
       "      <td>1</td>\n",
       "      <td>2</td>\n",
       "      <td>1</td>\n",
       "      <td>1</td>\n",
       "      <td>2</td>\n",
       "      <td>3</td>\n",
       "      <td>2</td>\n",
       "      <td>2</td>\n",
       "      <td>2</td>\n",
       "      <td>...</td>\n",
       "      <td>1</td>\n",
       "      <td>2</td>\n",
       "      <td>1</td>\n",
       "      <td>2</td>\n",
       "      <td>2</td>\n",
       "      <td>2</td>\n",
       "      <td>3</td>\n",
       "      <td>2</td>\n",
       "      <td>3</td>\n",
       "      <td>3</td>\n",
       "    </tr>\n",
       "    <tr>\n",
       "      <th>type_lodging</th>\n",
       "      <td>Hotel</td>\n",
       "      <td>Hotel</td>\n",
       "      <td>Hotel</td>\n",
       "      <td>Hotel</td>\n",
       "      <td>Hotel</td>\n",
       "      <td>Hotel</td>\n",
       "      <td>Hotel</td>\n",
       "      <td>Hotel</td>\n",
       "      <td>AirBnb</td>\n",
       "      <td>AirBnb</td>\n",
       "      <td>...</td>\n",
       "      <td>Hotel</td>\n",
       "      <td>Hotel</td>\n",
       "      <td>Family</td>\n",
       "      <td>AirBnb</td>\n",
       "      <td>AirBnb</td>\n",
       "      <td>Hotel and local inn</td>\n",
       "      <td>Hotel</td>\n",
       "      <td>AirBnb</td>\n",
       "      <td>Hotel</td>\n",
       "      <td>AirBnb</td>\n",
       "    </tr>\n",
       "    <tr>\n",
       "      <th>why_lodging</th>\n",
       "      <td>Experience. Know what to expect</td>\n",
       "      <td>Free parking, breakfast included</td>\n",
       "      <td>Easiest option to book without research, can u...</td>\n",
       "      <td>location, proximity to places of interest, ame...</td>\n",
       "      <td>Convenience</td>\n",
       "      <td>Consistent quality/features</td>\n",
       "      <td>Big hotel chains are easy to find and expense ...</td>\n",
       "      <td>Not sketchy, rewards points, free breakfast</td>\n",
       "      <td>It’s cheaper and there’s more options</td>\n",
       "      <td>Feels more homey</td>\n",
       "      <td>...</td>\n",
       "      <td>Safest, most credible</td>\n",
       "      <td>More availability and usually more cost effici...</td>\n",
       "      <td>It is inexpensive</td>\n",
       "      <td>It can be way cheeper for being able to have a...</td>\n",
       "      <td>It’s a pretty safe option, plus there’s usuall...</td>\n",
       "      <td>Depends on the desitination</td>\n",
       "      <td>Facilities</td>\n",
       "      <td>Depends on where I am going.  I like to have a...</td>\n",
       "      <td>I prefer to have as many amenities available</td>\n",
       "      <td>I don't like being around a bunch of tourists ...</td>\n",
       "    </tr>\n",
       "    <tr>\n",
       "      <th>who_travel</th>\n",
       "      <td>With family</td>\n",
       "      <td>With family</td>\n",
       "      <td>With family</td>\n",
       "      <td>By myself, With friends, With family, With kids</td>\n",
       "      <td>With family</td>\n",
       "      <td>with partner</td>\n",
       "      <td>By myself</td>\n",
       "      <td>With friends, With family</td>\n",
       "      <td>With friends, With family</td>\n",
       "      <td>With family</td>\n",
       "      <td>...</td>\n",
       "      <td>By myself, With friends, With family</td>\n",
       "      <td>With friends, With family</td>\n",
       "      <td>With family</td>\n",
       "      <td>With friends</td>\n",
       "      <td>With friends</td>\n",
       "      <td>By myself, With friends, With family</td>\n",
       "      <td>With family</td>\n",
       "      <td>By myself, With friends, With family</td>\n",
       "      <td>By myself, With friends</td>\n",
       "      <td>With friends, With family, with S.O.</td>\n",
       "    </tr>\n",
       "    <tr>\n",
       "      <th>num_people</th>\n",
       "      <td>3-4 people</td>\n",
       "      <td>1-2 people</td>\n",
       "      <td>1-2 people</td>\n",
       "      <td>3-4 people</td>\n",
       "      <td>1-2 people</td>\n",
       "      <td>1-2 people</td>\n",
       "      <td>None</td>\n",
       "      <td>3-4 people</td>\n",
       "      <td>1-2 people</td>\n",
       "      <td>1-2 people</td>\n",
       "      <td>...</td>\n",
       "      <td>3-4 people</td>\n",
       "      <td>3-4 people</td>\n",
       "      <td>1-2 people</td>\n",
       "      <td>1-2 people</td>\n",
       "      <td>3-4 people</td>\n",
       "      <td>1-2 people</td>\n",
       "      <td>3-4 people</td>\n",
       "      <td>1-2 people</td>\n",
       "      <td>1-2 people</td>\n",
       "      <td>1-2 people</td>\n",
       "    </tr>\n",
       "    <tr>\n",
       "      <th>find_recommendations</th>\n",
       "      <td>1</td>\n",
       "      <td>2</td>\n",
       "      <td>3</td>\n",
       "      <td>2</td>\n",
       "      <td>2</td>\n",
       "      <td>2</td>\n",
       "      <td>2</td>\n",
       "      <td>3</td>\n",
       "      <td>1</td>\n",
       "      <td>2</td>\n",
       "      <td>...</td>\n",
       "      <td>1</td>\n",
       "      <td>3</td>\n",
       "      <td>3</td>\n",
       "      <td>2</td>\n",
       "      <td>1</td>\n",
       "      <td>4</td>\n",
       "      <td>4</td>\n",
       "      <td>3</td>\n",
       "      <td>1</td>\n",
       "      <td>1</td>\n",
       "    </tr>\n",
       "    <tr>\n",
       "      <th>find_social</th>\n",
       "      <td>2</td>\n",
       "      <td>1</td>\n",
       "      <td>4</td>\n",
       "      <td>2</td>\n",
       "      <td>3</td>\n",
       "      <td>1</td>\n",
       "      <td>1</td>\n",
       "      <td>2</td>\n",
       "      <td>2</td>\n",
       "      <td>2</td>\n",
       "      <td>...</td>\n",
       "      <td>1</td>\n",
       "      <td>1</td>\n",
       "      <td>3</td>\n",
       "      <td>1</td>\n",
       "      <td>1</td>\n",
       "      <td>2</td>\n",
       "      <td>2</td>\n",
       "      <td>2</td>\n",
       "      <td>1</td>\n",
       "      <td>1</td>\n",
       "    </tr>\n",
       "    <tr>\n",
       "      <th>find_google</th>\n",
       "      <td>3</td>\n",
       "      <td>4</td>\n",
       "      <td>2</td>\n",
       "      <td>4</td>\n",
       "      <td>4</td>\n",
       "      <td>3</td>\n",
       "      <td>4</td>\n",
       "      <td>4</td>\n",
       "      <td>3</td>\n",
       "      <td>4</td>\n",
       "      <td>...</td>\n",
       "      <td>4</td>\n",
       "      <td>4</td>\n",
       "      <td>3</td>\n",
       "      <td>3</td>\n",
       "      <td>3</td>\n",
       "      <td>3</td>\n",
       "      <td>4</td>\n",
       "      <td>4</td>\n",
       "      <td>4</td>\n",
       "      <td>4</td>\n",
       "    </tr>\n",
       "    <tr>\n",
       "      <th>find_online</th>\n",
       "      <td>4</td>\n",
       "      <td>4</td>\n",
       "      <td>1</td>\n",
       "      <td>1</td>\n",
       "      <td>4</td>\n",
       "      <td>4</td>\n",
       "      <td>3</td>\n",
       "      <td>3</td>\n",
       "      <td>4</td>\n",
       "      <td>4</td>\n",
       "      <td>...</td>\n",
       "      <td>2</td>\n",
       "      <td>3</td>\n",
       "      <td>1</td>\n",
       "      <td>4</td>\n",
       "      <td>1</td>\n",
       "      <td>4</td>\n",
       "      <td>4</td>\n",
       "      <td>4</td>\n",
       "      <td>4</td>\n",
       "      <td>4</td>\n",
       "    </tr>\n",
       "    <tr>\n",
       "      <th>app_website</th>\n",
       "      <td>Website</td>\n",
       "      <td>Website</td>\n",
       "      <td>Website</td>\n",
       "      <td>Website</td>\n",
       "      <td>Website</td>\n",
       "      <td>Website</td>\n",
       "      <td>Website</td>\n",
       "      <td>Website</td>\n",
       "      <td>Website</td>\n",
       "      <td>App</td>\n",
       "      <td>...</td>\n",
       "      <td>Website</td>\n",
       "      <td>Website</td>\n",
       "      <td>Website</td>\n",
       "      <td>Website</td>\n",
       "      <td>Website</td>\n",
       "      <td>Website</td>\n",
       "      <td>Website</td>\n",
       "      <td>App</td>\n",
       "      <td>App</td>\n",
       "      <td>App</td>\n",
       "    </tr>\n",
       "    <tr>\n",
       "      <th>matters_tours</th>\n",
       "      <td>6</td>\n",
       "      <td>1</td>\n",
       "      <td>3</td>\n",
       "      <td>6</td>\n",
       "      <td>1</td>\n",
       "      <td>6</td>\n",
       "      <td>6</td>\n",
       "      <td>6</td>\n",
       "      <td>1</td>\n",
       "      <td>4</td>\n",
       "      <td>...</td>\n",
       "      <td>4</td>\n",
       "      <td>4</td>\n",
       "      <td>3</td>\n",
       "      <td>4</td>\n",
       "      <td>1</td>\n",
       "      <td>5</td>\n",
       "      <td>6</td>\n",
       "      <td>2</td>\n",
       "      <td>1</td>\n",
       "      <td>1</td>\n",
       "    </tr>\n",
       "    <tr>\n",
       "      <th>matters_food</th>\n",
       "      <td>4</td>\n",
       "      <td>3</td>\n",
       "      <td>4</td>\n",
       "      <td>4</td>\n",
       "      <td>6</td>\n",
       "      <td>3</td>\n",
       "      <td>4</td>\n",
       "      <td>5</td>\n",
       "      <td>2</td>\n",
       "      <td>5</td>\n",
       "      <td>...</td>\n",
       "      <td>3</td>\n",
       "      <td>6</td>\n",
       "      <td>3</td>\n",
       "      <td>5</td>\n",
       "      <td>2</td>\n",
       "      <td>4</td>\n",
       "      <td>6</td>\n",
       "      <td>6</td>\n",
       "      <td>6</td>\n",
       "      <td>6</td>\n",
       "    </tr>\n",
       "    <tr>\n",
       "      <th>matters_relax</th>\n",
       "      <td>3</td>\n",
       "      <td>4</td>\n",
       "      <td>2</td>\n",
       "      <td>4</td>\n",
       "      <td>6</td>\n",
       "      <td>4</td>\n",
       "      <td>5</td>\n",
       "      <td>3</td>\n",
       "      <td>2</td>\n",
       "      <td>5</td>\n",
       "      <td>...</td>\n",
       "      <td>5</td>\n",
       "      <td>3</td>\n",
       "      <td>3</td>\n",
       "      <td>2</td>\n",
       "      <td>2</td>\n",
       "      <td>3</td>\n",
       "      <td>6</td>\n",
       "      <td>6</td>\n",
       "      <td>1</td>\n",
       "      <td>6</td>\n",
       "    </tr>\n",
       "    <tr>\n",
       "      <th>matters_shopping</th>\n",
       "      <td>1</td>\n",
       "      <td>1</td>\n",
       "      <td>5</td>\n",
       "      <td>3</td>\n",
       "      <td>5</td>\n",
       "      <td>2</td>\n",
       "      <td>2</td>\n",
       "      <td>2</td>\n",
       "      <td>2</td>\n",
       "      <td>3</td>\n",
       "      <td>...</td>\n",
       "      <td>1</td>\n",
       "      <td>5</td>\n",
       "      <td>3</td>\n",
       "      <td>1</td>\n",
       "      <td>1</td>\n",
       "      <td>1</td>\n",
       "      <td>6</td>\n",
       "      <td>1</td>\n",
       "      <td>4</td>\n",
       "      <td>1</td>\n",
       "    </tr>\n",
       "    <tr>\n",
       "      <th>matters_meeting</th>\n",
       "      <td>2</td>\n",
       "      <td>2</td>\n",
       "      <td>6</td>\n",
       "      <td>2</td>\n",
       "      <td>1</td>\n",
       "      <td>1</td>\n",
       "      <td>1</td>\n",
       "      <td>2</td>\n",
       "      <td>3</td>\n",
       "      <td>4</td>\n",
       "      <td>...</td>\n",
       "      <td>3</td>\n",
       "      <td>1</td>\n",
       "      <td>2</td>\n",
       "      <td>3</td>\n",
       "      <td>1</td>\n",
       "      <td>5</td>\n",
       "      <td>3</td>\n",
       "      <td>3</td>\n",
       "      <td>6</td>\n",
       "      <td>1</td>\n",
       "    </tr>\n",
       "    <tr>\n",
       "      <th>matters_immersing</th>\n",
       "      <td>5</td>\n",
       "      <td>4</td>\n",
       "      <td>1</td>\n",
       "      <td>5</td>\n",
       "      <td>5</td>\n",
       "      <td>5</td>\n",
       "      <td>3</td>\n",
       "      <td>5</td>\n",
       "      <td>6</td>\n",
       "      <td>6</td>\n",
       "      <td>...</td>\n",
       "      <td>6</td>\n",
       "      <td>2</td>\n",
       "      <td>2</td>\n",
       "      <td>6</td>\n",
       "      <td>3</td>\n",
       "      <td>6</td>\n",
       "      <td>3</td>\n",
       "      <td>6</td>\n",
       "      <td>6</td>\n",
       "      <td>6</td>\n",
       "    </tr>\n",
       "    <tr>\n",
       "      <th>covid_travel</th>\n",
       "      <td>Yes</td>\n",
       "      <td>No</td>\n",
       "      <td>No</td>\n",
       "      <td>No</td>\n",
       "      <td>No</td>\n",
       "      <td>Yes</td>\n",
       "      <td>No</td>\n",
       "      <td>Yes</td>\n",
       "      <td>Yes</td>\n",
       "      <td>Yes</td>\n",
       "      <td>...</td>\n",
       "      <td>No</td>\n",
       "      <td>Yes</td>\n",
       "      <td>No</td>\n",
       "      <td>Yes</td>\n",
       "      <td>Yes</td>\n",
       "      <td>No</td>\n",
       "      <td>Yes</td>\n",
       "      <td>No</td>\n",
       "      <td>No</td>\n",
       "      <td>Yes</td>\n",
       "    </tr>\n",
       "    <tr>\n",
       "      <th>covid_lodging</th>\n",
       "      <td>Hotel for ease/safe</td>\n",
       "      <td>NaN</td>\n",
       "      <td>NaN</td>\n",
       "      <td>NaN</td>\n",
       "      <td>NaN</td>\n",
       "      <td>Hotel.  Normally would've stayed with family, ...</td>\n",
       "      <td>NaN</td>\n",
       "      <td>Hotel, Airbnb</td>\n",
       "      <td>Air bnb, they had good cleaning procedures tha...</td>\n",
       "      <td>Friend's home, most accessible and least likel...</td>\n",
       "      <td>...</td>\n",
       "      <td>NaN</td>\n",
       "      <td>Resort - closer to day destination</td>\n",
       "      <td>None</td>\n",
       "      <td>I’m going in April and tend to use AirBnb and ...</td>\n",
       "      <td>I stayed at an air bnb a few times and then I ...</td>\n",
       "      <td>NaN</td>\n",
       "      <td>Home of friends or family due to covid</td>\n",
       "      <td>NaN</td>\n",
       "      <td>NaN</td>\n",
       "      <td>Airbnb or Motel - it's safer bc less interacti...</td>\n",
       "    </tr>\n",
       "    <tr>\n",
       "      <th>covid_issues</th>\n",
       "      <td>No</td>\n",
       "      <td>NaN</td>\n",
       "      <td>NaN</td>\n",
       "      <td>NaN</td>\n",
       "      <td>NaN</td>\n",
       "      <td>Yes, staffing levels were reduced, which resul...</td>\n",
       "      <td>NaN</td>\n",
       "      <td>Less amenities, smaller breakfast options</td>\n",
       "      <td>A lot of restaurants and places were closed in...</td>\n",
       "      <td>No</td>\n",
       "      <td>...</td>\n",
       "      <td>NaN</td>\n",
       "      <td>No</td>\n",
       "      <td>None</td>\n",
       "      <td>When it comes to AirBnb the only concern was f...</td>\n",
       "      <td>I wasn’t worried about myself per say, I more ...</td>\n",
       "      <td>NaN</td>\n",
       "      <td>Yes, exposure concerns</td>\n",
       "      <td>NaN</td>\n",
       "      <td>NaN</td>\n",
       "      <td>nope</td>\n",
       "    </tr>\n",
       "  </tbody>\n",
       "</table>\n",
       "<p>23 rows × 32 columns</p>\n",
       "</div>"
      ],
      "text/plain": [
       "                                                   0   \\\n",
       "index                                               0   \n",
       "age                                                34   \n",
       "zipcode                                         10514   \n",
       "term_bnb                           Charming vacation    \n",
       "trav_per_year                                       2   \n",
       "type_lodging                                    Hotel   \n",
       "why_lodging           Experience. Know what to expect   \n",
       "who_travel                                With family   \n",
       "num_people                                 3-4 people   \n",
       "find_recommendations                                1   \n",
       "find_social                                         2   \n",
       "find_google                                         3   \n",
       "find_online                                         4   \n",
       "app_website                                   Website   \n",
       "matters_tours                                       6   \n",
       "matters_food                                        4   \n",
       "matters_relax                                       3   \n",
       "matters_shopping                                    1   \n",
       "matters_meeting                                     2   \n",
       "matters_immersing                                   5   \n",
       "covid_travel                                      Yes   \n",
       "covid_lodging                     Hotel for ease/safe   \n",
       "covid_issues                                       No   \n",
       "\n",
       "                                                     1   \\\n",
       "index                                                 1   \n",
       "age                                                  53   \n",
       "zipcode                                           60611   \n",
       "term_bnb                                  Tea and bread   \n",
       "trav_per_year                                         1   \n",
       "type_lodging                                      Hotel   \n",
       "why_lodging           Free parking, breakfast included    \n",
       "who_travel                                  With family   \n",
       "num_people                                   1-2 people   \n",
       "find_recommendations                                  2   \n",
       "find_social                                           1   \n",
       "find_google                                           4   \n",
       "find_online                                           4   \n",
       "app_website                                     Website   \n",
       "matters_tours                                         1   \n",
       "matters_food                                          3   \n",
       "matters_relax                                         4   \n",
       "matters_shopping                                      1   \n",
       "matters_meeting                                       2   \n",
       "matters_immersing                                     4   \n",
       "covid_travel                                         No   \n",
       "covid_lodging                                       NaN   \n",
       "covid_issues                                        NaN   \n",
       "\n",
       "                                                                     2   \\\n",
       "index                                                                 2   \n",
       "age                                                                  30   \n",
       "zipcode                                                           60605   \n",
       "term_bnb                     Motel, AirBnb, cozy lodging in countryside   \n",
       "trav_per_year                                                         2   \n",
       "type_lodging                                                      Hotel   \n",
       "why_lodging           Easiest option to book without research, can u...   \n",
       "who_travel                                                  With family   \n",
       "num_people                                                   1-2 people   \n",
       "find_recommendations                                                  3   \n",
       "find_social                                                           4   \n",
       "find_google                                                           2   \n",
       "find_online                                                           1   \n",
       "app_website                                                     Website   \n",
       "matters_tours                                                         3   \n",
       "matters_food                                                          4   \n",
       "matters_relax                                                         2   \n",
       "matters_shopping                                                      5   \n",
       "matters_meeting                                                       6   \n",
       "matters_immersing                                                     1   \n",
       "covid_travel                                                         No   \n",
       "covid_lodging                                                       NaN   \n",
       "covid_issues                                                        NaN   \n",
       "\n",
       "                                                                     3   \\\n",
       "index                                                                 3   \n",
       "age                                                                  58   \n",
       "zipcode                                                           60611   \n",
       "term_bnb              inexpensive lodging, comfort of home away from...   \n",
       "trav_per_year                                                         1   \n",
       "type_lodging                                                      Hotel   \n",
       "why_lodging           location, proximity to places of interest, ame...   \n",
       "who_travel              By myself, With friends, With family, With kids   \n",
       "num_people                                                   3-4 people   \n",
       "find_recommendations                                                  2   \n",
       "find_social                                                           2   \n",
       "find_google                                                           4   \n",
       "find_online                                                           1   \n",
       "app_website                                                     Website   \n",
       "matters_tours                                                         6   \n",
       "matters_food                                                          4   \n",
       "matters_relax                                                         4   \n",
       "matters_shopping                                                      3   \n",
       "matters_meeting                                                       2   \n",
       "matters_immersing                                                     5   \n",
       "covid_travel                                                         No   \n",
       "covid_lodging                                                       NaN   \n",
       "covid_issues                                                        NaN   \n",
       "\n",
       "                                4   \\\n",
       "index                            4   \n",
       "age                             23   \n",
       "zipcode                       1605   \n",
       "term_bnb                     Homey   \n",
       "trav_per_year                    1   \n",
       "type_lodging                 Hotel   \n",
       "why_lodging           Convenience    \n",
       "who_travel             With family   \n",
       "num_people              1-2 people   \n",
       "find_recommendations             2   \n",
       "find_social                      3   \n",
       "find_google                      4   \n",
       "find_online                      4   \n",
       "app_website                Website   \n",
       "matters_tours                    1   \n",
       "matters_food                     6   \n",
       "matters_relax                    6   \n",
       "matters_shopping                 5   \n",
       "matters_meeting                  1   \n",
       "matters_immersing                5   \n",
       "covid_travel                    No   \n",
       "covid_lodging                  NaN   \n",
       "covid_issues                   NaN   \n",
       "\n",
       "                                                                     5   \\\n",
       "index                                                                 5   \n",
       "age                                                                  36   \n",
       "zipcode                                                           20024   \n",
       "term_bnb                                        Quaint vacation lodging   \n",
       "trav_per_year                                                         2   \n",
       "type_lodging                                                      Hotel   \n",
       "why_lodging                                 Consistent quality/features   \n",
       "who_travel                                                 with partner   \n",
       "num_people                                                   1-2 people   \n",
       "find_recommendations                                                  2   \n",
       "find_social                                                           1   \n",
       "find_google                                                           3   \n",
       "find_online                                                           4   \n",
       "app_website                                                     Website   \n",
       "matters_tours                                                         6   \n",
       "matters_food                                                          3   \n",
       "matters_relax                                                         4   \n",
       "matters_shopping                                                      2   \n",
       "matters_meeting                                                       1   \n",
       "matters_immersing                                                     5   \n",
       "covid_travel                                                        Yes   \n",
       "covid_lodging         Hotel.  Normally would've stayed with family, ...   \n",
       "covid_issues          Yes, staffing levels were reduced, which resul...   \n",
       "\n",
       "                                                                     6   \\\n",
       "index                                                                 6   \n",
       "age                                                                  33   \n",
       "zipcode                                                           60605   \n",
       "term_bnb                               Small family-owned vacation home   \n",
       "trav_per_year                                                         3   \n",
       "type_lodging                                                      Hotel   \n",
       "why_lodging           Big hotel chains are easy to find and expense ...   \n",
       "who_travel                                                    By myself   \n",
       "num_people                                                         None   \n",
       "find_recommendations                                                  2   \n",
       "find_social                                                           1   \n",
       "find_google                                                           4   \n",
       "find_online                                                           3   \n",
       "app_website                                                     Website   \n",
       "matters_tours                                                         6   \n",
       "matters_food                                                          4   \n",
       "matters_relax                                                         5   \n",
       "matters_shopping                                                      2   \n",
       "matters_meeting                                                       1   \n",
       "matters_immersing                                                     3   \n",
       "covid_travel                                                         No   \n",
       "covid_lodging                                                       NaN   \n",
       "covid_issues                                                        NaN   \n",
       "\n",
       "                                                               7   \\\n",
       "index                                                           7   \n",
       "age                                                            24   \n",
       "zipcode                                                     78741   \n",
       "term_bnb                      Small, quaint hotel with breakfast    \n",
       "trav_per_year                                                   2   \n",
       "type_lodging                                                Hotel   \n",
       "why_lodging           Not sketchy, rewards points, free breakfast   \n",
       "who_travel                              With friends, With family   \n",
       "num_people                                             3-4 people   \n",
       "find_recommendations                                            3   \n",
       "find_social                                                     2   \n",
       "find_google                                                     4   \n",
       "find_online                                                     3   \n",
       "app_website                                               Website   \n",
       "matters_tours                                                   6   \n",
       "matters_food                                                    5   \n",
       "matters_relax                                                   3   \n",
       "matters_shopping                                                2   \n",
       "matters_meeting                                                 2   \n",
       "matters_immersing                                               5   \n",
       "covid_travel                                                  Yes   \n",
       "covid_lodging                                      Hotel, Airbnb    \n",
       "covid_issues            Less amenities, smaller breakfast options   \n",
       "\n",
       "                                                                     8   \\\n",
       "index                                                                 8   \n",
       "age                                                                  23   \n",
       "zipcode                                                           78751   \n",
       "term_bnb                                                        A hotel   \n",
       "trav_per_year                                                         2   \n",
       "type_lodging                                                     AirBnb   \n",
       "why_lodging                      It’s cheaper and there’s more options    \n",
       "who_travel                                    With friends, With family   \n",
       "num_people                                                   1-2 people   \n",
       "find_recommendations                                                  1   \n",
       "find_social                                                           2   \n",
       "find_google                                                           3   \n",
       "find_online                                                           4   \n",
       "app_website                                                     Website   \n",
       "matters_tours                                                         1   \n",
       "matters_food                                                          2   \n",
       "matters_relax                                                         2   \n",
       "matters_shopping                                                      2   \n",
       "matters_meeting                                                       3   \n",
       "matters_immersing                                                     6   \n",
       "covid_travel                                                        Yes   \n",
       "covid_lodging         Air bnb, they had good cleaning procedures tha...   \n",
       "covid_issues          A lot of restaurants and places were closed in...   \n",
       "\n",
       "                                                                     9   ...  \\\n",
       "index                                                                 9  ...   \n",
       "age                                                                  27  ...   \n",
       "zipcode                                                           11370  ...   \n",
       "term_bnb                                                          Cabin  ...   \n",
       "trav_per_year                                                         2  ...   \n",
       "type_lodging                                                     AirBnb  ...   \n",
       "why_lodging                                            Feels more homey  ...   \n",
       "who_travel                                                  With family  ...   \n",
       "num_people                                                   1-2 people  ...   \n",
       "find_recommendations                                                  2  ...   \n",
       "find_social                                                           2  ...   \n",
       "find_google                                                           4  ...   \n",
       "find_online                                                           4  ...   \n",
       "app_website                                                         App  ...   \n",
       "matters_tours                                                         4  ...   \n",
       "matters_food                                                          5  ...   \n",
       "matters_relax                                                         5  ...   \n",
       "matters_shopping                                                      3  ...   \n",
       "matters_meeting                                                       4  ...   \n",
       "matters_immersing                                                     6  ...   \n",
       "covid_travel                                                        Yes  ...   \n",
       "covid_lodging         Friend's home, most accessible and least likel...  ...   \n",
       "covid_issues                                                         No  ...   \n",
       "\n",
       "                                                        22  \\\n",
       "index                                                   22   \n",
       "age                                                     18   \n",
       "zipcode                                              60609   \n",
       "term_bnb                                            travel   \n",
       "trav_per_year                                            1   \n",
       "type_lodging                                         Hotel   \n",
       "why_lodging                          Safest, most credible   \n",
       "who_travel            By myself, With friends, With family   \n",
       "num_people                                      3-4 people   \n",
       "find_recommendations                                     1   \n",
       "find_social                                              1   \n",
       "find_google                                              4   \n",
       "find_online                                              2   \n",
       "app_website                                        Website   \n",
       "matters_tours                                            4   \n",
       "matters_food                                             3   \n",
       "matters_relax                                            5   \n",
       "matters_shopping                                         1   \n",
       "matters_meeting                                          3   \n",
       "matters_immersing                                        6   \n",
       "covid_travel                                            No   \n",
       "covid_lodging                                          NaN   \n",
       "covid_issues                                           NaN   \n",
       "\n",
       "                                                                     23  \\\n",
       "index                                                                23   \n",
       "age                                                                  24   \n",
       "zipcode                                                           78705   \n",
       "term_bnb              Place to stay overnight that is quaint and has...   \n",
       "trav_per_year                                                         2   \n",
       "type_lodging                                                      Hotel   \n",
       "why_lodging           More availability and usually more cost effici...   \n",
       "who_travel                                    With friends, With family   \n",
       "num_people                                                   3-4 people   \n",
       "find_recommendations                                                  3   \n",
       "find_social                                                           1   \n",
       "find_google                                                           4   \n",
       "find_online                                                           3   \n",
       "app_website                                                     Website   \n",
       "matters_tours                                                         4   \n",
       "matters_food                                                          6   \n",
       "matters_relax                                                         3   \n",
       "matters_shopping                                                      5   \n",
       "matters_meeting                                                       1   \n",
       "matters_immersing                                                     2   \n",
       "covid_travel                                                        Yes   \n",
       "covid_lodging                       Resort - closer to day destination    \n",
       "covid_issues                                                         No   \n",
       "\n",
       "                                      24  \\\n",
       "index                                 24   \n",
       "age                                   23   \n",
       "zipcode                            77058   \n",
       "term_bnb                        A hotel    \n",
       "trav_per_year                          1   \n",
       "type_lodging                     Family    \n",
       "why_lodging           It is inexpensive    \n",
       "who_travel                   With family   \n",
       "num_people                    1-2 people   \n",
       "find_recommendations                   3   \n",
       "find_social                            3   \n",
       "find_google                            3   \n",
       "find_online                            1   \n",
       "app_website                      Website   \n",
       "matters_tours                          3   \n",
       "matters_food                           3   \n",
       "matters_relax                          3   \n",
       "matters_shopping                       3   \n",
       "matters_meeting                        2   \n",
       "matters_immersing                      2   \n",
       "covid_travel                          No   \n",
       "covid_lodging                      None    \n",
       "covid_issues                       None    \n",
       "\n",
       "                                                                     25  \\\n",
       "index                                                                25   \n",
       "age                                                                  20   \n",
       "zipcode                                                           33428   \n",
       "term_bnb              A hotel or inn that serves complimentary break...   \n",
       "trav_per_year                                                         2   \n",
       "type_lodging                                                     AirBnb   \n",
       "why_lodging           It can be way cheeper for being able to have a...   \n",
       "who_travel                                                 With friends   \n",
       "num_people                                                   1-2 people   \n",
       "find_recommendations                                                  2   \n",
       "find_social                                                           1   \n",
       "find_google                                                           3   \n",
       "find_online                                                           4   \n",
       "app_website                                                     Website   \n",
       "matters_tours                                                         4   \n",
       "matters_food                                                          5   \n",
       "matters_relax                                                         2   \n",
       "matters_shopping                                                      1   \n",
       "matters_meeting                                                       3   \n",
       "matters_immersing                                                     6   \n",
       "covid_travel                                                        Yes   \n",
       "covid_lodging         I’m going in April and tend to use AirBnb and ...   \n",
       "covid_issues          When it comes to AirBnb the only concern was f...   \n",
       "\n",
       "                                                                     26  \\\n",
       "index                                                                26   \n",
       "age                                                                  24   \n",
       "zipcode                                                           78628   \n",
       "term_bnb              Romantic partners going on some sort of getawa...   \n",
       "trav_per_year                                                         2   \n",
       "type_lodging                                                     AirBnb   \n",
       "why_lodging           It’s a pretty safe option, plus there’s usuall...   \n",
       "who_travel                                                 With friends   \n",
       "num_people                                                   3-4 people   \n",
       "find_recommendations                                                  1   \n",
       "find_social                                                           1   \n",
       "find_google                                                           3   \n",
       "find_online                                                           1   \n",
       "app_website                                                     Website   \n",
       "matters_tours                                                         1   \n",
       "matters_food                                                          2   \n",
       "matters_relax                                                         2   \n",
       "matters_shopping                                                      1   \n",
       "matters_meeting                                                       1   \n",
       "matters_immersing                                                     3   \n",
       "covid_travel                                                        Yes   \n",
       "covid_lodging         I stayed at an air bnb a few times and then I ...   \n",
       "covid_issues          I wasn’t worried about myself per say, I more ...   \n",
       "\n",
       "                                                        27  \\\n",
       "index                                                   27   \n",
       "age                                                     41   \n",
       "zipcode                                              11238   \n",
       "term_bnb                                       Countryside   \n",
       "trav_per_year                                            2   \n",
       "type_lodging                           Hotel and local inn   \n",
       "why_lodging                    Depends on the desitination   \n",
       "who_travel            By myself, With friends, With family   \n",
       "num_people                                      1-2 people   \n",
       "find_recommendations                                     4   \n",
       "find_social                                              2   \n",
       "find_google                                              3   \n",
       "find_online                                              4   \n",
       "app_website                                        Website   \n",
       "matters_tours                                            5   \n",
       "matters_food                                             4   \n",
       "matters_relax                                            3   \n",
       "matters_shopping                                         1   \n",
       "matters_meeting                                          5   \n",
       "matters_immersing                                        6   \n",
       "covid_travel                                            No   \n",
       "covid_lodging                                          NaN   \n",
       "covid_issues                                           NaN   \n",
       "\n",
       "                                                          28  \\\n",
       "index                                                     28   \n",
       "age                                                       25   \n",
       "zipcode                                                75074   \n",
       "term_bnb                                               Cute    \n",
       "trav_per_year                                              3   \n",
       "type_lodging                                           Hotel   \n",
       "why_lodging                                      Facilities    \n",
       "who_travel                                       With family   \n",
       "num_people                                        3-4 people   \n",
       "find_recommendations                                       4   \n",
       "find_social                                                2   \n",
       "find_google                                                4   \n",
       "find_online                                                4   \n",
       "app_website                                          Website   \n",
       "matters_tours                                              6   \n",
       "matters_food                                               6   \n",
       "matters_relax                                              6   \n",
       "matters_shopping                                           6   \n",
       "matters_meeting                                            3   \n",
       "matters_immersing                                          3   \n",
       "covid_travel                                             Yes   \n",
       "covid_lodging         Home of friends or family due to covid   \n",
       "covid_issues                         Yes, exposure concerns    \n",
       "\n",
       "                                                                     29  \\\n",
       "index                                                                29   \n",
       "age                                                                  42   \n",
       "zipcode                                                           11205   \n",
       "term_bnb              Old Victorian house with lots of old people an...   \n",
       "trav_per_year                                                         2   \n",
       "type_lodging                                                     AirBnb   \n",
       "why_lodging           Depends on where I am going.  I like to have a...   \n",
       "who_travel                         By myself, With friends, With family   \n",
       "num_people                                                   1-2 people   \n",
       "find_recommendations                                                  3   \n",
       "find_social                                                           2   \n",
       "find_google                                                           4   \n",
       "find_online                                                           4   \n",
       "app_website                                                         App   \n",
       "matters_tours                                                         2   \n",
       "matters_food                                                          6   \n",
       "matters_relax                                                         6   \n",
       "matters_shopping                                                      1   \n",
       "matters_meeting                                                       3   \n",
       "matters_immersing                                                     6   \n",
       "covid_travel                                                         No   \n",
       "covid_lodging                                                       NaN   \n",
       "covid_issues                                                        NaN   \n",
       "\n",
       "                                                                     30  \\\n",
       "index                                                                30   \n",
       "age                                                                 NaN   \n",
       "zipcode                                                             NaN   \n",
       "term_bnb              basic room with basic breakfast in a dining ro...   \n",
       "trav_per_year                                                         3   \n",
       "type_lodging                                                      Hotel   \n",
       "why_lodging               I prefer to have as many amenities available    \n",
       "who_travel                                      By myself, With friends   \n",
       "num_people                                                   1-2 people   \n",
       "find_recommendations                                                  1   \n",
       "find_social                                                           1   \n",
       "find_google                                                           4   \n",
       "find_online                                                           4   \n",
       "app_website                                                         App   \n",
       "matters_tours                                                         1   \n",
       "matters_food                                                          6   \n",
       "matters_relax                                                         1   \n",
       "matters_shopping                                                      4   \n",
       "matters_meeting                                                       6   \n",
       "matters_immersing                                                     6   \n",
       "covid_travel                                                         No   \n",
       "covid_lodging                                                       NaN   \n",
       "covid_issues                                                        NaN   \n",
       "\n",
       "                                                                     31  \n",
       "index                                                                31  \n",
       "age                                                                  25  \n",
       "zipcode                                                           94530  \n",
       "term_bnb              small quaint hotel/motel that has food include...  \n",
       "trav_per_year                                                         3  \n",
       "type_lodging                                                     AirBnb  \n",
       "why_lodging           I don't like being around a bunch of tourists ...  \n",
       "who_travel                         With friends, With family, with S.O.  \n",
       "num_people                                                   1-2 people  \n",
       "find_recommendations                                                  1  \n",
       "find_social                                                           1  \n",
       "find_google                                                           4  \n",
       "find_online                                                           4  \n",
       "app_website                                                         App  \n",
       "matters_tours                                                         1  \n",
       "matters_food                                                          6  \n",
       "matters_relax                                                         6  \n",
       "matters_shopping                                                      1  \n",
       "matters_meeting                                                       1  \n",
       "matters_immersing                                                     6  \n",
       "covid_travel                                                        Yes  \n",
       "covid_lodging         Airbnb or Motel - it's safer bc less interacti...  \n",
       "covid_issues                                                       nope  \n",
       "\n",
       "[23 rows x 32 columns]"
      ]
     },
     "execution_count": 46,
     "metadata": {},
     "output_type": "execute_result"
    }
   ],
   "source": [
    "df1.T"
   ]
  },
  {
   "cell_type": "markdown",
   "metadata": {},
   "source": [
    "---"
   ]
  },
  {
   "cell_type": "markdown",
   "metadata": {},
   "source": [
    "# Functions\n",
    "<hr/>"
   ]
  },
  {
   "cell_type": "code",
   "execution_count": 7,
   "metadata": {},
   "outputs": [],
   "source": [
    "\"\"\"\n",
    "  \n",
    "\n",
    "\"\"\"\n",
    "\n",
    "def prepare_table(data, column_range):\n",
    "    dataframe = pd.DataFrame()\n",
    "    number_of_columns = len(column_range)\n",
    "    for each_column in column_range:\n",
    "        new_tobe_row = round(data[each_column].value_counts(normalize = True) * 100 ,0)\n",
    "        #print(new_tobe_row)\n",
    "        dataframe = pd.concat([dataframe, new_tobe_row], axis =1 )\n",
    "    return dataframe.T\n"
   ]
  },
  {
   "cell_type": "code",
   "execution_count": 8,
   "metadata": {},
   "outputs": [],
   "source": [
    "\"\"\"\n",
    "from:\n",
    "    https://morioh.com/p/374a3fbab626\n",
    "\n",
    "\n",
    "\"\"\"\n",
    "\n",
    "def age_group(age):\n",
    "\n",
    "    bucket = str\n",
    "    \"\"\".apply().\"\"\"\n",
    "    \n",
    "    try:\n",
    "        age = int(age)\n",
    "\n",
    "\n",
    "        if age <= 19:\n",
    "            bucket = ' below 20'\n",
    "\n",
    "        elif age in range(20,25):\n",
    "            bucket = '20 - 25'\n",
    "\n",
    "        elif age in range(25,30):\n",
    "            bucket = '25 - 29'\n",
    "\n",
    "        elif age in range(30, 40):\n",
    "            bucket = '30 - 39'\n",
    "\n",
    "        elif age in range(40, 50):\n",
    "            bucket = '40 - 49'\n",
    "\n",
    "        elif age in range(50, 60):\n",
    "            bucket = '50 - 59'\n",
    "\n",
    "        elif age >= 60:\n",
    "            bucket = '60+'\n",
    "        else:\n",
    "            bucket = type(age)\n",
    "        \n",
    "        return bucket\n",
    "    except:\n",
    "        return none\n"
   ]
  },
  {
   "cell_type": "code",
   "execution_count": 132,
   "metadata": {},
   "outputs": [],
   "source": [
    "\"\"\"\n",
    "creates a data frame with all the sentiment observations \n",
    "\n",
    "\"\"\"\n",
    "\n",
    "def sentiment_analyzer(data):\n",
    "    \n",
    "    # var \n",
    "    data_frame = pd.DataFrame()\n",
    "    \n",
    "  # clean data\n",
    "\n",
    "    # drop NaN\n",
    "    data.dropna(axis = 0, inplace = True)\n",
    "    # removes 'None'\n",
    "    data = data [ data.str.contains('None') == False]\n",
    "    \n",
    "    # initiate\n",
    "    analyzer = SentimentIntensityAnalyzer()\n",
    "    \n",
    "    for eachline in data:\n",
    "        \n",
    "        temp = analyzer.polarity_scores(eachline)\n",
    "        data_frame= data_frame.append(temp, ignore_index = True)\n",
    "    \n",
    "    data_frame.rename(columns = {'neg':'negative','neu':'neutral','pos':'positive','compound':'compound'}, inplace = True)\n",
    "    return data_frame"
   ]
  },
  {
   "cell_type": "markdown",
   "metadata": {},
   "source": [
    "# EDA \n",
    "<hr/>"
   ]
  },
  {
   "cell_type": "markdown",
   "metadata": {},
   "source": [
    "### Age "
   ]
  },
  {
   "cell_type": "markdown",
   "metadata": {
    "jupyter": {
     "outputs_hidden": true
    }
   },
   "source": [
    "# plot of ages\n",
    "\n",
    "df1['age_group'].hist();"
   ]
  },
  {
   "cell_type": "markdown",
   "metadata": {},
   "source": [
    "df1['age_group'] = df1['age'].apply(age_group)\n"
   ]
  },
  {
   "cell_type": "markdown",
   "metadata": {},
   "source": [
    "df1['age_group'].value_counts(normalize = True) * 100"
   ]
  },
  {
   "cell_type": "markdown",
   "metadata": {},
   "source": [
    "sns.barplot(y = df1.loc['age_group'].index, \n",
    "            x = df1.loc['age_group'].values, \n",
    "            order = sort_order, \n",
    "            palette = 'rocket', edgecolor = 'black', \n",
    "            ax = ax\n",
    "            ).set_title(\"Age {}\".format('20 - 25'))"
   ]
  },
  {
   "cell_type": "markdown",
   "metadata": {
    "jupyter": {
     "outputs_hidden": true
    }
   },
   "source": [
    "# Zipcode"
   ]
  },
  {
   "cell_type": "code",
   "execution_count": 9,
   "metadata": {},
   "outputs": [
    {
     "data": {
      "text/plain": [
       "26"
      ]
     },
     "execution_count": 9,
     "metadata": {},
     "output_type": "execute_result"
    }
   ],
   "source": [
    "# number of zipcodes\n",
    "\n",
    "df1['zipcode'].nunique()"
   ]
  },
  {
   "cell_type": "code",
   "execution_count": null,
   "metadata": {},
   "outputs": [],
   "source": []
  },
  {
   "cell_type": "code",
   "execution_count": 10,
   "metadata": {},
   "outputs": [
    {
     "data": {
      "text/plain": [
       "array([10514., 60611., 60605.,  1605., 20024., 78741., 78751., 11370.,\n",
       "        1850., 75081., 90404., 77027.,  2176.,    nan, 77551., 77058.,\n",
       "        1906., 60067., 20707., 60609., 78705., 33428., 78628., 11238.,\n",
       "       75074., 11205., 94530.])"
      ]
     },
     "execution_count": 10,
     "metadata": {},
     "output_type": "execute_result"
    }
   ],
   "source": [
    "# list of zip codes\n",
    "\n",
    "df1['zipcode'].unique()"
   ]
  },
  {
   "cell_type": "markdown",
   "metadata": {},
   "source": [
    " "
   ]
  },
  {
   "cell_type": "markdown",
   "metadata": {},
   "source": [
    "# How often do you usually travel per year?\n",
    "<hr/>"
   ]
  },
  {
   "cell_type": "code",
   "execution_count": 11,
   "metadata": {},
   "outputs": [
    {
     "data": {
      "text/plain": [
       "2    0.53125\n",
       "1    0.25000\n",
       "3    0.21875\n",
       "Name: trav_per_year, dtype: float64"
      ]
     },
     "execution_count": 11,
     "metadata": {},
     "output_type": "execute_result"
    }
   ],
   "source": [
    "df1['trav_per_year'].value_counts(normalize = True)"
   ]
  },
  {
   "cell_type": "code",
   "execution_count": 67,
   "metadata": {},
   "outputs": [
    {
     "data": {
      "text/plain": [
       "<matplotlib.axes._subplots.AxesSubplot at 0x7fd6272ed7f0>"
      ]
     },
     "execution_count": 67,
     "metadata": {},
     "output_type": "execute_result"
    },
    {
     "data": {
      "image/png": "[encoded data removed]",
      "text/plain": [
       "<Figure size 432x288 with 1 Axes>"
      ]
     },
     "metadata": {
      "needs_background": "light"
     },
     "output_type": "display_data"
    }
   ],
   "source": [
    "sns.histplot(data = df1, x = 'trav_per_year', bins = 3,)"
   ]
  },
  {
   "cell_type": "code",
   "execution_count": 69,
   "metadata": {},
   "outputs": [
    {
     "data": {
      "image/png": "[encoded data removed]",
      "text/plain": [
       "<Figure size 504x360 with 1 Axes>"
      ]
     },
     "metadata": {
      "needs_background": "light"
     },
     "output_type": "display_data"
    }
   ],
   "source": [
    "df1['trav_per_year'].value_counts().plot(kind = 'bar',\n",
    "                                        figsize=(7,5),\n",
    "                                        color = 'mediumpurple');"
   ]
  },
  {
   "cell_type": "markdown",
   "metadata": {},
   "source": [
    "# What type of lodging do you most often stay at?\n",
    "<hr/>"
   ]
  },
  {
   "cell_type": "code",
   "execution_count": 13,
   "metadata": {},
   "outputs": [
    {
     "data": {
      "text/plain": [
       "Hotel                           50.000\n",
       "AirBnb                          34.375\n",
       "Family                           6.250\n",
       "Whatever is cheapest             3.125\n",
       "Hotel and local inn              3.125\n",
       "Split between Hotels and Air     3.125\n",
       "Name: type_lodging, dtype: float64"
      ]
     },
     "execution_count": 13,
     "metadata": {},
     "output_type": "execute_result"
    }
   ],
   "source": [
    "# in %\n",
    "\n",
    "df1['type_lodging'].value_counts(normalize = True) * 100 "
   ]
  },
  {
   "cell_type": "code",
   "execution_count": 70,
   "metadata": {},
   "outputs": [
    {
     "data": {
      "image/png": "[encoded data removed]",
      "text/plain": [
       "<Figure size 504x360 with 1 Axes>"
      ]
     },
     "metadata": {
      "needs_background": "light"
     },
     "output_type": "display_data"
    }
   ],
   "source": [
    "df1['type_lodging'].value_counts().plot(kind = 'bar',\n",
    "                                        figsize=(7,5),\n",
    "                                        color = 'mediumpurple');"
   ]
  },
  {
   "cell_type": "markdown",
   "metadata": {},
   "source": [
    "# Who do you usually travel with?\n",
    "<hr>"
   ]
  },
  {
   "cell_type": "code",
   "execution_count": 14,
   "metadata": {},
   "outputs": [
    {
     "data": {
      "text/plain": [
       "With friends, With family                          8\n",
       "With family                                        8\n",
       "With friends                                       4\n",
       "By myself                                          3\n",
       "By myself, With friends, With family               3\n",
       "By myself, With family                             2\n",
       "With friends, With family, with S.O.               1\n",
       "By myself, With friends                            1\n",
       "with partner                                       1\n",
       "By myself, With friends, With family, With kids    1\n",
       "Name: who_travel, dtype: int64"
      ]
     },
     "execution_count": 14,
     "metadata": {},
     "output_type": "execute_result"
    }
   ],
   "source": [
    "\n",
    "df1['who_travel'].value_counts()"
   ]
  },
  {
   "cell_type": "code",
   "execution_count": 71,
   "metadata": {},
   "outputs": [
    {
     "data": {
      "image/png": "[encoded data removed]",
      "text/plain": [
       "<Figure size 504x360 with 1 Axes>"
      ]
     },
     "metadata": {
      "needs_background": "light"
     },
     "output_type": "display_data"
    }
   ],
   "source": [
    "df1['who_travel'].value_counts().plot(kind = 'bar',\n",
    "                                        figsize=(7,5),\n",
    "                                        color = 'mediumpurple');"
   ]
  },
  {
   "cell_type": "markdown",
   "metadata": {},
   "source": [
    "# How many people do you travel with?\n",
    "<hr/>"
   ]
  },
  {
   "cell_type": "code",
   "execution_count": 15,
   "metadata": {},
   "outputs": [
    {
     "data": {
      "text/plain": [
       "1-2 people    18\n",
       "3-4 people    12\n",
       "5+ people      1\n",
       "None           1\n",
       "Name: num_people, dtype: int64"
      ]
     },
     "execution_count": 15,
     "metadata": {},
     "output_type": "execute_result"
    }
   ],
   "source": [
    "df1['num_people'].value_counts()"
   ]
  },
  {
   "cell_type": "code",
   "execution_count": 72,
   "metadata": {},
   "outputs": [
    {
     "data": {
      "image/png": "[encoded data removed]",
      "text/plain": [
       "<Figure size 504x360 with 1 Axes>"
      ]
     },
     "metadata": {
      "needs_background": "light"
     },
     "output_type": "display_data"
    }
   ],
   "source": [
    "df1['num_people'].value_counts().plot(kind = 'bar',\n",
    "                                        figsize=(7,5),\n",
    "                                        color = 'mediumpurple');"
   ]
  },
  {
   "cell_type": "markdown",
   "metadata": {},
   "source": [
    "# Do you prefer to use an app or website when booking your travel accommodations?\n",
    "<hr/>"
   ]
  },
  {
   "cell_type": "code",
   "execution_count": 16,
   "metadata": {},
   "outputs": [
    {
     "data": {
      "text/plain": [
       "Website    78.125\n",
       "App        21.875\n",
       "Name: app_website, dtype: float64"
      ]
     },
     "execution_count": 16,
     "metadata": {},
     "output_type": "execute_result"
    }
   ],
   "source": [
    "# in %\n",
    "\n",
    "df1['app_website'].value_counts(normalize = True)*100"
   ]
  },
  {
   "cell_type": "code",
   "execution_count": 73,
   "metadata": {},
   "outputs": [
    {
     "data": {
      "image/png": "[encoded data removed]",
      "text/plain": [
       "<Figure size 504x360 with 1 Axes>"
      ]
     },
     "metadata": {
      "needs_background": "light"
     },
     "output_type": "display_data"
    }
   ],
   "source": [
    "df1['app_website'].value_counts().plot(kind = 'bar',\n",
    "                                        figsize=(7,5),\n",
    "                                        color = 'mediumpurple');"
   ]
  },
  {
   "cell_type": "markdown",
   "metadata": {},
   "source": [
    "# Have you travelled during the pandemic?\n",
    "<hr>"
   ]
  },
  {
   "cell_type": "code",
   "execution_count": 17,
   "metadata": {},
   "outputs": [
    {
     "data": {
      "text/plain": [
       "Yes    59.375\n",
       "No     40.625\n",
       "Name: covid_travel, dtype: float64"
      ]
     },
     "execution_count": 17,
     "metadata": {},
     "output_type": "execute_result"
    }
   ],
   "source": [
    "# in %\n",
    "\n",
    "df1['covid_travel'].value_counts(normalize = True)* 100"
   ]
  },
  {
   "cell_type": "code",
   "execution_count": 74,
   "metadata": {},
   "outputs": [
    {
     "data": {
      "image/png": "[encoded data removed]",
      "text/plain": [
       "<Figure size 504x360 with 1 Axes>"
      ]
     },
     "metadata": {
      "needs_background": "light"
     },
     "output_type": "display_data"
    }
   ],
   "source": [
    "df1['covid_travel'].value_counts().plot(kind = 'bar',\n",
    "                                        figsize=(7,5),\n",
    "                                        color = 'mediumpurple');"
   ]
  },
  {
   "cell_type": "markdown",
   "metadata": {},
   "source": [
    "# If YES,  what type of lodging did you stay at and why?\n",
    "<hr/>"
   ]
  },
  {
   "cell_type": "code",
   "execution_count": 136,
   "metadata": {},
   "outputs": [
    {
     "data": {
      "text/plain": [
       "0                                   Hotel for ease/safe\n",
       "5     Hotel.  Normally would've stayed with family, ...\n",
       "7                                        Hotel, Airbnb \n",
       "8     Air bnb, they had good cleaning procedures tha...\n",
       "9     Friend's home, most accessible and least likel...\n",
       "10    AirBnB cabin with a hot tub. We wanted to get ...\n",
       "11                           Stayed at a friends house.\n",
       "12                           Condo rental /rental home \n",
       "13    Air bnb, easier to find for more remote locati...\n",
       "14    Campgrounds, Airs, Hotels - As many campground...\n",
       "16                                        Family House \n",
       "17                                                None \n",
       "19    Friends' house. Also had friends that stayed a...\n",
       "20    Air bnb, easier to find for more remote locati...\n",
       "21                                     Family Residence\n",
       "23                  Resort - closer to day destination \n",
       "24                                                None \n",
       "25    I’m going in April and tend to use AirBnb and ...\n",
       "26    I stayed at an air bnb a few times and then I ...\n",
       "28               Home of friends or family due to covid\n",
       "31    Airbnb or Motel - it's safer bc less interacti...\n",
       "Name: covid_lodging, dtype: object"
      ]
     },
     "execution_count": 136,
     "metadata": {},
     "output_type": "execute_result"
    }
   ],
   "source": [
    "df1['covid_lodging']"
   ]
  },
  {
   "cell_type": "code",
   "execution_count": 143,
   "metadata": {},
   "outputs": [
    {
     "data": {
      "image/png": "[encoded data removed]",
      "text/plain": [
       "<Figure size 432x288 with 1 Axes>"
      ]
     },
     "metadata": {
      "needs_background": "light"
     },
     "output_type": "display_data"
    }
   ],
   "source": [
    "\n",
    "sentiment_analyzer(df1['covid_lodging']).mean().plot(kind = 'barh');"
   ]
  },
  {
   "cell_type": "code",
   "execution_count": null,
   "metadata": {},
   "outputs": [],
   "source": []
  },
  {
   "cell_type": "markdown",
   "metadata": {},
   "source": [
    "# If YES,  did you have any concerns or difficulties during your stay in relation to COVID? \n",
    "<hr/>"
   ]
  },
  {
   "cell_type": "code",
   "execution_count": 19,
   "metadata": {},
   "outputs": [
    {
     "data": {
      "text/plain": [
       "0                                                    No\n",
       "1                                                   NaN\n",
       "2                                                   NaN\n",
       "3                                                   NaN\n",
       "4                                                   NaN\n",
       "5     Yes, staffing levels were reduced, which resul...\n",
       "6                                                   NaN\n",
       "7             Less amenities, smaller breakfast options\n",
       "8     A lot of restaurants and places were closed in...\n",
       "9                                                    No\n",
       "10                                                   No\n",
       "11    I travelled through multiple states and it was...\n",
       "12                           Pool usage at rented condo\n",
       "13    When new travel restrictions were implemented ...\n",
       "14    No. Places were were empty and just like anywh...\n",
       "15                                                  NaN\n",
       "16                         Some just social distancing \n",
       "17                                                None \n",
       "18                                                  NaN\n",
       "19    No real concerns with COVID. Travelled followi...\n",
       "20    When new travel restrictions were implemented ...\n",
       "21                                            No issues\n",
       "22                                                  NaN\n",
       "23                                                   No\n",
       "24                                                None \n",
       "25    When it comes to AirBnb the only concern was f...\n",
       "26    I wasn’t worried about myself per say, I more ...\n",
       "27                                                  NaN\n",
       "28                              Yes, exposure concerns \n",
       "29                                                  NaN\n",
       "30                                                  NaN\n",
       "31                                                 nope\n",
       "Name: covid_issues, dtype: object"
      ]
     },
     "execution_count": 19,
     "metadata": {},
     "output_type": "execute_result"
    }
   ],
   "source": [
    "df1['covid_issues']"
   ]
  },
  {
   "cell_type": "code",
   "execution_count": 144,
   "metadata": {},
   "outputs": [
    {
     "data": {
      "image/png": "[encoded data removed]",
      "text/plain": [
       "<Figure size 432x288 with 1 Axes>"
      ]
     },
     "metadata": {
      "needs_background": "light"
     },
     "output_type": "display_data"
    }
   ],
   "source": [
    "sentiment_analyzer(df1['covid_issues']).mean().plot(kind = 'barh');"
   ]
  },
  {
   "cell_type": "markdown",
   "metadata": {},
   "source": [
    "# Why do you typically choose that lodging option?\n",
    "<hr/>"
   ]
  },
  {
   "cell_type": "code",
   "execution_count": 20,
   "metadata": {},
   "outputs": [
    {
     "data": {
      "text/plain": [
       "0                       Experience. Know what to expect\n",
       "1                     Free parking, breakfast included \n",
       "2     Easiest option to book without research, can u...\n",
       "3     location, proximity to places of interest, ame...\n",
       "4                                          Convenience \n",
       "5                           Consistent quality/features\n",
       "6     Big hotel chains are easy to find and expense ...\n",
       "7           Not sketchy, rewards points, free breakfast\n",
       "8                It’s cheaper and there’s more options \n",
       "9                                      Feels more homey\n",
       "10           It's cheaper and offers more than a hotel.\n",
       "11                      Room rates and rewards program.\n",
       "12    I can find  exactly (or close) to what I want ...\n",
       "13    Easy to book, lots of options, usually closest...\n",
       "14    Hotel: Shorter trip --- Air: Longer trip or mo...\n",
       "15                    I try not to spend too much money\n",
       "16    More personal and more involved in wherever I am!\n",
       "17                                   It is inexpensive \n",
       "18    Convenience and accessibility. Airbnb offers m...\n",
       "19                  Easy to access and feels more homey\n",
       "20    Easy to book, lots of options, usually closest...\n",
       "21                      Room amenities and style, price\n",
       "22                                Safest, most credible\n",
       "23    More availability and usually more cost effici...\n",
       "24                                   It is inexpensive \n",
       "25    It can be way cheeper for being able to have a...\n",
       "26    It’s a pretty safe option, plus there’s usuall...\n",
       "27                          Depends on the desitination\n",
       "28                                          Facilities \n",
       "29    Depends on where I am going.  I like to have a...\n",
       "30        I prefer to have as many amenities available \n",
       "31    I don't like being around a bunch of tourists ...\n",
       "Name: why_lodging, dtype: object"
      ]
     },
     "execution_count": 20,
     "metadata": {},
     "output_type": "execute_result"
    }
   ],
   "source": [
    "df1['why_lodging']"
   ]
  },
  {
   "cell_type": "code",
   "execution_count": 145,
   "metadata": {},
   "outputs": [
    {
     "data": {
      "image/png": "[encoded data removed]",
      "text/plain": [
       "<Figure size 432x288 with 1 Axes>"
      ]
     },
     "metadata": {
      "needs_background": "light"
     },
     "output_type": "display_data"
    }
   ],
   "source": [
    "sentiment_analyzer(df1['why_lodging']).mean().plot(kind = 'barh');"
   ]
  },
  {
   "cell_type": "markdown",
   "metadata": {},
   "source": [
    "# \"Bed and Breakfast\", what comes to mind\n",
    "<hr/>"
   ]
  },
  {
   "cell_type": "code",
   "execution_count": 21,
   "metadata": {},
   "outputs": [
    {
     "data": {
      "text/plain": [
       "array(['Charming vacation ', 'Tea and bread',\n",
       "       'Motel, AirBnb, cozy lodging in countryside',\n",
       "       'inexpensive lodging, comfort of home away from home', 'Homey',\n",
       "       'Quaint vacation lodging', 'Small family-owned vacation home',\n",
       "       'Small, quaint hotel with breakfast ', 'A hotel', 'Cabin',\n",
       "       'AirBnB',\n",
       "       'Overnight accommodations which includes breakfast the next morning.',\n",
       "       'Cute little place, family friendly, couples, good breakfast, hospitality ',\n",
       "       'Relaxing amenities, cooked meals, quiet getaway',\n",
       "       'Everything AirBnB - Also corny country inns - Couples weekends',\n",
       "       'A small inn, locally owned. Definitely not a large chain like Hampton. ',\n",
       "       'A hotel ',\n",
       "       'Comfortable lodging with food and amenities. Low cost for nightly stays. ',\n",
       "       'Vermont and fall',\n",
       "       'Traditional, colonial style housing, affordable, low-end amenities focus on lodging',\n",
       "       'travel',\n",
       "       'Place to stay overnight that is quaint and has breakfast provided.',\n",
       "       'A hotel or inn that serves complimentary breakfast.',\n",
       "       'Romantic partners going on some sort of getaway and staying in a little house that serves you food',\n",
       "       'Countryside', 'Cute ',\n",
       "       'Old Victorian house with lots of old people and free scones in the morning.  ',\n",
       "       'basic room with basic breakfast in a dining room - not breakfast in bed',\n",
       "       'small quaint hotel/motel that has food included in the price'],\n",
       "      dtype=object)"
      ]
     },
     "execution_count": 21,
     "metadata": {},
     "output_type": "execute_result"
    }
   ],
   "source": [
    "df1['term_bnb'].unique()"
   ]
  },
  {
   "cell_type": "code",
   "execution_count": 147,
   "metadata": {},
   "outputs": [
    {
     "data": {
      "image/png": "[encoded data removed]",
      "text/plain": [
       "<Figure size 432x288 with 1 Axes>"
      ]
     },
     "metadata": {
      "needs_background": "light"
     },
     "output_type": "display_data"
    }
   ],
   "source": [
    "sentiment_analyzer(df1['term_bnb']).mean().plot(kind = 'barh');"
   ]
  },
  {
   "cell_type": "code",
   "execution_count": 22,
   "metadata": {},
   "outputs": [],
   "source": [
    "# lemitize \n"
   ]
  },
  {
   "cell_type": "code",
   "execution_count": 23,
   "metadata": {},
   "outputs": [],
   "source": [
    "# word count "
   ]
  },
  {
   "cell_type": "code",
   "execution_count": 24,
   "metadata": {},
   "outputs": [],
   "source": [
    "# Emotinal inflextion "
   ]
  },
  {
   "cell_type": "code",
   "execution_count": 25,
   "metadata": {},
   "outputs": [],
   "source": [
    "####"
   ]
  },
  {
   "cell_type": "markdown",
   "metadata": {},
   "source": [
    "# How do you typically find places to stay at while traveling? (rank from 1-4)\n",
    "<hr/>"
   ]
  },
  {
   "cell_type": "code",
   "execution_count": 52,
   "metadata": {},
   "outputs": [
    {
     "data": {
      "text/html": [
       "<div>\n",
       "<style scoped>\n",
       "    .dataframe tbody tr th:only-of-type {\n",
       "        vertical-align: middle;\n",
       "    }\n",
       "\n",
       "    .dataframe tbody tr th {\n",
       "        vertical-align: top;\n",
       "    }\n",
       "\n",
       "    .dataframe thead th {\n",
       "        text-align: right;\n",
       "    }\n",
       "</style>\n",
       "<table border=\"1\" class=\"dataframe\">\n",
       "  <thead>\n",
       "    <tr style=\"text-align: right;\">\n",
       "      <th></th>\n",
       "      <th>index</th>\n",
       "      <th>1</th>\n",
       "      <th>2</th>\n",
       "      <th>3</th>\n",
       "      <th>4</th>\n",
       "    </tr>\n",
       "  </thead>\n",
       "  <tbody>\n",
       "    <tr>\n",
       "      <th>0</th>\n",
       "      <td>find_recommendations</td>\n",
       "      <td>28.0</td>\n",
       "      <td>28.0</td>\n",
       "      <td>28.0</td>\n",
       "      <td>16.0</td>\n",
       "    </tr>\n",
       "    <tr>\n",
       "      <th>1</th>\n",
       "      <td>find_social</td>\n",
       "      <td>44.0</td>\n",
       "      <td>41.0</td>\n",
       "      <td>9.0</td>\n",
       "      <td>6.0</td>\n",
       "    </tr>\n",
       "    <tr>\n",
       "      <th>2</th>\n",
       "      <td>find_google</td>\n",
       "      <td>NaN</td>\n",
       "      <td>12.0</td>\n",
       "      <td>31.0</td>\n",
       "      <td>56.0</td>\n",
       "    </tr>\n",
       "    <tr>\n",
       "      <th>3</th>\n",
       "      <td>find_online</td>\n",
       "      <td>16.0</td>\n",
       "      <td>9.0</td>\n",
       "      <td>19.0</td>\n",
       "      <td>56.0</td>\n",
       "    </tr>\n",
       "  </tbody>\n",
       "</table>\n",
       "</div>"
      ],
      "text/plain": [
       "                  index     1     2     3     4\n",
       "0  find_recommendations  28.0  28.0  28.0  16.0\n",
       "1           find_social  44.0  41.0   9.0   6.0\n",
       "2           find_google   NaN  12.0  31.0  56.0\n",
       "3           find_online  16.0   9.0  19.0  56.0"
      ]
     },
     "execution_count": 52,
     "metadata": {},
     "output_type": "execute_result"
    }
   ],
   "source": [
    "findplaces_df =  prepare_table(df1, ['find_recommendations','find_social','find_google','find_online']).reset_index()\n",
    "findplaces_df"
   ]
  },
  {
   "cell_type": "code",
   "execution_count": null,
   "metadata": {},
   "outputs": [],
   "source": [
    "\n"
   ]
  },
  {
   "cell_type": "code",
   "execution_count": 38,
   "metadata": {},
   "outputs": [
    {
     "name": "stderr",
     "output_type": "stream",
     "text": [
      "R[write to console]: Warning:\n",
      "R[write to console]:  unable to access index for repository https://CRAN.R-project.org/package=HH/src/contrib:\n",
      "  cannot open URL 'https://CRAN.R-project.org/package=HH/src/contrib/PACKAGES'\n",
      "\n",
      "R[write to console]: Error in library(HH) : there is no package called ‘HH’\n",
      "\n",
      "R[write to console]: In addition: \n",
      "R[write to console]: Warning message:\n",
      "\n",
      "R[write to console]: package ‘HH’ is not available (for R version 3.6.1) \n",
      "\n"
     ]
    },
    {
     "name": "stdout",
     "output_type": "stream",
     "text": [
      "\n",
      "Error in library(HH) : there is no package called ‘HH’\n"
     ]
    }
   ],
   "source": [
    "%%R -i findplaces_df -w 10 -h 5 -u in -r 400\n",
    "\n",
    "# replacing '.' in colnames by spaces which were lost in the \n",
    "# transition from Python to R\n",
    "\n",
    "install.packages(\"HH\", repos='https://CRAN.R-project.org/package=HH', quiet=TRUE)\n",
    "library(HH)\n",
    "\n",
    "\n",
    "colnames(findplaces_df) <- gsub('\\\\.', ' ', colnames(findplaces_df))\n",
    "likert(index ~ ., data=findplaces_df,\n",
    "       main=\"Machiavellianism\",\n",
    "       ylab=NULL,\n",
    "       scales=list(y=list(relation=\"free\")), layout=c(1,1),\n",
    "       positive.order=T)"
   ]
  },
  {
   "cell_type": "code",
   "execution_count": 28,
   "metadata": {},
   "outputs": [
    {
     "data": {
      "text/plain": [
       "\"\\nlikert(category ~ . | question, \\n       subset(quest, subtable=='age'),\\n       main='Machiavellianism',\\n       ylab='Age categories',\\n       as.percent=T,\\n       layout=c(1,5))\\n\\n\\nlikert(question ~ . | category, \\n       subset(quest, subtable=='gender'),\\n       main='Machiavellianism',\\n       ylab=NULL,\\n       as.percent=T,\\n       rightAxis=F,\\n       positive.order = T)\\n\\n\""
      ]
     },
     "execution_count": 28,
     "metadata": {},
     "output_type": "execute_result"
    }
   ],
   "source": [
    "\"\"\"\n",
    "likert(category ~ . | question, \n",
    "       subset(quest, subtable=='age'),\n",
    "       main='Machiavellianism',\n",
    "       ylab='Age categories',\n",
    "       as.percent=T,\n",
    "       layout=c(1,5))\n",
    "\n",
    "\n",
    "likert(question ~ . | category, \n",
    "       subset(quest, subtable=='gender'),\n",
    "       main='Machiavellianism',\n",
    "       ylab=NULL,\n",
    "       as.percent=T,\n",
    "       rightAxis=F,\n",
    "       positive.order = T)\n",
    "\n",
    "\"\"\""
   ]
  },
  {
   "cell_type": "code",
   "execution_count": null,
   "metadata": {},
   "outputs": [],
   "source": []
  },
  {
   "cell_type": "markdown",
   "metadata": {},
   "source": [
    "# When you book a vacation, what matters to you? (rank from 1-6)\n",
    "<hr/>"
   ]
  },
  {
   "cell_type": "code",
   "execution_count": 29,
   "metadata": {},
   "outputs": [
    {
     "data": {
      "text/html": [
       "<div>\n",
       "<style scoped>\n",
       "    .dataframe tbody tr th:only-of-type {\n",
       "        vertical-align: middle;\n",
       "    }\n",
       "\n",
       "    .dataframe tbody tr th {\n",
       "        vertical-align: top;\n",
       "    }\n",
       "\n",
       "    .dataframe thead th {\n",
       "        text-align: right;\n",
       "    }\n",
       "</style>\n",
       "<table border=\"1\" class=\"dataframe\">\n",
       "  <thead>\n",
       "    <tr style=\"text-align: right;\">\n",
       "      <th></th>\n",
       "      <th>matters_tours</th>\n",
       "      <th>matters_food</th>\n",
       "      <th>matters_relax</th>\n",
       "      <th>matters_shopping</th>\n",
       "      <th>matters_meeting</th>\n",
       "      <th>matters_immersing</th>\n",
       "    </tr>\n",
       "  </thead>\n",
       "  <tbody>\n",
       "    <tr>\n",
       "      <th>1</th>\n",
       "      <td>22.0</td>\n",
       "      <td>NaN</td>\n",
       "      <td>3.0</td>\n",
       "      <td>31.0</td>\n",
       "      <td>34.0</td>\n",
       "      <td>3.0</td>\n",
       "    </tr>\n",
       "    <tr>\n",
       "      <th>2</th>\n",
       "      <td>12.0</td>\n",
       "      <td>6.0</td>\n",
       "      <td>12.0</td>\n",
       "      <td>31.0</td>\n",
       "      <td>28.0</td>\n",
       "      <td>9.0</td>\n",
       "    </tr>\n",
       "    <tr>\n",
       "      <th>3</th>\n",
       "      <td>12.0</td>\n",
       "      <td>19.0</td>\n",
       "      <td>22.0</td>\n",
       "      <td>16.0</td>\n",
       "      <td>16.0</td>\n",
       "      <td>9.0</td>\n",
       "    </tr>\n",
       "    <tr>\n",
       "      <th>4</th>\n",
       "      <td>19.0</td>\n",
       "      <td>22.0</td>\n",
       "      <td>12.0</td>\n",
       "      <td>6.0</td>\n",
       "      <td>6.0</td>\n",
       "      <td>9.0</td>\n",
       "    </tr>\n",
       "    <tr>\n",
       "      <th>5</th>\n",
       "      <td>6.0</td>\n",
       "      <td>19.0</td>\n",
       "      <td>25.0</td>\n",
       "      <td>9.0</td>\n",
       "      <td>6.0</td>\n",
       "      <td>19.0</td>\n",
       "    </tr>\n",
       "    <tr>\n",
       "      <th>6</th>\n",
       "      <td>28.0</td>\n",
       "      <td>34.0</td>\n",
       "      <td>25.0</td>\n",
       "      <td>6.0</td>\n",
       "      <td>9.0</td>\n",
       "      <td>50.0</td>\n",
       "    </tr>\n",
       "  </tbody>\n",
       "</table>\n",
       "</div>"
      ],
      "text/plain": [
       "   matters_tours  matters_food  matters_relax  matters_shopping  \\\n",
       "1           22.0           NaN            3.0              31.0   \n",
       "2           12.0           6.0           12.0              31.0   \n",
       "3           12.0          19.0           22.0              16.0   \n",
       "4           19.0          22.0           12.0               6.0   \n",
       "5            6.0          19.0           25.0               9.0   \n",
       "6           28.0          34.0           25.0               6.0   \n",
       "\n",
       "   matters_meeting  matters_immersing  \n",
       "1             34.0                3.0  \n",
       "2             28.0                9.0  \n",
       "3             16.0                9.0  \n",
       "4              6.0                9.0  \n",
       "5              6.0               19.0  \n",
       "6              9.0               50.0  "
      ]
     },
     "execution_count": 29,
     "metadata": {},
     "output_type": "execute_result"
    }
   ],
   "source": [
    "prepare_table(df1, ['matters_tours','matters_food','matters_relax',\n",
    "                    'matters_shopping','matters_meeting', 'matters_immersing']).T"
   ]
  },
  {
   "cell_type": "code",
   "execution_count": null,
   "metadata": {},
   "outputs": [],
   "source": []
  },
  {
   "cell_type": "code",
   "execution_count": null,
   "metadata": {},
   "outputs": [],
   "source": [
    ".yaxis.label.set_visible(False)"
   ]
  },
  {
   "cell_type": "code",
   "execution_count": null,
   "metadata": {},
   "outputs": [],
   "source": [
    ".set_title(\"Age {}\".format(age_group))\n",
    "\n",
    " sort_order = groupby_count_obj.loc[age_group].sort_index().index"
   ]
  }
 ],
 "metadata": {
  "kernelspec": {
   "display_name": "Python 3",
   "language": "python",
   "name": "python3"
  },
  "language_info": {
   "codemirror_mode": {
    "name": "ipython",
    "version": 3
   },
   "file_extension": ".py",
   "mimetype": "text/x-python",
   "name": "python",
   "nbconvert_exporter": "python",
   "pygments_lexer": "ipython3",
   "version": "3.8.2"
  }
 },
 "nbformat": 4,
 "nbformat_minor": 4
}
