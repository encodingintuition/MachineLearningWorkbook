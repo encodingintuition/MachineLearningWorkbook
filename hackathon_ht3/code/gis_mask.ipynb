{
 "cells": [
  {
   "cell_type": "code",
   "execution_count": null,
   "metadata": {},
   "outputs": [],
   "source": [
    "# \n",
    "<hr/>"
   ]
  },
  {
   "cell_type": "code",
   "execution_count": null,
   "metadata": {},
   "outputs": [],
   "source": []
  },
  {
   "cell_type": "code",
   "execution_count": 9,
   "metadata": {},
   "outputs": [],
   "source": [
    "# libaries \n",
    "\n",
    "import pandas as pd\n",
    "\n",
    "## GEO LOCATION\n",
    "import geopandas as gpd\n",
    "from shapely.geometry import Point, Polygon"
   ]
  },
  {
   "cell_type": "code",
   "execution_count": 95,
   "metadata": {},
   "outputs": [
    {
     "data": {
      "text/html": [
       "<div>\n",
       "<style scoped>\n",
       "    .dataframe tbody tr th:only-of-type {\n",
       "        vertical-align: middle;\n",
       "    }\n",
       "\n",
       "    .dataframe tbody tr th {\n",
       "        vertical-align: top;\n",
       "    }\n",
       "\n",
       "    .dataframe thead th {\n",
       "        text-align: right;\n",
       "    }\n",
       "</style>\n",
       "<table border=\"1\" class=\"dataframe\">\n",
       "  <thead>\n",
       "    <tr style=\"text-align: right;\">\n",
       "      <th></th>\n",
       "      <th>name</th>\n",
       "      <th>address</th>\n",
       "      <th>city</th>\n",
       "      <th>state</th>\n",
       "      <th>postal_code</th>\n",
       "      <th>latitude</th>\n",
       "      <th>longitude</th>\n",
       "      <th>rating</th>\n",
       "      <th>price</th>\n",
       "      <th>descripton</th>\n",
       "    </tr>\n",
       "  </thead>\n",
       "  <tbody>\n",
       "    <tr>\n",
       "      <th>0</th>\n",
       "      <td>Baldwinsville Bed and Breakfast</td>\n",
       "      <td>70 Oswego Street</td>\n",
       "      <td>Baldwinsville</td>\n",
       "      <td>NY</td>\n",
       "      <td>13027</td>\n",
       "      <td>43.16099</td>\n",
       "      <td>-76.33380</td>\n",
       "      <td>3.5</td>\n",
       "      <td>119.67</td>\n",
       "      <td>NaN</td>\n",
       "    </tr>\n",
       "    <tr>\n",
       "      <th>1</th>\n",
       "      <td>Park House Bed and Breakfast</td>\n",
       "      <td>85 Park Street</td>\n",
       "      <td>Binghamton</td>\n",
       "      <td>NY</td>\n",
       "      <td>13905</td>\n",
       "      <td>42.10901</td>\n",
       "      <td>-75.94552</td>\n",
       "      <td>3.0</td>\n",
       "      <td>102.94</td>\n",
       "      <td>NaN</td>\n",
       "    </tr>\n",
       "  </tbody>\n",
       "</table>\n",
       "</div>"
      ],
      "text/plain": [
       "                              name           address           city state  \\\n",
       "0  Baldwinsville Bed and Breakfast  70 Oswego Street  Baldwinsville    NY   \n",
       "1     Park House Bed and Breakfast    85 Park Street     Binghamton    NY   \n",
       "\n",
       "  postal_code  latitude  longitude  rating   price  descripton  \n",
       "0       13027  43.16099  -76.33380     3.5  119.67         NaN  \n",
       "1       13905  42.10901  -75.94552     3.0  102.94         NaN  "
      ]
     },
     "execution_count": 95,
     "metadata": {},
     "output_type": "execute_result"
    }
   ],
   "source": [
    "# Input of Bed n Breakfast location\n",
    "#     reading in all list and choosing one, normally 1 geo would be passed \n",
    "\n",
    "df1 = pd.read_csv('../clean_data/bnb_data_list.csv')\n",
    "df1.head(2)"
   ]
  },
  {
   "cell_type": "code",
   "execution_count": 74,
   "metadata": {},
   "outputs": [
    {
     "data": {
      "text/html": [
       "<div>\n",
       "<style scoped>\n",
       "    .dataframe tbody tr th:only-of-type {\n",
       "        vertical-align: middle;\n",
       "    }\n",
       "\n",
       "    .dataframe tbody tr th {\n",
       "        vertical-align: top;\n",
       "    }\n",
       "\n",
       "    .dataframe thead th {\n",
       "        text-align: right;\n",
       "    }\n",
       "</style>\n",
       "<table border=\"1\" class=\"dataframe\">\n",
       "  <thead>\n",
       "    <tr style=\"text-align: right;\">\n",
       "      <th></th>\n",
       "      <th>latitude</th>\n",
       "      <th>longitude</th>\n",
       "    </tr>\n",
       "  </thead>\n",
       "  <tbody>\n",
       "    <tr>\n",
       "      <th>0</th>\n",
       "      <td>43.16099</td>\n",
       "      <td>-76.3338</td>\n",
       "    </tr>\n",
       "  </tbody>\n",
       "</table>\n",
       "</div>"
      ],
      "text/plain": [
       "   latitude  longitude\n",
       "0  43.16099   -76.3338"
      ]
     },
     "execution_count": 74,
     "metadata": {},
     "output_type": "execute_result"
    }
   ],
   "source": [
    "df1.loc[0:0,('latitude','longitude')]"
   ]
  },
  {
   "cell_type": "code",
   "execution_count": 97,
   "metadata": {},
   "outputs": [
    {
     "data": {
      "text/plain": [
       "latitude     43.7717\n",
       "longitude   -73.9233\n",
       "Name: 29, dtype: object"
      ]
     },
     "execution_count": 97,
     "metadata": {},
     "output_type": "execute_result"
    }
   ],
   "source": [
    "df1.iloc[29,5:7]"
   ]
  },
  {
   "cell_type": "code",
   "execution_count": 113,
   "metadata": {},
   "outputs": [
    {
     "data": {
      "text/plain": [
       "name           The Alpine Homestead Bed & Breakfast\n",
       "address                        1314 County Route 29\n",
       "city                                   Olmstedville\n",
       "state                                            NY\n",
       "postal_code                                   12857\n",
       "latitude                                    43.7717\n",
       "longitude                                  -73.9233\n",
       "rating                                          3.5\n",
       "price                                        112.67\n",
       "descripton                                      NaN\n",
       "Name: 29, dtype: object"
      ]
     },
     "execution_count": 113,
     "metadata": {},
     "output_type": "execute_result"
    }
   ],
   "source": [
    "df1.iloc[29,:]"
   ]
  },
  {
   "cell_type": "code",
   "execution_count": 98,
   "metadata": {},
   "outputs": [],
   "source": [
    "# create var with DF of latitude and Longitude\n",
    "\n",
    "bnb_gis = df1.iloc[29,5:7]"
   ]
  },
  {
   "cell_type": "markdown",
   "metadata": {},
   "source": [
    "#### Import Gems"
   ]
  },
  {
   "cell_type": "code",
   "execution_count": 99,
   "metadata": {},
   "outputs": [
    {
     "data": {
      "text/html": [
       "<div>\n",
       "<style scoped>\n",
       "    .dataframe tbody tr th:only-of-type {\n",
       "        vertical-align: middle;\n",
       "    }\n",
       "\n",
       "    .dataframe tbody tr th {\n",
       "        vertical-align: top;\n",
       "    }\n",
       "\n",
       "    .dataframe thead th {\n",
       "        text-align: right;\n",
       "    }\n",
       "</style>\n",
       "<table border=\"1\" class=\"dataframe\">\n",
       "  <thead>\n",
       "    <tr style=\"text-align: right;\">\n",
       "      <th></th>\n",
       "      <th>name</th>\n",
       "      <th>address</th>\n",
       "      <th>city</th>\n",
       "      <th>state</th>\n",
       "      <th>zip</th>\n",
       "      <th>type</th>\n",
       "      <th>latitude</th>\n",
       "      <th>longitude</th>\n",
       "      <th>gem</th>\n",
       "      <th>visable</th>\n",
       "      <th>rating</th>\n",
       "    </tr>\n",
       "  </thead>\n",
       "  <tbody>\n",
       "    <tr>\n",
       "      <th>0</th>\n",
       "      <td>Lil' Nony's Bakery</td>\n",
       "      <td>1385 Co Rd 29</td>\n",
       "      <td>, Olmstedville</td>\n",
       "      <td>NY</td>\n",
       "      <td>12857</td>\n",
       "      <td>snack</td>\n",
       "      <td>43.771663</td>\n",
       "      <td>-73.930204</td>\n",
       "      <td>0</td>\n",
       "      <td>1</td>\n",
       "      <td>3</td>\n",
       "    </tr>\n",
       "    <tr>\n",
       "      <th>1</th>\n",
       "      <td>It's About Thyme Farm</td>\n",
       "      <td>32 Smith Rd</td>\n",
       "      <td>Olmstedville</td>\n",
       "      <td>NY</td>\n",
       "      <td>12857</td>\n",
       "      <td>shopping</td>\n",
       "      <td>43.779007</td>\n",
       "      <td>-73.951240</td>\n",
       "      <td>1</td>\n",
       "      <td>0</td>\n",
       "      <td>3</td>\n",
       "    </tr>\n",
       "  </tbody>\n",
       "</table>\n",
       "</div>"
      ],
      "text/plain": [
       "                   name         address            city state    zip  \\\n",
       "0     Lil' Nony's Bakery  1385 Co Rd 29  , Olmstedville    NY  12857   \n",
       "1  It's About Thyme Farm    32 Smith Rd    Olmstedville    NY  12857   \n",
       "\n",
       "       type   latitude  longitude  gem  visable   rating  \n",
       "0     snack  43.771663 -73.930204    0         1       3  \n",
       "1  shopping  43.779007 -73.951240    1         0       3  "
      ]
     },
     "execution_count": 99,
     "metadata": {},
     "output_type": "execute_result"
    }
   ],
   "source": [
    "# read in clean dataset of local_gems\n",
    "\n",
    "df = pd.read_csv('../clean_data/local_spots.csv')\n",
    "df.head(2)"
   ]
  },
  {
   "cell_type": "code",
   "execution_count": 139,
   "metadata": {},
   "outputs": [],
   "source": [
    "# convert pandas to geoPandas with geometry feature \n",
    "\n",
    "gdf = gpd.GeoDataFrame(df, geometry = gpd.points_from_xy(df.longitude, df.latitude))"
   ]
  },
  {
   "cell_type": "markdown",
   "metadata": {},
   "source": [
    "# Geo Masking\n",
    "<hr/>"
   ]
  },
  {
   "cell_type": "code",
   "execution_count": 144,
   "metadata": {},
   "outputs": [
    {
     "data": {
      "image/svg+xml": [
       "<svg xmlns=\"http://www.w3.org/2000/svg\" xmlns:xlink=\"http://www.w3.org/1999/xlink\" width=\"100.0\" height=\"100.0\" viewBox=\"-74.9233 42.7717 2.0 2.0\" preserveAspectRatio=\"xMinYMin meet\"><g transform=\"matrix(1,0,0,-1,0,87.5434)\"><circle cx=\"-73.9233\" cy=\"43.7717\" r=\"0.06\" stroke=\"#555555\" stroke-width=\"0.02\" fill=\"#66cc99\" opacity=\"0.6\" /></g></svg>"
      ],
      "text/plain": [
       "<shapely.geometry.point.Point at 0x7fcd9e725940>"
      ]
     },
     "execution_count": 144,
     "metadata": {},
     "output_type": "execute_result"
    }
   ],
   "source": [
    "# convert latitude & longitude  of BnB to gis point\n",
    "#                   (Longitude, Latitude)\n",
    "\n",
    "geo_point = Point(  -73.9233,43.7717)\n",
    "geo_point"
   ]
  },
  {
   "cell_type": "code",
   "execution_count": 148,
   "metadata": {},
   "outputs": [
    {
     "data": {
      "image/svg+xml": [
       "<svg xmlns=\"http://www.w3.org/2000/svg\" xmlns:xlink=\"http://www.w3.org/1999/xlink\" width=\"100.0\" height=\"100.0\" viewBox=\"-74.03129999999999 43.6637 0.21599999999997976 0.21600000000000819\" preserveAspectRatio=\"xMinYMin meet\"><g transform=\"matrix(1,0,0,-1,0,87.5434)\"><path fill-rule=\"evenodd\" fill=\"#66cc99\" stroke=\"#555555\" stroke-width=\"0.004320000000000164\" opacity=\"0.6\" d=\"M -73.8233,43.7717 L -73.82378152733278,43.76189828596705 L -73.82522147195968,43.75219096779839 L -73.82760596642677,43.74267153227456 L -73.83091204674886,43.73343165676349 L -73.83510787356516,43.7245603263174 L -73.84015303876974,43.716142976698045 L -73.84599895466373,43.70826067158364 L -73.85258932188134,43.700989321881345 L -73.85986067158363,43.69439895466373 L -73.86774297669804,43.68855303876975 L -73.8761603263174,43.68350787356517 L -73.88503165676349,43.679312046748876 L -73.89427153227454,43.67600596642678 L -73.90379096779839,43.67362147195968 L -73.91349828596704,43.67218152733278 L -73.9233,43.6717 L -73.93310171403296,43.67218152733278 L -73.94280903220161,43.67362147195968 L -73.95232846772544,43.67600596642678 L -73.96156834323651,43.679312046748876 L -73.97043967368259,43.68350787356517 L -73.97885702330196,43.68855303876975 L -73.98673932841636,43.694398954663725 L -73.99401067811866,43.700989321881345 L -74.00060104533627,43.70826067158364 L -74.00644696123025,43.716142976698045 L -74.01149212643483,43.7245603263174 L -74.01568795325113,43.73343165676349 L -74.01899403357322,43.74267153227456 L -74.02137852804032,43.75219096779839 L -74.02281847266721,43.76189828596705 L -74.02329999999999,43.7717 L -74.02281847266721,43.781501714032956 L -74.02137852804032,43.791209032201614 L -74.01899403357322,43.80072846772545 L -74.01568795325113,43.80996834323651 L -74.01149212643483,43.818839673682604 L -74.00644696123025,43.82725702330196 L -74.00060104533627,43.83513932841637 L -73.99401067811866,43.84241067811866 L -73.98673932841636,43.84900104533627 L -73.97885702330196,43.85484696123026 L -73.97043967368259,43.859892126434836 L -73.96156834323651,43.86408795325113 L -73.95232846772545,43.86739403357323 L -73.94280903220161,43.86977852804033 L -73.93310171403296,43.87121847266722 L -73.9233,43.871700000000004 L -73.91349828596704,43.87121847266722 L -73.90379096779839,43.86977852804033 L -73.89427153227456,43.86739403357323 L -73.88503165676349,43.86408795325113 L -73.8761603263174,43.859892126434836 L -73.86774297669804,43.85484696123026 L -73.85986067158363,43.84900104533628 L -73.85258932188134,43.84241067811866 L -73.84599895466373,43.83513932841637 L -73.84015303876974,43.82725702330196 L -73.83510787356516,43.818839673682604 L -73.83091204674886,43.80996834323651 L -73.82760596642677,43.80072846772545 L -73.82522147195968,43.791209032201614 L -73.82378152733278,43.78150171403296 L -73.8233,43.7717 z\" /></g></svg>"
      ],
      "text/plain": [
       "<shapely.geometry.polygon.Polygon at 0x7fcd9d434e80>"
      ]
     },
     "execution_count": 148,
     "metadata": {},
     "output_type": "execute_result"
    }
   ],
   "source": [
    "# Increase radius of gis point to incude more area\n",
    "\n",
    "geo_pointB = geo_point.buffer(.1)\n",
    "geo_pointB"
   ]
  },
  {
   "cell_type": "code",
   "execution_count": 154,
   "metadata": {},
   "outputs": [
    {
     "name": "stdout",
     "output_type": "stream",
     "text": [
      "POINT (-73.930204 43.771663)\n",
      "yes\n",
      "POINT (-73.95124 43.779007)\n",
      "yes\n",
      "POINT (-73.85191400000001 43.747417)\n",
      "yes\n",
      "POINT (-73.85191400000001 43.747417)\n",
      "yes\n",
      "POINT (-73.92425799999999 43.771755)\n",
      "yes\n",
      "POINT (-73.950862 43.77953400000001)\n",
      "yes\n"
     ]
    }
   ],
   "source": [
    "c = 0\n",
    "close_gems = []\n",
    "\n",
    "# loop through rows in dataframe\n",
    "for i, row in gdf.iterrows():\n",
    "    print(row['geometry'])\n",
    "    # Check if \n",
    "    if geo_pointB.contains(row['geometry']):\n",
    "        print('yes')\n",
    "        # create list of geo points \n",
    "        close_gems.append(row['city']) #gemID\n",
    "        \n",
    "# Join all gemIDs to a string csv\n",
    "bnds_gems = ','.join(close_gems)"
   ]
  },
  {
   "cell_type": "code",
   "execution_count": 155,
   "metadata": {},
   "outputs": [
    {
     "data": {
      "text/plain": [
       "', Olmstedville,Olmstedville,Pottersville,Pottersville,Olmstedville,Olmstedville'"
      ]
     },
     "execution_count": 155,
     "metadata": {},
     "output_type": "execute_result"
    }
   ],
   "source": [
    "bnds_gems"
   ]
  },
  {
   "cell_type": "code",
   "execution_count": 129,
   "metadata": {},
   "outputs": [],
   "source": [
    "o = Point(43.171691, -76.346454)"
   ]
  },
  {
   "cell_type": "code",
   "execution_count": 130,
   "metadata": {},
   "outputs": [],
   "source": [
    "p = Point(43.16099 ,\t-76.33380)"
   ]
  },
  {
   "cell_type": "code",
   "execution_count": 131,
   "metadata": {},
   "outputs": [
    {
     "data": {
      "image/svg+xml": [
       "<svg xmlns=\"http://www.w3.org/2000/svg\" xmlns:xlink=\"http://www.w3.org/1999/xlink\" width=\"100.0\" height=\"100.0\" viewBox=\"-74.95124 42.779007 2.0 2.0\" preserveAspectRatio=\"xMinYMin meet\"><g transform=\"matrix(1,0,0,-1,0,87.558014)\"><circle cx=\"-73.95124\" cy=\"43.779007\" r=\"0.06\" stroke=\"#555555\" stroke-width=\"0.02\" fill=\"#66cc99\" opacity=\"0.6\" /></g></svg>"
      ],
      "text/plain": [
       "<shapely.geometry.point.Point at 0x7fcd9d44e700>"
      ]
     },
     "execution_count": 131,
     "metadata": {},
     "output_type": "execute_result"
    }
   ],
   "source": [
    "gdf['geometry'][1]"
   ]
  },
  {
   "cell_type": "code",
   "execution_count": 133,
   "metadata": {},
   "outputs": [
    {
     "data": {
      "text/plain": [
       "True"
      ]
     },
     "execution_count": 133,
     "metadata": {},
     "output_type": "execute_result"
    }
   ],
   "source": [
    "geo_pointB.contains(Point(43.771832, -73.924856))   #(gdf['geometry'][2])"
   ]
  },
  {
   "cell_type": "code",
   "execution_count": 73,
   "metadata": {},
   "outputs": [],
   "source": [
    "x = p.buffer(.1)"
   ]
  },
  {
   "cell_type": "code",
   "execution_count": 74,
   "metadata": {},
   "outputs": [
    {
     "data": {
      "text/plain": [
       "True"
      ]
     },
     "execution_count": 74,
     "metadata": {},
     "output_type": "execute_result"
    }
   ],
   "source": [
    "x.contains(o)"
   ]
  },
  {
   "cell_type": "code",
   "execution_count": 75,
   "metadata": {},
   "outputs": [
    {
     "data": {
      "image/svg+xml": [
       "<svg xmlns=\"http://www.w3.org/2000/svg\" xmlns:xlink=\"http://www.w3.org/1999/xlink\" width=\"100.0\" height=\"100.0\" viewBox=\"43.052989999999994 -76.44179999999999 0.21600000000000819 0.21599999999997976\" preserveAspectRatio=\"xMinYMin meet\"><g transform=\"matrix(1,0,0,-1,0,-152.6676)\"><path fill-rule=\"evenodd\" fill=\"#66cc99\" stroke=\"#555555\" stroke-width=\"0.004320000000000164\" opacity=\"0.6\" d=\"M 43.26099,-76.3338 L 43.26050847266722,-76.34360171403296 L 43.25906852804032,-76.35330903220161 L 43.25668403357322,-76.36282846772545 L 43.253377953251125,-76.3720683432365 L 43.24918212643483,-76.38093967368259 L 43.244136961230254,-76.38935702330195 L 43.238291045336275,-76.39723932841636 L 43.231700678118656,-76.40451067811865 L 43.22442932841636,-76.41110104533627 L 43.216547023301956,-76.41694696123025 L 43.2081296736826,-76.42199212643483 L 43.19925834323651,-76.42618795325113 L 43.190018467725444,-76.42949403357322 L 43.18049903220161,-76.43187852804031 L 43.17079171403295,-76.43331847266721 L 43.16099,-76.43379999999999 L 43.151188285967045,-76.43331847266721 L 43.14148096779839,-76.43187852804031 L 43.13196153227455,-76.42949403357322 L 43.12272165676349,-76.42618795325113 L 43.1138503263174,-76.42199212643483 L 43.10543297669804,-76.41694696123025 L 43.09755067158363,-76.41110104533627 L 43.09027932188134,-76.40451067811865 L 43.08368895466373,-76.39723932841636 L 43.07784303876974,-76.38935702330195 L 43.072797873565165,-76.38093967368259 L 43.06860204674887,-76.3720683432365 L 43.065295966426774,-76.36282846772545 L 43.06291147195967,-76.35330903220161 L 43.06147152733278,-76.34360171403296 L 43.06099,-76.3338 L 43.06147152733278,-76.32399828596704 L 43.06291147195967,-76.31429096779839 L 43.065295966426774,-76.30477153227456 L 43.06860204674887,-76.29553165676349 L 43.072797873565165,-76.2866603263174 L 43.07784303876974,-76.27824297669804 L 43.08368895466372,-76.27036067158363 L 43.09027932188134,-76.26308932188134 L 43.09755067158363,-76.25649895466373 L 43.10543297669804,-76.25065303876974 L 43.1138503263174,-76.24560787356516 L 43.12272165676349,-76.24141204674886 L 43.13196153227455,-76.23810596642677 L 43.14148096779839,-76.23572147195968 L 43.151188285967045,-76.23428152733278 L 43.16099,-76.2338 L 43.17079171403295,-76.23428152733278 L 43.18049903220161,-76.23572147195968 L 43.190018467725444,-76.23810596642677 L 43.19925834323651,-76.24141204674886 L 43.2081296736826,-76.24560787356516 L 43.216547023301956,-76.25065303876974 L 43.22442932841636,-76.25649895466373 L 43.23170067811865,-76.26308932188134 L 43.23829104533627,-76.27036067158363 L 43.244136961230254,-76.27824297669804 L 43.24918212643483,-76.2866603263174 L 43.253377953251125,-76.29553165676349 L 43.25668403357322,-76.30477153227454 L 43.25906852804032,-76.31429096779839 L 43.26050847266722,-76.32399828596704 L 43.26099,-76.3338 z\" /></g></svg>"
      ],
      "text/plain": [
       "<shapely.geometry.polygon.Polygon at 0x7fa1e7cffc10>"
      ]
     },
     "execution_count": 75,
     "metadata": {},
     "output_type": "execute_result"
    }
   ],
   "source": [
    "x"
   ]
  },
  {
   "cell_type": "code",
   "execution_count": 28,
   "metadata": {},
   "outputs": [
    {
     "data": {
      "text/plain": [
       "153.690876036751"
      ]
     },
     "execution_count": 28,
     "metadata": {},
     "output_type": "execute_result"
    }
   ],
   "source": [
    "x.area"
   ]
  },
  {
   "cell_type": "code",
   "execution_count": 29,
   "metadata": {},
   "outputs": [
    {
     "data": {
      "text/plain": [
       "66"
      ]
     },
     "execution_count": 29,
     "metadata": {},
     "output_type": "execute_result"
    }
   ],
   "source": [
    "len(x.exterior.coords)"
   ]
  },
  {
   "cell_type": "code",
   "execution_count": 30,
   "metadata": {},
   "outputs": [],
   "source": [
    "s = x.simplify(0.05, preserve_topology=False)\n"
   ]
  },
  {
   "cell_type": "code",
   "execution_count": 31,
   "metadata": {},
   "outputs": [
    {
     "data": {
      "text/plain": [
       "152.95081246064467"
      ]
     },
     "execution_count": 31,
     "metadata": {},
     "output_type": "execute_result"
    }
   ],
   "source": [
    "s.area"
   ]
  },
  {
   "cell_type": "code",
   "execution_count": 25,
   "metadata": {},
   "outputs": [
    {
     "data": {
      "text/plain": [
       "17"
      ]
     },
     "execution_count": 25,
     "metadata": {},
     "output_type": "execute_result"
    }
   ],
   "source": [
    "len(s.exterior.coords)"
   ]
  },
  {
   "cell_type": "code",
   "execution_count": null,
   "metadata": {},
   "outputs": [],
   "source": []
  },
  {
   "cell_type": "code",
   "execution_count": null,
   "metadata": {},
   "outputs": [],
   "source": []
  }
 ],
 "metadata": {
  "kernelspec": {
   "display_name": "Python 3",
   "language": "python",
   "name": "python3"
  },
  "language_info": {
   "codemirror_mode": {
    "name": "ipython",
    "version": 3
   },
   "file_extension": ".py",
   "mimetype": "text/x-python",
   "name": "python",
   "nbconvert_exporter": "python",
   "pygments_lexer": "ipython3",
   "version": "3.8.2"
  }
 },
 "nbformat": 4,
 "nbformat_minor": 4
}
