{
 "cells": [
  {
   "cell_type": "code",
   "execution_count": null,
   "metadata": {},
   "outputs": [],
   "source": [
    "SELECT STREAM , SUM(amt) OVER w\n",
    "FROM sales\n",
    "WINDOW w AS (PARTITION BY store_id\n",
    "ORDER BY s.ROWTIME\n",
    "RANGE BETWEEN INTERVAL '1' HOUR PRECEDING AND CURRENT ROW);"
   ]
  },
  {
   "cell_type": "code",
   "execution_count": null,
   "metadata": {},
   "outputs": [],
   "source": [
    "Select t2.Date from Table t1\n",
    "\n",
    "INNER JOIN table t2 on\n",
    "\n",
    "t2.ID=t1.ID+1\n",
    "\n",
    "where t2.Temperature <t1.Temperature;"
   ]
  },
  {
   "cell_type": "code",
   "execution_count": null,
   "metadata": {},
   "outputs": [],
   "source": [
    "SELECT column_name(s)\n",
    "FROM table1\n",
    "LEFT JOIN table2\n",
    "ON table1.column_name = table2.column_name;"
   ]
  },
  {
   "cell_type": "code",
   "execution_count": null,
   "metadata": {},
   "outputs": [],
   "source": [
    "Select c.name\n",
    "FROM city as c\n",
    "LEFT JOIN country as cy\n",
    "on c.countrycode = cy.code\n",
    "WHERE cy.CONTINENT = 'Africa'\n",
    "Order by c.name ASC"
   ]
  },
  {
   "cell_type": "code",
   "execution_count": null,
   "metadata": {},
   "outputs": [],
   "source": [
    "https://biginterview.com/sql-interview-questions/"
   ]
  },
  {
   "cell_type": "code",
   "execution_count": null,
   "metadata": {},
   "outputs": [],
   "source": [
    "CASE\n",
    "    WHEN condition1 THEN result1\n",
    "    WHEN condition2 THEN result2\n",
    "    WHEN conditionN THEN resultN\n",
    "    ELSE result\n",
    "END; "
   ]
  },
  {
   "cell_type": "code",
   "execution_count": null,
   "metadata": {},
   "outputs": [],
   "source": [
    "2. Name all salespersons who did not sell to company Red.\n",
    "\n",
    "SELECT s.name from salesperson s\n",
    "\n",
    "WHERE s.ID NOT IN (\n",
    "\n",
    "SELECT o.sales_id FROM orders o, customer c\n",
    "\n",
    "WHERE o.cust_id = c.ID\n",
    "\n",
    "AND c.Name = 'RED')\n"
   ]
  }
 ],
 "metadata": {
  "kernelspec": {
   "display_name": "Python 3",
   "language": "python",
   "name": "python3"
  },
  "language_info": {
   "codemirror_mode": {
    "name": "ipython",
    "version": 3
   },
   "file_extension": ".py",
   "mimetype": "text/x-python",
   "name": "python",
   "nbconvert_exporter": "python",
   "pygments_lexer": "ipython3",
   "version": "3.8.2"
  }
 },
 "nbformat": 4,
 "nbformat_minor": 4
}
