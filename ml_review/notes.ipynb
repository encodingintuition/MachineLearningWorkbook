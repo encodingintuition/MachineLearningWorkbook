{
 "cells": [
  {
   "cell_type": "code",
   "execution_count": null,
   "metadata": {},
   "outputs": [],
   "source": []
  },
  {
   "cell_type": "code",
   "execution_count": null,
   "metadata": {},
   "outputs": [],
   "source": []
  },
  {
   "cell_type": "code",
   "execution_count": null,
   "metadata": {},
   "outputs": [],
   "source": [
    "# GET DUMMIES\n",
    "states = pd.get_dummies(churn.state, drop_first=True)"
   ]
  },
  {
   "cell_type": "code",
   "execution_count": 1,
   "metadata": {
    "collapsed": true,
    "jupyter": {
     "outputs_hidden": true
    }
   },
   "outputs": [
    {
     "ename": "NameError",
     "evalue": "name 'pd' is not defined",
     "output_type": "error",
     "traceback": [
      "\u001b[0;31m---------------------------------------------------------------------------\u001b[0m",
      "\u001b[0;31mNameError\u001b[0m                                 Traceback (most recent call last)",
      "\u001b[0;32m<ipython-input-1-fd724f03e634>\u001b[0m in \u001b[0;36m<module>\u001b[0;34m\u001b[0m\n\u001b[1;32m      1\u001b[0m \u001b[0;31m# CONCAT\u001b[0m\u001b[0;34m\u001b[0m\u001b[0;34m\u001b[0m\u001b[0;34m\u001b[0m\u001b[0m\n\u001b[0;32m----> 2\u001b[0;31m \u001b[0mpd\u001b[0m\u001b[0;34m.\u001b[0m\u001b[0mconcat\u001b[0m\u001b[0;34m(\u001b[0m\u001b[0;34m[\u001b[0m\u001b[0mdf\u001b[0m\u001b[0;34m,\u001b[0m \u001b[0mdf_2\u001b[0m\u001b[0;34m]\u001b[0m\u001b[0;34m,\u001b[0m \u001b[0maxis\u001b[0m \u001b[0;34m=\u001b[0m\u001b[0;36m1\u001b[0m\u001b[0;34m)\u001b[0m\u001b[0;34m\u001b[0m\u001b[0;34m\u001b[0m\u001b[0m\n\u001b[0m",
      "\u001b[0;31mNameError\u001b[0m: name 'pd' is not defined"
     ]
    }
   ],
   "source": [
    "# CONCAT \n",
    "pd.concat([df, df_2], axis =1)"
   ]
  },
  {
   "cell_type": "code",
   "execution_count": null,
   "metadata": {},
   "outputs": [],
   "source": []
  },
  {
   "cell_type": "code",
   "execution_count": null,
   "metadata": {},
   "outputs": [],
   "source": []
  },
  {
   "cell_type": "code",
   "execution_count": null,
   "metadata": {},
   "outputs": [],
   "source": []
  },
  {
   "cell_type": "code",
   "execution_count": null,
   "metadata": {},
   "outputs": [],
   "source": []
  },
  {
   "cell_type": "code",
   "execution_count": null,
   "metadata": {},
   "outputs": [],
   "source": [
    "# Library SKLEARN\n",
    "from sklearn.metrics import mean_absolute_error, mean_squared_error"
   ]
  },
  {
   "cell_type": "code",
   "execution_count": null,
   "metadata": {},
   "outputs": [],
   "source": [
    "# MAE\n",
    "# Mean Absolute Error\n",
    "mean_absolute_error(y_test, preds)"
   ]
  },
  {
   "cell_type": "markdown",
   "metadata": {},
   "source": [
    "Pros:\n",
    "\n",
    "Represents median distance from the predicted value.\n",
    "- In the original units of $Y$.\n",
    "- Is not heavily affected by outliers.  \n",
    "\n",
    "Cons:\n",
    "- Depends on scale of $Y$. (i.e. housing prices vs. GPA)\n",
    "- Punishes all errors with same \"severity\"."
   ]
  },
  {
   "cell_type": "code",
   "execution_count": null,
   "metadata": {},
   "outputs": [],
   "source": [
    "# Sum of Squared Error (SSE)\n",
    "rss = (residuals ** 2).sum()\n"
   ]
  },
  {
   "cell_type": "markdown",
   "metadata": {},
   "source": [
    "SSE forms the basis for several loss/optimization functions\n",
    "\n",
    "- Mean squared error (MSE)\n",
    "-Root mean squared error (RMSE)\n",
    "-R2"
   ]
  },
  {
   "cell_type": "code",
   "execution_count": null,
   "metadata": {},
   "outputs": [],
   "source": [
    "# MSQ\n",
    "# Mean Squared Error"
   ]
  },
  {
   "cell_type": "markdown",
   "metadata": {},
   "source": [
    "mean_squared_error(y_test, preds)Goal: Get $MSE$ as close to 0 as possible.\n",
    "\n",
    "Pros:\n",
    "\n",
    "- Very common; part of other calculations.\n",
    "- Represents average distance squared from the predicted value.\n",
    "- Punishes outliers severely.\n",
    "- Coincides directly with the metric used to fit OLS model.\n",
    "\n",
    "Cons:\n",
    "- Can be heavily affected by outliers.\n",
    "- Not in the original units of $Y$.\n",
    "- Depends on scale of $Y$. (i.e. housing prices vs. GPA)\n",
    "- Uninterpretable to humans"
   ]
  },
  {
   "cell_type": "code",
   "execution_count": null,
   "metadata": {},
   "outputs": [],
   "source": []
  },
  {
   "cell_type": "code",
   "execution_count": null,
   "metadata": {},
   "outputs": [],
   "source": [
    "# Mean Squared Error, FLAG squared = False\n",
    "mean_squared_error(y_test, preds, squared = False)"
   ]
  },
  {
   "cell_type": "markdown",
   "metadata": {},
   "source": [
    "Goal: Get RMSE as close to 0 as possible.\n",
    "\n",
    "Pros:\n",
    "\n",
    "- Pretty common.\n",
    "- Represents (approximately) average distance from the predicted value.\n",
    "- Looks similar to standard deviation.\n",
    "- In the original units of $Y$.\n",
    "\n",
    "Cons:\n",
    "- Can be heavily affected by outliers.\n",
    "- Depends on scale of $Y$. (i.e. housing prices vs. GPA)\n",
    "- Only a little interpretable."
   ]
  },
  {
   "cell_type": "code",
   "execution_count": null,
   "metadata": {},
   "outputs": [],
   "source": []
  },
  {
   "cell_type": "markdown",
   "metadata": {},
   "source": [
    "# $R_2$ \n",
    "\n",
    "### Coefficient of Determination\n",
    "\n",
    "Goal: Get $R^2$ as close to 1 as possible.\n",
    "\n",
    "    score = 0: Model explains none of the variability of the response data around its mean.\n",
    "    score = 1: Model explains all the variability of the response data around its mean."
   ]
  },
  {
   "cell_type": "markdown",
   "metadata": {},
   "source": [
    "Pros:\n",
    "\n",
    "- Easy interpretation. \"An $R^2$ value of 0.8 means that 80% of the variability in y is explained by the x-variables in our model.\"\n",
    "- Common metric.\n",
    "- Does not depend on the scale of $Y$.\n",
    "- Works with more than just linear regression.\n",
    "\n",
    "Cons:\n",
    "- As you add more variables, $R^2$ will never decrease (with linear regression). Adjusted R2 can handle this assumption better.\n",
    "- ONLY INTERPRETABLE WITH LINEAR REGRESSION!\n",
    "- Outside linear regression values outside 0 and 1 are possible."
   ]
  },
  {
   "cell_type": "code",
   "execution_count": null,
   "metadata": {},
   "outputs": [],
   "source": [
    "http://thedatamonk.com/data-science-resources/"
   ]
  },
  {
   "cell_type": "code",
   "execution_count": null,
   "metadata": {},
   "outputs": [],
   "source": [
    "http://thedatamonk.com/p-value-in-simple-terms/"
   ]
  },
  {
   "cell_type": "code",
   "execution_count": null,
   "metadata": {},
   "outputs": [],
   "source": [
    "http://thedatamonk.com/ridge-vs-lasso-vs-elastic-net-regression/"
   ]
  },
  {
   "cell_type": "code",
   "execution_count": null,
   "metadata": {},
   "outputs": [],
   "source": [
    "# GridSearch CV "
   ]
  },
  {
   "cell_type": "code",
   "execution_count": null,
   "metadata": {},
   "outputs": [],
   "source": [
    ".best_params_"
   ]
  },
  {
   "cell_type": "code",
   "execution_count": null,
   "metadata": {},
   "outputs": [],
   "source": [
    ".cv_results_"
   ]
  }
 ],
 "metadata": {
  "kernelspec": {
   "display_name": "Python 3",
   "language": "python",
   "name": "python3"
  },
  "language_info": {
   "codemirror_mode": {
    "name": "ipython",
    "version": 3
   },
   "file_extension": ".py",
   "mimetype": "text/x-python",
   "name": "python",
   "nbconvert_exporter": "python",
   "pygments_lexer": "ipython3",
   "version": "3.8.2"
  }
 },
 "nbformat": 4,
 "nbformat_minor": 4
}
