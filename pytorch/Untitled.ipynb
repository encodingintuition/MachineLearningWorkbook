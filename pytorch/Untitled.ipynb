{
 "cells": [
  {
   "cell_type": "markdown",
   "metadata": {},
   "source": [
    "# Pytorch  Learning\n",
    "<hr/>"
   ]
  },
  {
   "cell_type": "code",
   "execution_count": 5,
   "metadata": {},
   "outputs": [],
   "source": [
    "# libraries\n",
    "\n",
    "import torch\n",
    "import numpy as np \n"
   ]
  },
  {
   "cell_type": "code",
   "execution_count": 3,
   "metadata": {},
   "outputs": [],
   "source": []
  },
  {
   "cell_type": "code",
   "execution_count": 6,
   "metadata": {},
   "outputs": [
    {
     "name": "stdout",
     "output_type": "stream",
     "text": [
      "[[0. 0. 0. 0.]\n",
      " [0. 0. 0. 0.]\n",
      " [0. 0. 0. 0.]\n",
      " [0. 0. 0. 0.]]\n",
      "\n",
      "[[1. 1. 1. 1.]\n",
      " [1. 1. 1. 1.]\n",
      " [1. 1. 1. 1.]\n",
      " [1. 1. 1. 1.]]\n",
      "\n",
      "[[0.14887185 0.95428828 0.59857653 0.55084052]\n",
      " [0.60630747 0.50475587 0.31937092 0.91098533]\n",
      " [0.77664692 0.35098037 0.60243575 0.66483577]\n",
      " [0.38545354 0.19234342 0.99574159 0.47441368]]\n"
     ]
    }
   ],
   "source": [
    "# numpy \n",
    "\n",
    "zeros  = np.zeros((4, 4))\n",
    "print(zeros)\n",
    "print()\n",
    "ones   = np.ones((4, 4))\n",
    "print(ones)\n",
    "print()\n",
    "random = np.random.random((4, 4))\n",
    "print(random)"
   ]
  },
  {
   "cell_type": "code",
   "execution_count": 8,
   "metadata": {},
   "outputs": [
    {
     "name": "stdout",
     "output_type": "stream",
     "text": [
      "tensor([[0., 0., 0., 0.],\n",
      "        [0., 0., 0., 0.],\n",
      "        [0., 0., 0., 0.],\n",
      "        [0., 0., 0., 0.]])\n",
      "\n",
      "tensor([[1., 1., 1., 1.],\n",
      "        [1., 1., 1., 1.],\n",
      "        [1., 1., 1., 1.],\n",
      "        [1., 1., 1., 1.]])\n",
      "\n",
      "tensor([[0.4890, 0.9963, 0.9758, 0.7537],\n",
      "        [0.5785, 0.6230, 0.0869, 0.4775],\n",
      "        [0.9793, 0.6736, 0.9017, 0.1821],\n",
      "        [0.5539, 0.7993, 0.8924, 0.5812]])\n"
     ]
    }
   ],
   "source": [
    "# Pytorch\n",
    "\n",
    "zeros  = torch.zeros(4, 4)\n",
    "print(zeros)\n",
    "print()\n",
    "ones   = torch.ones(4, 4)\n",
    "print(ones)\n",
    "print()\n",
    "random = torch.rand(4, 4)\n",
    "print(random)\n"
   ]
  },
  {
   "cell_type": "code",
   "execution_count": null,
   "metadata": {},
   "outputs": [],
   "source": []
  }
 ],
 "metadata": {
  "kernelspec": {
   "display_name": "Python 3",
   "language": "python",
   "name": "python3"
  },
  "language_info": {
   "codemirror_mode": {
    "name": "ipython",
    "version": 3
   },
   "file_extension": ".py",
   "mimetype": "text/x-python",
   "name": "python",
   "nbconvert_exporter": "python",
   "pygments_lexer": "ipython3",
   "version": "3.8.2"
  }
 },
 "nbformat": 4,
 "nbformat_minor": 4
}
