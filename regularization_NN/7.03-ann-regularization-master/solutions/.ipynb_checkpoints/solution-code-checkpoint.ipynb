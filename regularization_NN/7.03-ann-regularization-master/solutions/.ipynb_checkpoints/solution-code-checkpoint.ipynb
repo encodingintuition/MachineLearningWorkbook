{
 "cells": [
  {
   "cell_type": "markdown",
   "metadata": {},
   "source": [
    "<img src=\"http://imgur.com/1ZcRyrc.png\" style=\"float: left; margin: 20px; height: 55px\">\n",
    "\n",
    "## Regularization and Optimization for Neural Networks\n",
    "\n",
    "_Authors:_ Matt Brems, Tim Book, Justin Pounders\n",
    "\n",
    "\n",
    "### Learning Objectives\n",
    "\n",
    "By the end of the lesson, students should be able to:\n",
    "- Explain how L1/L2, dropout, and early stopping regularization work and implement these methods in Keras\n",
    "- Implement methods for speeding up learning"
   ]
  },
  {
   "cell_type": "code",
   "execution_count": 1,
   "metadata": {},
   "outputs": [],
   "source": [
    "import matplotlib.pyplot as plt\n",
    "from sklearn.model_selection import train_test_split\n",
    "from sklearn.preprocessing import StandardScaler\n",
    "\n",
    "from tensorflow.keras.models import Sequential\n",
    "from tensorflow.keras.layers import Dense\n",
    "\n",
    "import pandas as pd\n",
    "import numpy as np"
   ]
  },
  {
   "cell_type": "markdown",
   "metadata": {},
   "source": [
    "## Load the data"
   ]
  },
  {
   "cell_type": "code",
   "execution_count": 2,
   "metadata": {
    "scrolled": true
   },
   "outputs": [
    {
     "data": {
      "text/html": [
       "<div>\n",
       "<style scoped>\n",
       "    .dataframe tbody tr th:only-of-type {\n",
       "        vertical-align: middle;\n",
       "    }\n",
       "\n",
       "    .dataframe tbody tr th {\n",
       "        vertical-align: top;\n",
       "    }\n",
       "\n",
       "    .dataframe thead th {\n",
       "        text-align: right;\n",
       "    }\n",
       "</style>\n",
       "<table border=\"1\" class=\"dataframe\">\n",
       "  <thead>\n",
       "    <tr style=\"text-align: right;\">\n",
       "      <th></th>\n",
       "      <th>state</th>\n",
       "      <th>account_length</th>\n",
       "      <th>area_code</th>\n",
       "      <th>intl_plan</th>\n",
       "      <th>vmail_plan</th>\n",
       "      <th>vmail_message</th>\n",
       "      <th>day_mins</th>\n",
       "      <th>day_calls</th>\n",
       "      <th>day_charge</th>\n",
       "      <th>eve_mins</th>\n",
       "      <th>eve_calls</th>\n",
       "      <th>eve_charge</th>\n",
       "      <th>night_mins</th>\n",
       "      <th>night_calls</th>\n",
       "      <th>night_charge</th>\n",
       "      <th>intl_mins</th>\n",
       "      <th>intl_calls</th>\n",
       "      <th>intl_charge</th>\n",
       "      <th>custserv_calls</th>\n",
       "      <th>churn</th>\n",
       "    </tr>\n",
       "  </thead>\n",
       "  <tbody>\n",
       "    <tr>\n",
       "      <th>0</th>\n",
       "      <td>KS</td>\n",
       "      <td>128</td>\n",
       "      <td>415</td>\n",
       "      <td>no</td>\n",
       "      <td>yes</td>\n",
       "      <td>25</td>\n",
       "      <td>265.1</td>\n",
       "      <td>110</td>\n",
       "      <td>45.07</td>\n",
       "      <td>197.4</td>\n",
       "      <td>99</td>\n",
       "      <td>16.78</td>\n",
       "      <td>244.7</td>\n",
       "      <td>91</td>\n",
       "      <td>11.01</td>\n",
       "      <td>10.0</td>\n",
       "      <td>3</td>\n",
       "      <td>2.70</td>\n",
       "      <td>1</td>\n",
       "      <td>False</td>\n",
       "    </tr>\n",
       "    <tr>\n",
       "      <th>1</th>\n",
       "      <td>OH</td>\n",
       "      <td>107</td>\n",
       "      <td>415</td>\n",
       "      <td>no</td>\n",
       "      <td>yes</td>\n",
       "      <td>26</td>\n",
       "      <td>161.6</td>\n",
       "      <td>123</td>\n",
       "      <td>27.47</td>\n",
       "      <td>195.5</td>\n",
       "      <td>103</td>\n",
       "      <td>16.62</td>\n",
       "      <td>254.4</td>\n",
       "      <td>103</td>\n",
       "      <td>11.45</td>\n",
       "      <td>13.7</td>\n",
       "      <td>3</td>\n",
       "      <td>3.70</td>\n",
       "      <td>1</td>\n",
       "      <td>False</td>\n",
       "    </tr>\n",
       "    <tr>\n",
       "      <th>2</th>\n",
       "      <td>NJ</td>\n",
       "      <td>137</td>\n",
       "      <td>415</td>\n",
       "      <td>no</td>\n",
       "      <td>no</td>\n",
       "      <td>0</td>\n",
       "      <td>243.4</td>\n",
       "      <td>114</td>\n",
       "      <td>41.38</td>\n",
       "      <td>121.2</td>\n",
       "      <td>110</td>\n",
       "      <td>10.30</td>\n",
       "      <td>162.6</td>\n",
       "      <td>104</td>\n",
       "      <td>7.32</td>\n",
       "      <td>12.2</td>\n",
       "      <td>5</td>\n",
       "      <td>3.29</td>\n",
       "      <td>0</td>\n",
       "      <td>False</td>\n",
       "    </tr>\n",
       "    <tr>\n",
       "      <th>3</th>\n",
       "      <td>OH</td>\n",
       "      <td>84</td>\n",
       "      <td>408</td>\n",
       "      <td>yes</td>\n",
       "      <td>no</td>\n",
       "      <td>0</td>\n",
       "      <td>299.4</td>\n",
       "      <td>71</td>\n",
       "      <td>50.90</td>\n",
       "      <td>61.9</td>\n",
       "      <td>88</td>\n",
       "      <td>5.26</td>\n",
       "      <td>196.9</td>\n",
       "      <td>89</td>\n",
       "      <td>8.86</td>\n",
       "      <td>6.6</td>\n",
       "      <td>7</td>\n",
       "      <td>1.78</td>\n",
       "      <td>2</td>\n",
       "      <td>False</td>\n",
       "    </tr>\n",
       "    <tr>\n",
       "      <th>4</th>\n",
       "      <td>OK</td>\n",
       "      <td>75</td>\n",
       "      <td>415</td>\n",
       "      <td>yes</td>\n",
       "      <td>no</td>\n",
       "      <td>0</td>\n",
       "      <td>166.7</td>\n",
       "      <td>113</td>\n",
       "      <td>28.34</td>\n",
       "      <td>148.3</td>\n",
       "      <td>122</td>\n",
       "      <td>12.61</td>\n",
       "      <td>186.9</td>\n",
       "      <td>121</td>\n",
       "      <td>8.41</td>\n",
       "      <td>10.1</td>\n",
       "      <td>3</td>\n",
       "      <td>2.73</td>\n",
       "      <td>3</td>\n",
       "      <td>False</td>\n",
       "    </tr>\n",
       "  </tbody>\n",
       "</table>\n",
       "</div>"
      ],
      "text/plain": [
       "  state  account_length  area_code intl_plan vmail_plan  vmail_message  \\\n",
       "0    KS             128        415        no        yes             25   \n",
       "1    OH             107        415        no        yes             26   \n",
       "2    NJ             137        415        no         no              0   \n",
       "3    OH              84        408       yes         no              0   \n",
       "4    OK              75        415       yes         no              0   \n",
       "\n",
       "   day_mins  day_calls  day_charge  eve_mins  eve_calls  eve_charge  \\\n",
       "0     265.1        110       45.07     197.4         99       16.78   \n",
       "1     161.6        123       27.47     195.5        103       16.62   \n",
       "2     243.4        114       41.38     121.2        110       10.30   \n",
       "3     299.4         71       50.90      61.9         88        5.26   \n",
       "4     166.7        113       28.34     148.3        122       12.61   \n",
       "\n",
       "   night_mins  night_calls  night_charge  intl_mins  intl_calls  intl_charge  \\\n",
       "0       244.7           91         11.01       10.0           3         2.70   \n",
       "1       254.4          103         11.45       13.7           3         3.70   \n",
       "2       162.6          104          7.32       12.2           5         3.29   \n",
       "3       196.9           89          8.86        6.6           7         1.78   \n",
       "4       186.9          121          8.41       10.1           3         2.73   \n",
       "\n",
       "   custserv_calls  churn  \n",
       "0               1  False  \n",
       "1               1  False  \n",
       "2               0  False  \n",
       "3               2  False  \n",
       "4               3  False  "
      ]
     },
     "execution_count": 2,
     "metadata": {},
     "output_type": "execute_result"
    }
   ],
   "source": [
    "data = pd.read_csv('../data/cell_phone_churn.csv')\n",
    "data.head()"
   ]
  },
  {
   "cell_type": "code",
   "execution_count": 3,
   "metadata": {},
   "outputs": [
    {
     "data": {
      "text/plain": [
       "(3333, 20)"
      ]
     },
     "execution_count": 3,
     "metadata": {},
     "output_type": "execute_result"
    }
   ],
   "source": [
    "data.shape"
   ]
  },
  {
   "cell_type": "code",
   "execution_count": 4,
   "metadata": {},
   "outputs": [],
   "source": [
    "# Drop state column\n",
    "# data = data.drop('state', axis=1)\n",
    "# data = data.drop('area_code', axis=1)\n",
    "data.drop(columns = ['state', 'area_code'], inplace = True)\n",
    "\n",
    "# Binarize intil_plan and vmail_plan columns\n",
    "# Many ways to binarize:\n",
    "data['intl_plan'] = data['intl_plan'].map(lambda x: 1 if x=='yes' else 0)\n",
    "data['vmail_plan'] = data['vmail_plan'].map(lambda x: 1 if x=='yes' else 0)\n",
    "\n",
    "# data['intl_plan'] = data['intl_plan'].map({'yes': 1, 'no': 0})\n",
    "# data['intl_plan'] = (data['intl_plan'] == 'yes').astype('int')\n",
    "# data['intl_plan'] = (data['intl_plan'] == 'yes') * 1\n",
    "# data['intl_plan'] = np.where(data['intl_plan'] == 'yes', 1, 0)"
   ]
  },
  {
   "cell_type": "code",
   "execution_count": 5,
   "metadata": {},
   "outputs": [
    {
     "data": {
      "text/html": [
       "<div>\n",
       "<style scoped>\n",
       "    .dataframe tbody tr th:only-of-type {\n",
       "        vertical-align: middle;\n",
       "    }\n",
       "\n",
       "    .dataframe tbody tr th {\n",
       "        vertical-align: top;\n",
       "    }\n",
       "\n",
       "    .dataframe thead th {\n",
       "        text-align: right;\n",
       "    }\n",
       "</style>\n",
       "<table border=\"1\" class=\"dataframe\">\n",
       "  <thead>\n",
       "    <tr style=\"text-align: right;\">\n",
       "      <th></th>\n",
       "      <th>account_length</th>\n",
       "      <th>intl_plan</th>\n",
       "      <th>vmail_plan</th>\n",
       "      <th>vmail_message</th>\n",
       "      <th>day_mins</th>\n",
       "      <th>day_calls</th>\n",
       "      <th>day_charge</th>\n",
       "      <th>eve_mins</th>\n",
       "      <th>eve_calls</th>\n",
       "      <th>eve_charge</th>\n",
       "      <th>night_mins</th>\n",
       "      <th>night_calls</th>\n",
       "      <th>night_charge</th>\n",
       "      <th>intl_mins</th>\n",
       "      <th>intl_calls</th>\n",
       "      <th>intl_charge</th>\n",
       "      <th>custserv_calls</th>\n",
       "      <th>churn</th>\n",
       "    </tr>\n",
       "  </thead>\n",
       "  <tbody>\n",
       "    <tr>\n",
       "      <th>0</th>\n",
       "      <td>128</td>\n",
       "      <td>0</td>\n",
       "      <td>1</td>\n",
       "      <td>25</td>\n",
       "      <td>265.1</td>\n",
       "      <td>110</td>\n",
       "      <td>45.07</td>\n",
       "      <td>197.4</td>\n",
       "      <td>99</td>\n",
       "      <td>16.78</td>\n",
       "      <td>244.7</td>\n",
       "      <td>91</td>\n",
       "      <td>11.01</td>\n",
       "      <td>10.0</td>\n",
       "      <td>3</td>\n",
       "      <td>2.70</td>\n",
       "      <td>1</td>\n",
       "      <td>False</td>\n",
       "    </tr>\n",
       "    <tr>\n",
       "      <th>1</th>\n",
       "      <td>107</td>\n",
       "      <td>0</td>\n",
       "      <td>1</td>\n",
       "      <td>26</td>\n",
       "      <td>161.6</td>\n",
       "      <td>123</td>\n",
       "      <td>27.47</td>\n",
       "      <td>195.5</td>\n",
       "      <td>103</td>\n",
       "      <td>16.62</td>\n",
       "      <td>254.4</td>\n",
       "      <td>103</td>\n",
       "      <td>11.45</td>\n",
       "      <td>13.7</td>\n",
       "      <td>3</td>\n",
       "      <td>3.70</td>\n",
       "      <td>1</td>\n",
       "      <td>False</td>\n",
       "    </tr>\n",
       "    <tr>\n",
       "      <th>2</th>\n",
       "      <td>137</td>\n",
       "      <td>0</td>\n",
       "      <td>0</td>\n",
       "      <td>0</td>\n",
       "      <td>243.4</td>\n",
       "      <td>114</td>\n",
       "      <td>41.38</td>\n",
       "      <td>121.2</td>\n",
       "      <td>110</td>\n",
       "      <td>10.30</td>\n",
       "      <td>162.6</td>\n",
       "      <td>104</td>\n",
       "      <td>7.32</td>\n",
       "      <td>12.2</td>\n",
       "      <td>5</td>\n",
       "      <td>3.29</td>\n",
       "      <td>0</td>\n",
       "      <td>False</td>\n",
       "    </tr>\n",
       "    <tr>\n",
       "      <th>3</th>\n",
       "      <td>84</td>\n",
       "      <td>1</td>\n",
       "      <td>0</td>\n",
       "      <td>0</td>\n",
       "      <td>299.4</td>\n",
       "      <td>71</td>\n",
       "      <td>50.90</td>\n",
       "      <td>61.9</td>\n",
       "      <td>88</td>\n",
       "      <td>5.26</td>\n",
       "      <td>196.9</td>\n",
       "      <td>89</td>\n",
       "      <td>8.86</td>\n",
       "      <td>6.6</td>\n",
       "      <td>7</td>\n",
       "      <td>1.78</td>\n",
       "      <td>2</td>\n",
       "      <td>False</td>\n",
       "    </tr>\n",
       "    <tr>\n",
       "      <th>4</th>\n",
       "      <td>75</td>\n",
       "      <td>1</td>\n",
       "      <td>0</td>\n",
       "      <td>0</td>\n",
       "      <td>166.7</td>\n",
       "      <td>113</td>\n",
       "      <td>28.34</td>\n",
       "      <td>148.3</td>\n",
       "      <td>122</td>\n",
       "      <td>12.61</td>\n",
       "      <td>186.9</td>\n",
       "      <td>121</td>\n",
       "      <td>8.41</td>\n",
       "      <td>10.1</td>\n",
       "      <td>3</td>\n",
       "      <td>2.73</td>\n",
       "      <td>3</td>\n",
       "      <td>False</td>\n",
       "    </tr>\n",
       "  </tbody>\n",
       "</table>\n",
       "</div>"
      ],
      "text/plain": [
       "   account_length  intl_plan  vmail_plan  vmail_message  day_mins  day_calls  \\\n",
       "0             128          0           1             25     265.1        110   \n",
       "1             107          0           1             26     161.6        123   \n",
       "2             137          0           0              0     243.4        114   \n",
       "3              84          1           0              0     299.4         71   \n",
       "4              75          1           0              0     166.7        113   \n",
       "\n",
       "   day_charge  eve_mins  eve_calls  eve_charge  night_mins  night_calls  \\\n",
       "0       45.07     197.4         99       16.78       244.7           91   \n",
       "1       27.47     195.5        103       16.62       254.4          103   \n",
       "2       41.38     121.2        110       10.30       162.6          104   \n",
       "3       50.90      61.9         88        5.26       196.9           89   \n",
       "4       28.34     148.3        122       12.61       186.9          121   \n",
       "\n",
       "   night_charge  intl_mins  intl_calls  intl_charge  custserv_calls  churn  \n",
       "0         11.01       10.0           3         2.70               1  False  \n",
       "1         11.45       13.7           3         3.70               1  False  \n",
       "2          7.32       12.2           5         3.29               0  False  \n",
       "3          8.86        6.6           7         1.78               2  False  \n",
       "4          8.41       10.1           3         2.73               3  False  "
      ]
     },
     "execution_count": 5,
     "metadata": {},
     "output_type": "execute_result"
    }
   ],
   "source": [
    "data.head()"
   ]
  },
  {
   "cell_type": "code",
   "execution_count": 6,
   "metadata": {},
   "outputs": [],
   "source": [
    "# Split into X and y\n",
    "X = data.drop('churn', axis=1)\n",
    "y = data['churn'].astype('int')\n",
    "\n",
    "# Train/test split\n",
    "X_train, X_test, y_train, y_test = train_test_split(X, y)\n",
    "\n",
    "# Scale data\n",
    "sc = StandardScaler()\n",
    "X_train = sc.fit_transform(X_train)\n",
    "X_test = sc.transform(X_test)"
   ]
  },
  {
   "cell_type": "code",
   "execution_count": 7,
   "metadata": {},
   "outputs": [
    {
     "data": {
      "text/plain": [
       "0.8550855085508551"
      ]
     },
     "execution_count": 7,
     "metadata": {},
     "output_type": "execute_result"
    }
   ],
   "source": [
    "1 - y.mean()"
   ]
  },
  {
   "cell_type": "markdown",
   "metadata": {},
   "source": [
    "## Build a simple neural net to model churn\n",
    "\n",
    "Let's build this:\n",
    "\n",
    "- a dense network,\n",
    "- one input layer,\n",
    "- one hidden layer \n",
    "  - slightly smaller than input layer\n",
    "  - ReLU activation\n",
    "- single node output (for binary classification)"
   ]
  },
  {
   "cell_type": "markdown",
   "metadata": {},
   "source": [
    "<details><summary>What activation function will we use for our output layer here?</summary>\n",
    "\n",
    "- Sigmoid activation, since we are doing binary classification.\n",
    "</details>"
   ]
  },
  {
   "cell_type": "markdown",
   "metadata": {},
   "source": [
    "> **Fun fact**: If we dropped the hidden layer, this model would just be logistic regression!  Can you prove that to yourself?"
   ]
  },
  {
   "cell_type": "code",
   "execution_count": 9,
   "metadata": {},
   "outputs": [],
   "source": [
    "n_input = X_train.shape[1]"
   ]
  },
  {
   "cell_type": "code",
   "execution_count": 10,
   "metadata": {},
   "outputs": [
    {
     "data": {
      "text/plain": [
       "17"
      ]
     },
     "execution_count": 10,
     "metadata": {},
     "output_type": "execute_result"
    }
   ],
   "source": [
    "n_input"
   ]
  },
  {
   "cell_type": "code",
   "execution_count": 12,
   "metadata": {},
   "outputs": [],
   "source": [
    "model = Sequential()\n",
    "\n",
    "model.add(Dense(17, input_dim=n_input, activation='relu'))\n",
    "\n",
    "model.add(Dense(10, activation='relu'))\n",
    "\n",
    "model.add(Dense(1, activation='sigmoid'))\n"
   ]
  },
  {
   "cell_type": "code",
   "execution_count": 13,
   "metadata": {},
   "outputs": [],
   "source": [
    "model.compile(loss='binary_crossentropy', optimizer='adam', metrics=['acc']) # loss = 'bce'"
   ]
  },
  {
   "cell_type": "code",
   "execution_count": 14,
   "metadata": {
    "scrolled": true
   },
   "outputs": [
    {
     "name": "stdout",
     "output_type": "stream",
     "text": [
      "Epoch 1/100\n",
      "79/79 - 0s - loss: 0.4723 - acc: 0.8495 - val_loss: 0.4612 - val_acc: 0.8357\n",
      "Epoch 2/100\n",
      "79/79 - 0s - loss: 0.3903 - acc: 0.8615 - val_loss: 0.4230 - val_acc: 0.8357\n",
      "Epoch 3/100\n",
      "79/79 - 0s - loss: 0.3585 - acc: 0.8627 - val_loss: 0.3945 - val_acc: 0.8393\n",
      "Epoch 4/100\n",
      "79/79 - 0s - loss: 0.3375 - acc: 0.8687 - val_loss: 0.3726 - val_acc: 0.8417\n",
      "Epoch 5/100\n",
      "79/79 - 0s - loss: 0.3211 - acc: 0.8788 - val_loss: 0.3560 - val_acc: 0.8465\n",
      "Epoch 6/100\n",
      "79/79 - 0s - loss: 0.3070 - acc: 0.8840 - val_loss: 0.3461 - val_acc: 0.8561\n",
      "Epoch 7/100\n",
      "79/79 - 0s - loss: 0.2961 - acc: 0.8888 - val_loss: 0.3355 - val_acc: 0.8645\n",
      "Epoch 8/100\n",
      "79/79 - 0s - loss: 0.2868 - acc: 0.8912 - val_loss: 0.3288 - val_acc: 0.8621\n",
      "Epoch 9/100\n",
      "79/79 - 0s - loss: 0.2785 - acc: 0.8956 - val_loss: 0.3187 - val_acc: 0.8765\n",
      "Epoch 10/100\n",
      "79/79 - 0s - loss: 0.2704 - acc: 0.8976 - val_loss: 0.3117 - val_acc: 0.8705\n",
      "Epoch 11/100\n",
      "79/79 - 0s - loss: 0.2630 - acc: 0.8980 - val_loss: 0.2999 - val_acc: 0.8777\n",
      "Epoch 12/100\n",
      "79/79 - 0s - loss: 0.2562 - acc: 0.9024 - val_loss: 0.2925 - val_acc: 0.8777\n",
      "Epoch 13/100\n",
      "79/79 - 0s - loss: 0.2484 - acc: 0.9020 - val_loss: 0.2846 - val_acc: 0.8849\n",
      "Epoch 14/100\n",
      "79/79 - 0s - loss: 0.2414 - acc: 0.9056 - val_loss: 0.2779 - val_acc: 0.8861\n",
      "Epoch 15/100\n",
      "79/79 - 0s - loss: 0.2350 - acc: 0.9100 - val_loss: 0.2734 - val_acc: 0.8897\n",
      "Epoch 16/100\n",
      "79/79 - 0s - loss: 0.2287 - acc: 0.9148 - val_loss: 0.2677 - val_acc: 0.8921\n",
      "Epoch 17/100\n",
      "79/79 - 0s - loss: 0.2237 - acc: 0.9216 - val_loss: 0.2611 - val_acc: 0.8969\n",
      "Epoch 18/100\n",
      "79/79 - 0s - loss: 0.2171 - acc: 0.9228 - val_loss: 0.2559 - val_acc: 0.8981\n",
      "Epoch 19/100\n",
      "79/79 - 0s - loss: 0.2120 - acc: 0.9300 - val_loss: 0.2521 - val_acc: 0.8993\n",
      "Epoch 20/100\n",
      "79/79 - 0s - loss: 0.2083 - acc: 0.9300 - val_loss: 0.2484 - val_acc: 0.9005\n",
      "Epoch 21/100\n",
      "79/79 - 0s - loss: 0.2047 - acc: 0.9352 - val_loss: 0.2436 - val_acc: 0.9065\n",
      "Epoch 22/100\n",
      "79/79 - 0s - loss: 0.2012 - acc: 0.9332 - val_loss: 0.2430 - val_acc: 0.9077\n",
      "Epoch 23/100\n",
      "79/79 - 0s - loss: 0.1985 - acc: 0.9340 - val_loss: 0.2427 - val_acc: 0.9065\n",
      "Epoch 24/100\n",
      "79/79 - 0s - loss: 0.1965 - acc: 0.9372 - val_loss: 0.2377 - val_acc: 0.9113\n",
      "Epoch 25/100\n",
      "79/79 - 0s - loss: 0.1942 - acc: 0.9376 - val_loss: 0.2357 - val_acc: 0.9125\n",
      "Epoch 26/100\n",
      "79/79 - 0s - loss: 0.1913 - acc: 0.9396 - val_loss: 0.2352 - val_acc: 0.9173\n",
      "Epoch 27/100\n",
      "79/79 - 0s - loss: 0.1904 - acc: 0.9368 - val_loss: 0.2322 - val_acc: 0.9197\n",
      "Epoch 28/100\n",
      "79/79 - 0s - loss: 0.1879 - acc: 0.9384 - val_loss: 0.2307 - val_acc: 0.9149\n",
      "Epoch 29/100\n",
      "79/79 - 0s - loss: 0.1859 - acc: 0.9400 - val_loss: 0.2303 - val_acc: 0.9149\n",
      "Epoch 30/100\n",
      "79/79 - 0s - loss: 0.1850 - acc: 0.9404 - val_loss: 0.2281 - val_acc: 0.9173\n",
      "Epoch 31/100\n",
      "79/79 - 0s - loss: 0.1844 - acc: 0.9412 - val_loss: 0.2279 - val_acc: 0.9161\n",
      "Epoch 32/100\n",
      "79/79 - 0s - loss: 0.1820 - acc: 0.9424 - val_loss: 0.2268 - val_acc: 0.9161\n",
      "Epoch 33/100\n",
      "79/79 - 0s - loss: 0.1801 - acc: 0.9444 - val_loss: 0.2277 - val_acc: 0.9173\n",
      "Epoch 34/100\n",
      "79/79 - 0s - loss: 0.1797 - acc: 0.9448 - val_loss: 0.2265 - val_acc: 0.9149\n",
      "Epoch 35/100\n",
      "79/79 - 0s - loss: 0.1764 - acc: 0.9452 - val_loss: 0.2245 - val_acc: 0.9185\n",
      "Epoch 36/100\n",
      "79/79 - 0s - loss: 0.1756 - acc: 0.9464 - val_loss: 0.2269 - val_acc: 0.9173\n",
      "Epoch 37/100\n",
      "79/79 - 0s - loss: 0.1740 - acc: 0.9444 - val_loss: 0.2260 - val_acc: 0.9185\n",
      "Epoch 38/100\n",
      "79/79 - 0s - loss: 0.1715 - acc: 0.9460 - val_loss: 0.2247 - val_acc: 0.9185\n",
      "Epoch 39/100\n",
      "79/79 - 0s - loss: 0.1701 - acc: 0.9472 - val_loss: 0.2243 - val_acc: 0.9221\n",
      "Epoch 40/100\n",
      "79/79 - 0s - loss: 0.1691 - acc: 0.9472 - val_loss: 0.2240 - val_acc: 0.9197\n",
      "Epoch 41/100\n",
      "79/79 - 0s - loss: 0.1684 - acc: 0.9468 - val_loss: 0.2238 - val_acc: 0.9221\n",
      "Epoch 42/100\n",
      "79/79 - 0s - loss: 0.1657 - acc: 0.9496 - val_loss: 0.2271 - val_acc: 0.9221\n",
      "Epoch 43/100\n",
      "79/79 - 0s - loss: 0.1659 - acc: 0.9484 - val_loss: 0.2249 - val_acc: 0.9221\n",
      "Epoch 44/100\n",
      "79/79 - 0s - loss: 0.1640 - acc: 0.9516 - val_loss: 0.2231 - val_acc: 0.9209\n",
      "Epoch 45/100\n",
      "79/79 - 0s - loss: 0.1623 - acc: 0.9508 - val_loss: 0.2254 - val_acc: 0.9221\n",
      "Epoch 46/100\n",
      "79/79 - 0s - loss: 0.1615 - acc: 0.9488 - val_loss: 0.2256 - val_acc: 0.9161\n",
      "Epoch 47/100\n",
      "79/79 - 0s - loss: 0.1611 - acc: 0.9492 - val_loss: 0.2242 - val_acc: 0.9209\n",
      "Epoch 48/100\n",
      "79/79 - 0s - loss: 0.1590 - acc: 0.9500 - val_loss: 0.2239 - val_acc: 0.9209\n",
      "Epoch 49/100\n",
      "79/79 - 0s - loss: 0.1592 - acc: 0.9512 - val_loss: 0.2244 - val_acc: 0.9197\n",
      "Epoch 50/100\n",
      "79/79 - 0s - loss: 0.1575 - acc: 0.9508 - val_loss: 0.2228 - val_acc: 0.9245\n",
      "Epoch 51/100\n",
      "79/79 - 0s - loss: 0.1553 - acc: 0.9516 - val_loss: 0.2241 - val_acc: 0.9209\n",
      "Epoch 52/100\n",
      "79/79 - 0s - loss: 0.1548 - acc: 0.9532 - val_loss: 0.2246 - val_acc: 0.9233\n",
      "Epoch 53/100\n",
      "79/79 - 0s - loss: 0.1532 - acc: 0.9540 - val_loss: 0.2240 - val_acc: 0.9221\n",
      "Epoch 54/100\n",
      "79/79 - 0s - loss: 0.1524 - acc: 0.9544 - val_loss: 0.2237 - val_acc: 0.9221\n",
      "Epoch 55/100\n",
      "79/79 - 0s - loss: 0.1516 - acc: 0.9536 - val_loss: 0.2260 - val_acc: 0.9221\n",
      "Epoch 56/100\n",
      "79/79 - 0s - loss: 0.1511 - acc: 0.9560 - val_loss: 0.2256 - val_acc: 0.9173\n",
      "Epoch 57/100\n",
      "79/79 - 0s - loss: 0.1491 - acc: 0.9556 - val_loss: 0.2266 - val_acc: 0.9173\n",
      "Epoch 58/100\n",
      "79/79 - 0s - loss: 0.1488 - acc: 0.9540 - val_loss: 0.2250 - val_acc: 0.9173\n",
      "Epoch 59/100\n",
      "79/79 - 0s - loss: 0.1482 - acc: 0.9556 - val_loss: 0.2249 - val_acc: 0.9185\n",
      "Epoch 60/100\n",
      "79/79 - 0s - loss: 0.1473 - acc: 0.9560 - val_loss: 0.2266 - val_acc: 0.9209\n",
      "Epoch 61/100\n",
      "79/79 - 0s - loss: 0.1462 - acc: 0.9564 - val_loss: 0.2278 - val_acc: 0.9221\n",
      "Epoch 62/100\n",
      "79/79 - 0s - loss: 0.1451 - acc: 0.9572 - val_loss: 0.2281 - val_acc: 0.9185\n",
      "Epoch 63/100\n",
      "79/79 - 0s - loss: 0.1446 - acc: 0.9576 - val_loss: 0.2287 - val_acc: 0.9173\n",
      "Epoch 64/100\n",
      "79/79 - 0s - loss: 0.1439 - acc: 0.9576 - val_loss: 0.2287 - val_acc: 0.9149\n",
      "Epoch 65/100\n",
      "79/79 - 0s - loss: 0.1425 - acc: 0.9584 - val_loss: 0.2293 - val_acc: 0.9137\n",
      "Epoch 66/100\n",
      "79/79 - 0s - loss: 0.1422 - acc: 0.9584 - val_loss: 0.2333 - val_acc: 0.9161\n",
      "Epoch 67/100\n",
      "79/79 - 0s - loss: 0.1415 - acc: 0.9584 - val_loss: 0.2317 - val_acc: 0.9137\n",
      "Epoch 68/100\n",
      "79/79 - 0s - loss: 0.1432 - acc: 0.9584 - val_loss: 0.2331 - val_acc: 0.9125\n",
      "Epoch 69/100\n",
      "79/79 - 0s - loss: 0.1401 - acc: 0.9596 - val_loss: 0.2289 - val_acc: 0.9161\n",
      "Epoch 70/100\n",
      "79/79 - 0s - loss: 0.1398 - acc: 0.9584 - val_loss: 0.2321 - val_acc: 0.9137\n",
      "Epoch 71/100\n",
      "79/79 - 0s - loss: 0.1392 - acc: 0.9584 - val_loss: 0.2349 - val_acc: 0.9125\n",
      "Epoch 72/100\n",
      "79/79 - 0s - loss: 0.1372 - acc: 0.9592 - val_loss: 0.2309 - val_acc: 0.9137\n",
      "Epoch 73/100\n",
      "79/79 - 0s - loss: 0.1368 - acc: 0.9608 - val_loss: 0.2332 - val_acc: 0.9137\n",
      "Epoch 74/100\n",
      "79/79 - 0s - loss: 0.1371 - acc: 0.9604 - val_loss: 0.2317 - val_acc: 0.9137\n",
      "Epoch 75/100\n",
      "79/79 - 0s - loss: 0.1363 - acc: 0.9592 - val_loss: 0.2356 - val_acc: 0.9137\n",
      "Epoch 76/100\n",
      "79/79 - 0s - loss: 0.1360 - acc: 0.9608 - val_loss: 0.2366 - val_acc: 0.9137\n",
      "Epoch 77/100\n",
      "79/79 - 0s - loss: 0.1348 - acc: 0.9600 - val_loss: 0.2366 - val_acc: 0.9137\n",
      "Epoch 78/100\n",
      "79/79 - 0s - loss: 0.1376 - acc: 0.9564 - val_loss: 0.2391 - val_acc: 0.9137\n",
      "Epoch 79/100\n",
      "79/79 - 0s - loss: 0.1340 - acc: 0.9616 - val_loss: 0.2361 - val_acc: 0.9161\n",
      "Epoch 80/100\n",
      "79/79 - 0s - loss: 0.1340 - acc: 0.9592 - val_loss: 0.2379 - val_acc: 0.9173\n",
      "Epoch 81/100\n",
      "79/79 - 0s - loss: 0.1330 - acc: 0.9604 - val_loss: 0.2380 - val_acc: 0.9173\n",
      "Epoch 82/100\n",
      "79/79 - 0s - loss: 0.1331 - acc: 0.9588 - val_loss: 0.2395 - val_acc: 0.9149\n",
      "Epoch 83/100\n",
      "79/79 - 0s - loss: 0.1317 - acc: 0.9620 - val_loss: 0.2403 - val_acc: 0.9149\n",
      "Epoch 84/100\n",
      "79/79 - 0s - loss: 0.1328 - acc: 0.9596 - val_loss: 0.2399 - val_acc: 0.9149\n",
      "Epoch 85/100\n",
      "79/79 - 0s - loss: 0.1301 - acc: 0.9616 - val_loss: 0.2384 - val_acc: 0.9125\n",
      "Epoch 86/100\n",
      "79/79 - 0s - loss: 0.1292 - acc: 0.9612 - val_loss: 0.2394 - val_acc: 0.9137\n",
      "Epoch 87/100\n",
      "79/79 - 0s - loss: 0.1315 - acc: 0.9624 - val_loss: 0.2394 - val_acc: 0.9173\n",
      "Epoch 88/100\n",
      "79/79 - 0s - loss: 0.1288 - acc: 0.9612 - val_loss: 0.2386 - val_acc: 0.9149\n",
      "Epoch 89/100\n",
      "79/79 - 0s - loss: 0.1283 - acc: 0.9636 - val_loss: 0.2463 - val_acc: 0.9137\n",
      "Epoch 90/100\n",
      "79/79 - 0s - loss: 0.1280 - acc: 0.9632 - val_loss: 0.2414 - val_acc: 0.9149\n",
      "Epoch 91/100\n",
      "79/79 - 0s - loss: 0.1268 - acc: 0.9636 - val_loss: 0.2423 - val_acc: 0.9161\n",
      "Epoch 92/100\n",
      "79/79 - 0s - loss: 0.1277 - acc: 0.9628 - val_loss: 0.2496 - val_acc: 0.9137\n",
      "Epoch 93/100\n",
      "79/79 - 0s - loss: 0.1264 - acc: 0.9604 - val_loss: 0.2475 - val_acc: 0.9125\n",
      "Epoch 94/100\n",
      "79/79 - 0s - loss: 0.1252 - acc: 0.9644 - val_loss: 0.2491 - val_acc: 0.9149\n",
      "Epoch 95/100\n",
      "79/79 - 0s - loss: 0.1257 - acc: 0.9624 - val_loss: 0.2461 - val_acc: 0.9161\n",
      "Epoch 96/100\n",
      "79/79 - 0s - loss: 0.1254 - acc: 0.9624 - val_loss: 0.2487 - val_acc: 0.9149\n",
      "Epoch 97/100\n",
      "79/79 - 0s - loss: 0.1240 - acc: 0.9644 - val_loss: 0.2471 - val_acc: 0.9185\n",
      "Epoch 98/100\n",
      "79/79 - 0s - loss: 0.1239 - acc: 0.9636 - val_loss: 0.2484 - val_acc: 0.9137\n",
      "Epoch 99/100\n",
      "79/79 - 0s - loss: 0.1236 - acc: 0.9632 - val_loss: 0.2476 - val_acc: 0.9149\n",
      "Epoch 100/100\n",
      "79/79 - 0s - loss: 0.1225 - acc: 0.9648 - val_loss: 0.2483 - val_acc: 0.9173\n"
     ]
    }
   ],
   "source": [
    "history = model.fit(\n",
    "    X_train,\n",
    "    y_train,\n",
    "    validation_data=(X_test, y_test),\n",
    "    epochs=100,\n",
    "    batch_size=None,\n",
    "    verbose=2\n",
    ")"
   ]
  },
  {
   "cell_type": "code",
   "execution_count": 15,
   "metadata": {},
   "outputs": [
    {
     "data": {
      "image/png": "[encoded data removed]",
      "text/plain": [
       "<Figure size 864x576 with 1 Axes>"
      ]
     },
     "metadata": {
      "needs_background": "light"
     },
     "output_type": "display_data"
    }
   ],
   "source": [
    "train_loss = history.history['loss']\n",
    "test_loss = history.history['val_loss']\n",
    "\n",
    "plt.figure(figsize=(12, 8))\n",
    "plt.plot(train_loss, label='Training loss', color='navy')\n",
    "plt.plot(test_loss, label='Testing loss', color='skyblue')\n",
    "plt.legend();"
   ]
  },
  {
   "cell_type": "code",
   "execution_count": 16,
   "metadata": {
    "scrolled": true
   },
   "outputs": [
    {
     "data": {
      "text/plain": [
       "(0.9647859334945679, 0.9172661900520325)"
      ]
     },
     "execution_count": 16,
     "metadata": {},
     "output_type": "execute_result"
    }
   ],
   "source": [
    "history.history['acc'][-1], history.history['val_acc'][-1]"
   ]
  },
  {
   "cell_type": "code",
   "execution_count": 17,
   "metadata": {},
   "outputs": [
    {
     "name": "stdout",
     "output_type": "stream",
     "text": [
      "Model: \"sequential\"\n",
      "_________________________________________________________________\n",
      "Layer (type)                 Output Shape              Param #   \n",
      "=================================================================\n",
      "dense (Dense)                (None, 17)                306       \n",
      "_________________________________________________________________\n",
      "dense_1 (Dense)              (None, 10)                180       \n",
      "_________________________________________________________________\n",
      "dense_2 (Dense)              (None, 1)                 11        \n",
      "=================================================================\n",
      "Total params: 497\n",
      "Trainable params: 497\n",
      "Non-trainable params: 0\n",
      "_________________________________________________________________\n"
     ]
    }
   ],
   "source": [
    "model.summary()"
   ]
  },
  {
   "cell_type": "markdown",
   "metadata": {},
   "source": [
    "![](../assets/overkill.jpg)"
   ]
  },
  {
   "cell_type": "markdown",
   "metadata": {},
   "source": [
    "<a id='l1'></a>\n",
    "## Regularization Method 1: $\\mathcal{l}_1$ and $\\mathcal{l}_2$\n",
    "---\n",
    "Just as we did with linear models, we can use $\\mathcal{l}_1$ (LASSO) and $\\mathcal{l}_2$ (Ridge) regularization on our neural networks.\n",
    "\n",
    "Recall from our notation:\n",
    "\n",
    "* $J(\\theta) = L(\\mathbf{y}, \\hat{\\mathbf{y}})$ is the value of the loss function with respect to...\n",
    "* $\\theta$, the list of _all_ model coefficients (all weights and biases).\n",
    "\n",
    "We regularize our neural networks by adding a penalty term to our loss function:\n",
    "\n",
    "$$ \\text{minimize } J(\\theta) + \\lambda \\|\\theta\\|_2^2 $$\n",
    "\n",
    "This has the effect of penalizing our parameters $\\theta$ by shrinking them, hence bartering in the bias-variance tradeoff by (hopefully) reducing variance by adding bias. Although it is rarely done, **Keras actually gives us the opportunity to penalize the weights at different layers by different amounts.**\n",
    "\n",
    "## Which to pick: $\\mathcal{l}_1$ or $\\mathcal{l}_2$?\n",
    "Recall the key difference: $\\mathcal{l}_1$ penalties perform _selection_. That is, they often zero out parameters when they're small enough. While this sounds appealing, $\\mathcal{l}_2$ is used almost exclusively. It's done so often, that deep learning practitions give it a special name: **weight decay**."
   ]
  },
  {
   "cell_type": "code",
   "execution_count": 14,
   "metadata": {},
   "outputs": [],
   "source": [
    "# from tensorflow.keras import regularizers\n",
    "from tensorflow.keras.regularizers import l2\n",
    "\n",
    "model_l2 = Sequential()\n",
    "\n",
    "n_input = X_train.shape[1]\n",
    "\n",
    "model_l2.add(Dense(\n",
    "    17,\n",
    "    input_dim=n_input,\n",
    "    activation='relu',\n",
    "    kernel_regularizer=l2(0.001)\n",
    "))\n",
    "\n",
    "model_l2.add(Dense(\n",
    "    10,\n",
    "    activation='sigmoid',\n",
    "    kernel_regularizer=l2(0.001)\n",
    "))\n",
    "\n",
    "model_l2.add(Dense(\n",
    "    1,\n",
    "    activation='sigmoid',\n",
    "    kernel_regularizer=l2(0.001)\n",
    "))\n",
    "\n",
    "model_l2.compile(\n",
    "    loss='bce',\n",
    "    optimizer='adam',\n",
    "    metrics=['acc']\n",
    ")\n",
    "\n",
    "history_l2 = model_l2.fit(\n",
    "    X_train,\n",
    "    y_train,\n",
    "    validation_data=(X_test, y_test),\n",
    "    epochs=100,\n",
    "    batch_size=None, verbose = 0\n",
    ")"
   ]
  },
  {
   "cell_type": "code",
   "execution_count": 15,
   "metadata": {},
   "outputs": [
    {
     "data": {
      "image/png": "[encoded data removed]",
      "text/plain": [
       "<Figure size 864x576 with 1 Axes>"
      ]
     },
     "metadata": {
      "needs_background": "light"
     },
     "output_type": "display_data"
    }
   ],
   "source": [
    "train_loss_l2 = history_l2.history['loss']\n",
    "test_loss_l2 = history_l2.history['val_loss']\n",
    "\n",
    "plt.figure(figsize=(12, 8))\n",
    "plt.plot(train_loss, label='Training loss', color='navy')\n",
    "plt.plot(test_loss, label='Testing loss', color='skyblue')\n",
    "plt.plot(train_loss_l2, label='L2 Training loss', color='darkred')\n",
    "plt.plot(test_loss_l2, label='L2 Testing loss', color='pink')\n",
    "plt.legend();"
   ]
  },
  {
   "cell_type": "code",
   "execution_count": 16,
   "metadata": {},
   "outputs": [
    {
     "data": {
      "text/plain": [
       "(0.9407762885093689, 0.9376499056816101)"
      ]
     },
     "execution_count": 16,
     "metadata": {},
     "output_type": "execute_result"
    }
   ],
   "source": [
    "history_l2.history['acc'][-1], history_l2.history['val_acc'][-1]"
   ]
  },
  {
   "cell_type": "markdown",
   "metadata": {},
   "source": [
    "## Keras Resources\n",
    "- [Keras Regularization Documentation](https://keras.io/regularizers/)\n",
    "- [Kernel vs. Activity Regularizers](https://github.com/keras-team/keras/issues/3236)\n",
    "\n",
    "## Tensorflow Resources\n",
    "- [Implementation in Tensorflow](https://www.tensorflow.org/versions/r0.12/api_docs/python/contrib.layers/regularizers)\n",
    "- [Example in Tensorflow](http://www.ritchieng.com/machine-learning/deep-learning/tensorflow/regularization/)"
   ]
  },
  {
   "cell_type": "markdown",
   "metadata": {},
   "source": [
    "<a id='dropout'></a>\n",
    "## Regularization Method 2: Dropout\n",
    "---\n",
    "There's another method of regularizing our terms that is specifically designed for neural networks, called **dropout regularization.**"
   ]
  },
  {
   "cell_type": "markdown",
   "metadata": {},
   "source": [
    "Let's say we've constructed a neural network. We've decided on the number of layers we want and the number of nodes in each layer. (We might say that we've decided on the **topology** or **structure** of our network.)\n",
    "\n",
    "![](../assets/original_nn.jpeg)\n",
    "\n",
    "However, a densely connected network like this will almost certainly overfit. Our network is learning a parameter for every single connection.\n",
    "\n",
    "> In the above example, we have 55 parameters being learned - and this is a very simple network, all things considered.\n",
    "\n",
    "> We can overcome this by using **dropout regularization**. \n",
    "\n",
    "In dropout regularization, we randomly **drop** units (nodes) in our neural network ***during our training phase only***. We assign a probability of each node disappearing. Then, we essentially perform a coinflip for every node to turn that node \"on\" or \"off.\"\n",
    "\n",
    "Let's go through an example to illustrate this: For simplicity, we'll say we've assigned a 0.5 probability of keeping to every node in the network above. Then, for every node, we flip a coin, and if the coin lands on heads, the node remains, if it lands on tails, the node disappears. After we've done this for every node, we're left with a new network that looks something like this:\n",
    "\n",
    "![](../assets/after_dropout.jpeg)\n",
    "\n",
    "<!--\n",
    "Image sources: https://pgaleone.eu/deep-learning/regularization/2017/01/10/anaysis-of-dropout/\n",
    "Also, it seems, this site: http://cs231n.github.io/neural-networks-2/\n",
    "-->\n",
    "\n",
    "Let's explicitly lay out the general workflow you would follow:\n",
    "\n",
    "1. Specify the topology of your neural network.\n",
    "2. Initialize your weights and biases.\n",
    "3. Specify the \"keeping probabilities\" for every node. (Generally, we'll assign the same probability to all nodes in each layer and usually the same probability to all hidden layers.)\n",
    "4. Perform a \"coin flip\" for each node and drop out the chosen nodes.\n",
    "5. Run through one epoch of training.\n",
    "6. Repeat steps 4 and 5 for each epoch of training."
   ]
  },
  {
   "cell_type": "markdown",
   "metadata": {},
   "source": [
    "![](https://cdn.analyticsvidhya.com/wp-content/uploads/2018/04/1IrdJ5PghD9YoOyVAQ73MJw.gif)"
   ]
  },
  {
   "cell_type": "markdown",
   "metadata": {},
   "source": [
    "<details><summary>If I drop out a node during one of my epochs, does it disappear from my final network?</summary>\n",
    "\n",
    "- No!\n",
    "</details>"
   ]
  },
  {
   "cell_type": "markdown",
   "metadata": {},
   "source": [
    "#### So, what does this do?\n",
    "<!-- <br/> -->\n",
    "The intuition behind dropout is that, since each node has a probability of disappearing at any time, the neural network is disincentivized from allocating too much power to any one weight. It has a similar effect as imposing an L2 penalty: the magnitude of our weights shrinks."
   ]
  },
  {
   "cell_type": "markdown",
   "metadata": {},
   "source": [
    "<details><summary>What might be some potential problems with doing this?</summary>\n",
    "\n",
    "- expected values of nodes changes\n",
    "- induces bias\n",
    "</details>"
   ]
  },
  {
   "cell_type": "markdown",
   "metadata": {},
   "source": [
    "So we've now run through every epoch of our training phase and we're ready to apply our neural network to our validation or testing data.\n",
    "\n",
    "<details><summary>Are we going to apply dropout to this data as well?</summary>\n",
    "\n",
    "- No!\n",
    "</details>"
   ]
  },
  {
   "cell_type": "markdown",
   "metadata": {},
   "source": [
    "#### Best practices:\n",
    "\n",
    "- Don't set any keeping probabilities for layers you where you don't want to drop any nodes.\n",
    "\n",
    "<details><summary>What might be examples of these layers?</summary>\n",
    "\n",
    "- Input layers\n",
    "- Output layers\n",
    "</details>"
   ]
  },
  {
   "cell_type": "markdown",
   "metadata": {},
   "source": [
    "- You'll generally want to specify a single keeping probability and all the layers on which you want to apply dropout, instead of specifying different keeping probabilities for each layer."
   ]
  },
  {
   "cell_type": "code",
   "execution_count": 18,
   "metadata": {},
   "outputs": [],
   "source": [
    "from tensorflow.keras.layers import Dropout\n",
    "\n",
    "model_dropout = Sequential()\n",
    "\n",
    "n_input = X_train.shape[1]\n",
    "n_hidden = n_input\n",
    "\n",
    "model_dropout.add(Dense(n_hidden, input_dim=n_input, activation='relu'))\n",
    "model_dropout.add(Dropout(0.2)) # refers to nodes in the first hidden layer\n",
    "model_dropout.add(Dense(10, activation='relu'))\n",
    "model_dropout.add(Dropout(0.2))\n",
    "model_dropout.add(Dense(1, activation='sigmoid'))\n",
    "\n",
    "model_dropout.compile(loss='bce', optimizer='adam', metrics=['acc'])\n",
    "\n",
    "history_dropout = model_dropout.fit(\n",
    "    X_train,\n",
    "    y_train,\n",
    "    validation_data=(X_test, y_test), \n",
    "    epochs=100,\n",
    "    batch_size=None, verbose = 0\n",
    ")"
   ]
  },
  {
   "cell_type": "code",
   "execution_count": 19,
   "metadata": {},
   "outputs": [
    {
     "data": {
      "image/png": "[encoded data removed]",
      "text/plain": [
       "<Figure size 864x576 with 1 Axes>"
      ]
     },
     "metadata": {
      "needs_background": "light"
     },
     "output_type": "display_data"
    }
   ],
   "source": [
    "train_loss_dropout = history_dropout.history['loss']\n",
    "test_loss_dropout = history_dropout.history['val_loss']\n",
    "\n",
    "plt.figure(figsize=(12, 8))\n",
    "plt.plot(train_loss, label='Training loss', color='navy')\n",
    "plt.plot(test_loss, label='Testing loss', color='skyblue')\n",
    "plt.plot(train_loss_dropout, label='Dropout Training loss', color='darkgreen')\n",
    "plt.plot(test_loss_dropout, label='Dropout Testing loss', color='lightgreen')\n",
    "plt.legend();"
   ]
  },
  {
   "cell_type": "code",
   "execution_count": 20,
   "metadata": {},
   "outputs": [
    {
     "data": {
      "text/plain": [
       "(0.9411764740943909, 0.931654691696167)"
      ]
     },
     "execution_count": 20,
     "metadata": {},
     "output_type": "execute_result"
    }
   ],
   "source": [
    "history_dropout.history['acc'][-1], history_dropout.history['val_acc'][-1]"
   ]
  },
  {
   "cell_type": "markdown",
   "metadata": {},
   "source": [
    "## Keras Resources\n",
    "- [Keras Dropout Documentation](https://keras.io/layers/core/#dropout)\n",
    "\n",
    "## Tensorflow Resources\n",
    "- [Tensorflow documentation](https://www.tensorflow.org/api_docs/python/tf/nn/dropout)\n",
    "- [List of examples in Tensorflow](https://programtalk.com/python-examples/tensorflow.nn.dropout/)"
   ]
  },
  {
   "cell_type": "markdown",
   "metadata": {},
   "source": [
    "### Deep Learning week is also Memes week!\n",
    "![](../assets/thanos-dropout.png)"
   ]
  },
  {
   "cell_type": "markdown",
   "metadata": {},
   "source": [
    "<a id='stopping'></a>\n",
    "## Regularization Method 3: Early Stopping\n",
    "---\n",
    "The third method of regularization that we'll discuss today is called early stopping.\n",
    "</br>\n",
    "If we run though all our epochs of training and plot both our training and validation error, we'll typically see something like this:\n",
    "\n",
    "![](../assets/train-val-error-reduced.png)\n",
    "*source*: [Prechelt, 1997](http://page.mi.fu-berlin.de/prechelt/Biblio/stop_tricks1997.pdf)"
   ]
  },
  {
   "cell_type": "markdown",
   "metadata": {},
   "source": [
    "<details><summary>What is happening in this plot?</summary>\n",
    "\n",
    "- The Validation error begins to increase after a certain number of epochs!\n",
    "</details>"
   ]
  },
  {
   "cell_type": "markdown",
   "metadata": {},
   "source": [
    "Early stopping does exactly what its name implies: it stop the training process early. Instead of continuing training through every epoch, once the validation error begins to increase, our algorithm stops because it has (in theory) found the minimum for the validation loss.\n",
    "\n",
    "This might seem like a simple and robust solution to overfitting, but it can run into problems.\n",
    "\n",
    "![](../assets/validation-error-real.png)\n",
    "\n",
    "There is debate over how often this problem occurs. You can generally plot both the training and validation loss, see if you're getting multiple optima. If you are, there are multiple suggested techniques to combat this problem in the [paper reference above](http://page.mi.fu-berlin.de/prechelt/Biblio/stop_tricks1997.pdf)."
   ]
  },
  {
   "cell_type": "code",
   "execution_count": 20,
   "metadata": {},
   "outputs": [
    {
     "name": "stdout",
     "output_type": "stream",
     "text": [
      "Epoch 1/100\n",
      "79/79 [==============================] - 0s 2ms/step - loss: 0.6364 - acc: 0.6591 - val_loss: 0.4959 - val_acc: 0.8058\n",
      "Epoch 2/100\n",
      "79/79 [==============================] - 0s 1ms/step - loss: 0.4362 - acc: 0.8507 - val_loss: 0.4355 - val_acc: 0.8417\n",
      "Epoch 3/100\n",
      "79/79 [==============================] - 0s 1ms/step - loss: 0.3856 - acc: 0.8579 - val_loss: 0.4055 - val_acc: 0.8489\n",
      "Epoch 4/100\n",
      "79/79 [==============================] - 0s 1ms/step - loss: 0.3557 - acc: 0.8579 - val_loss: 0.3822 - val_acc: 0.8489\n",
      "Epoch 5/100\n",
      "79/79 [==============================] - 0s 1ms/step - loss: 0.3329 - acc: 0.8611 - val_loss: 0.3622 - val_acc: 0.8537\n",
      "Epoch 6/100\n",
      "79/79 [==============================] - 0s 1ms/step - loss: 0.3142 - acc: 0.8703 - val_loss: 0.3457 - val_acc: 0.8561\n",
      "Epoch 7/100\n",
      "79/79 [==============================] - 0s 1ms/step - loss: 0.2960 - acc: 0.8784 - val_loss: 0.3305 - val_acc: 0.8645\n",
      "Epoch 8/100\n",
      "79/79 [==============================] - 0s 1ms/step - loss: 0.2802 - acc: 0.8904 - val_loss: 0.3178 - val_acc: 0.8777\n",
      "Epoch 9/100\n",
      "79/79 [==============================] - 0s 1ms/step - loss: 0.2658 - acc: 0.8968 - val_loss: 0.3052 - val_acc: 0.8813\n",
      "Epoch 10/100\n",
      "79/79 [==============================] - 0s 1ms/step - loss: 0.2537 - acc: 0.9008 - val_loss: 0.2981 - val_acc: 0.8837\n",
      "Epoch 11/100\n",
      "79/79 [==============================] - 0s 1ms/step - loss: 0.2436 - acc: 0.9064 - val_loss: 0.2910 - val_acc: 0.8897\n",
      "Epoch 12/100\n",
      "79/79 [==============================] - 0s 1ms/step - loss: 0.2366 - acc: 0.9160 - val_loss: 0.2870 - val_acc: 0.8945\n",
      "Epoch 13/100\n",
      "79/79 [==============================] - 0s 1ms/step - loss: 0.2295 - acc: 0.9188 - val_loss: 0.2818 - val_acc: 0.8981\n",
      "Epoch 14/100\n",
      "79/79 [==============================] - 0s 1ms/step - loss: 0.2234 - acc: 0.9232 - val_loss: 0.2814 - val_acc: 0.8981\n",
      "Epoch 15/100\n",
      "79/79 [==============================] - 0s 1ms/step - loss: 0.2193 - acc: 0.9224 - val_loss: 0.2746 - val_acc: 0.8981\n",
      "Epoch 16/100\n",
      "79/79 [==============================] - 0s 1ms/step - loss: 0.2158 - acc: 0.9264 - val_loss: 0.2748 - val_acc: 0.8993\n",
      "Epoch 17/100\n",
      "79/79 [==============================] - 0s 1ms/step - loss: 0.2113 - acc: 0.9264 - val_loss: 0.2736 - val_acc: 0.8957\n",
      "Epoch 18/100\n",
      "79/79 [==============================] - 0s 1ms/step - loss: 0.2086 - acc: 0.9300 - val_loss: 0.2702 - val_acc: 0.9029\n",
      "Epoch 19/100\n",
      "79/79 [==============================] - 0s 1ms/step - loss: 0.2047 - acc: 0.9284 - val_loss: 0.2705 - val_acc: 0.9005\n",
      "Epoch 20/100\n",
      "79/79 [==============================] - 0s 1ms/step - loss: 0.2027 - acc: 0.9320 - val_loss: 0.2705 - val_acc: 0.9029\n",
      "Epoch 21/100\n",
      "79/79 [==============================] - 0s 1ms/step - loss: 0.1986 - acc: 0.9324 - val_loss: 0.2692 - val_acc: 0.9053\n",
      "Epoch 22/100\n",
      "79/79 [==============================] - 0s 1ms/step - loss: 0.1963 - acc: 0.9328 - val_loss: 0.2700 - val_acc: 0.9053\n",
      "Epoch 23/100\n",
      "79/79 [==============================] - 0s 1ms/step - loss: 0.1954 - acc: 0.9348 - val_loss: 0.2693 - val_acc: 0.9065\n",
      "Epoch 24/100\n",
      "79/79 [==============================] - 0s 1ms/step - loss: 0.1929 - acc: 0.9360 - val_loss: 0.2678 - val_acc: 0.9041\n",
      "Epoch 25/100\n",
      "79/79 [==============================] - 0s 1ms/step - loss: 0.1903 - acc: 0.9360 - val_loss: 0.2683 - val_acc: 0.9041\n",
      "Epoch 26/100\n",
      "79/79 [==============================] - 0s 1ms/step - loss: 0.1881 - acc: 0.9376 - val_loss: 0.2647 - val_acc: 0.9029\n",
      "Epoch 27/100\n",
      "79/79 [==============================] - 0s 1ms/step - loss: 0.1861 - acc: 0.9388 - val_loss: 0.2644 - val_acc: 0.9041\n",
      "Epoch 28/100\n",
      "79/79 [==============================] - 0s 1ms/step - loss: 0.1848 - acc: 0.9420 - val_loss: 0.2629 - val_acc: 0.9065\n",
      "Epoch 29/100\n",
      "79/79 [==============================] - 0s 1ms/step - loss: 0.1821 - acc: 0.9416 - val_loss: 0.2625 - val_acc: 0.9065\n",
      "Epoch 30/100\n",
      "79/79 [==============================] - 0s 1ms/step - loss: 0.1807 - acc: 0.9448 - val_loss: 0.2637 - val_acc: 0.9041\n",
      "Epoch 31/100\n",
      "79/79 [==============================] - 0s 1ms/step - loss: 0.1787 - acc: 0.9440 - val_loss: 0.2621 - val_acc: 0.9029\n",
      "Epoch 32/100\n",
      "79/79 [==============================] - 0s 1ms/step - loss: 0.1768 - acc: 0.9460 - val_loss: 0.2606 - val_acc: 0.9053\n",
      "Epoch 33/100\n",
      "79/79 [==============================] - 0s 1ms/step - loss: 0.1758 - acc: 0.9456 - val_loss: 0.2604 - val_acc: 0.9053\n",
      "Epoch 34/100\n",
      "79/79 [==============================] - 0s 1ms/step - loss: 0.1737 - acc: 0.9464 - val_loss: 0.2596 - val_acc: 0.9077\n",
      "Epoch 35/100\n",
      "79/79 [==============================] - 0s 1ms/step - loss: 0.1760 - acc: 0.9448 - val_loss: 0.2618 - val_acc: 0.9065\n",
      "Epoch 36/100\n",
      "79/79 [==============================] - 0s 1ms/step - loss: 0.1723 - acc: 0.9460 - val_loss: 0.2638 - val_acc: 0.9065\n",
      "Epoch 37/100\n",
      "79/79 [==============================] - 0s 1ms/step - loss: 0.1703 - acc: 0.9480 - val_loss: 0.2606 - val_acc: 0.9053\n",
      "Epoch 38/100\n",
      "79/79 [==============================] - 0s 1ms/step - loss: 0.1678 - acc: 0.9484 - val_loss: 0.2625 - val_acc: 0.9077\n",
      "Epoch 39/100\n",
      "79/79 [==============================] - 0s 1ms/step - loss: 0.1662 - acc: 0.9480 - val_loss: 0.2634 - val_acc: 0.9077\n",
      "Epoch 00039: early stopping\n"
     ]
    }
   ],
   "source": [
    "from tensorflow.keras.callbacks import EarlyStopping\n",
    "\n",
    "model_es = Sequential()\n",
    "\n",
    "n_input = X_train.shape[1]\n",
    "\n",
    "model_es.add(Dense(17, input_dim=n_input, activation='relu'))\n",
    "model_es.add(Dense(10, activation='relu'))\n",
    "model_es.add(Dense(1, activation='sigmoid'))\n",
    "\n",
    "model_es.compile(loss='bce', optimizer='adam', metrics=['acc'])\n",
    "\n",
    "early_stop = EarlyStopping(monitor='val_loss', min_delta=0, patience=5, verbose=1, mode='auto')\n",
    "\n",
    "history_es = model_es.fit(\n",
    "    X_train,\n",
    "    y_train,\n",
    "    validation_data=(X_test, y_test),\n",
    "    epochs=100,\n",
    "    batch_size=None,\n",
    "    callbacks=[early_stop]\n",
    ")"
   ]
  },
  {
   "cell_type": "code",
   "execution_count": 21,
   "metadata": {},
   "outputs": [
    {
     "data": {
      "image/png": "[encoded data removed]",
      "text/plain": [
       "<Figure size 864x576 with 1 Axes>"
      ]
     },
     "metadata": {
      "needs_background": "light"
     },
     "output_type": "display_data"
    }
   ],
   "source": [
    "train_loss_es = history_es.history['loss']\n",
    "test_loss_es = history_es.history['val_loss']\n",
    "plt.figure(figsize=(12, 8))\n",
    "plt.plot(train_loss, label='Training loss', color='violet')\n",
    "plt.plot(test_loss, label='Testing loss', color='lavender')\n",
    "plt.plot(train_loss_es, label='ES Training loss', color='navy')\n",
    "plt.plot(test_loss_es, label='ES Testing loss', color='skyblue')\n",
    "plt.legend();"
   ]
  },
  {
   "cell_type": "code",
   "execution_count": 22,
   "metadata": {},
   "outputs": [
    {
     "data": {
      "text/plain": [
       "(0.947979211807251, 0.9076738357543945)"
      ]
     },
     "execution_count": 22,
     "metadata": {},
     "output_type": "execute_result"
    }
   ],
   "source": [
    "history_es.history['acc'][-1], history_es.history['val_acc'][-1]"
   ]
  },
  {
   "cell_type": "markdown",
   "metadata": {},
   "source": [
    "## Keras Resources\n",
    "- [Keras EarlyStopping Documentation](https://keras.io/callbacks/#earlystopping)\n",
    "- [Keras EarlyStopping Example](http://parneetk.github.io/blog/neural-networks-in-keras/)\n",
    "\n",
    "## Tensorflow Resources\n",
    "- [Tensorflow.Keras.callbacks.EarlyStopping Documentation](https://www.tensorflow.org/api_docs/python/tf/keras/callbacks/EarlyStopping)"
   ]
  },
  {
   "cell_type": "markdown",
   "metadata": {},
   "source": [
    "# Optimization\n",
    "---\n",
    "Now we're going to talk about ways to speed up the process of optimization. Surprisingly, local optima are not often problems with neural networks; there's a much larger issue with \"plateaus,\" or areas where the derivative is approximately 0. This makes learning much slower.\n",
    "\n",
    "## Quick Fixes:\n",
    "1. **Feature Scaling:** As we've discussed before, feature scaling can speed up the process of gradient descent. Because gradient descent works \"geometrically,\" the scales of our $w$ values have a large impact on how quickly our parameters converge to the true value. Since we're working with many parameters (often 1,000 or more), scaling our features will speed up optimization.\n",
    "\n",
    "2. **Mini-batch Gradient Descent:** In `sklearn`, we use `.fit()` to estimate the parameters in our model. We do the same in neural networks, but if we're working with a very large data set (as is common in neural networks), passing data through our network will cause learning to be slow. By specifying a `batch_size` within the `.fit()` method, we can expedite our learning.\n",
    "    - `batch_size`: Integer or `None`. Number of samples per gradient update. If unspecified, it will default to 32.\n",
    "    \n",
    "**Note:** Mini batches will usually be a power of 2 (32, 64, 128, 256, 512) due to the fact that computers operate in base 2.\n",
    "\n",
    "- [Overview of the three types of gradient descent: batch, stochastic, mini-batch](https://machinelearningmastery.com/gentle-introduction-mini-batch-gradient-descent-configure-batch-size/)"
   ]
  },
  {
   "cell_type": "markdown",
   "metadata": {},
   "source": [
    "<a id='momentum'></a>\n",
    "## Gradient Descent with Momentum\n",
    "\n",
    "One problem we notice with mini-batch gradient descent compared to batch gradient descent is that it tends to oscillate more, due to the fact that at each iteration it is being fed less training data than batch gradient descent.\n",
    "\n",
    "![](../assets/grad-descent.png)\n",
    "![](../assets/mini-grad-descent.png)\n",
    "\n",
    "[*source*](http://pengcheng.tech/2017/09/28/gradient-descent-momentum-and-adam/)\n",
    "\n",
    "Ideally, we'd like to take advantage of the speed and memory efficiency of mini-batch gradient descent, without the oscillations. We can use the idea of **momentum** to help us out here. (Momentum is based on [exponentially weighted moving averages](https://www.compose.com/articles/metrics-maven-calculating-an-exponentially-weighted-moving-average-in-postgresql/), which causes our oscillations to largely cancel each other out.) \n",
    "\n",
    "Typically, when updating our parameters, we'll follow this formula:\n",
    "\n",
    "$$W = W -\\alpha\\frac{\\partial \\text{loss}}{\\partial W}$$  \n",
    "$$b = b - \\alpha\\frac{\\partial \\text{loss}}{\\partial b}$$\n",
    "\n",
    "We're going to modify this formula to this form:\n",
    "\n",
    "$$W = W -\\alpha V_{\\partial W}$$  \n",
    "$$b = b - \\alpha V_{\\partial b}$$\n",
    "\n",
    "Where \n",
    "$$V_{\\partial W} = \\beta V_{\\partial W - 1} + (1-\\beta)\\frac{\\partial \\text{loss}}{\\partial W}$$\n",
    "and\n",
    "$$V_{\\partial b} = \\beta V_{\\partial b - 1} + (1-\\beta)\\frac{\\partial \\text{loss}}{\\partial b}$$\n",
    "\n",
    "When implementing gradient descent with momentum, you'll have two hyperparameters, $\\alpha$ and $\\beta$. From a practical point of view, $\\beta$ is typically $0.9$, but you can test out other values if you'd like.\n",
    "\n",
    "### ADAM Optimization\n",
    "\n",
    "The optimization algorithm you'll likely use when implementing your feed-forward neural network is called ADAM (Adaptive Moment Estimation). It is a combination of gradient descent with momentum and another optimization method called RMSProp (Root Mean Square Propagation). For the sake of this lesson, we won't cover how ADAM works, but with gradient descent with momentum as building block, the ADAM optimization is not too far off, as it largely relies on the concept of momentum."
   ]
  },
  {
   "cell_type": "markdown",
   "metadata": {},
   "source": [
    "### Data Augmentation\n",
    "\n",
    "One method of minimizing the risk of overfitting is to gather more data. While this is usually very costly, we may sometimes be able to take our existing data to generate substantially more data.\n",
    "- Images: Reflect, crop, random rotations or distortions, adjust lighting.\n",
    "    - [The Effectiveness of Data Augmentation in Image Classification using Deep Learning](http://cs231n.stanford.edu/reports/2017/pdfs/300.pdf)\n",
    "- Non-Images: [SMOTE](https://machinelearningmastery.com/smote-oversampling-for-imbalanced-classification/) (Synthetic Minority Over-Sampling Technique)"
   ]
  },
  {
   "cell_type": "markdown",
   "metadata": {},
   "source": [
    "<a id='conclusion'></a>\n",
    "# Conclusion\n",
    "\n",
    "Today, we learned about three different methods of regularizing our neural networks: Regularization, dropout, and early stopping.\n",
    "\n",
    "## Machine Learning Workflow\n",
    "\n",
    "As promised, managing bias and variance takes a lot of our attention. If our bias or variance are high, it's likely that our model isn't performing as well as it could.\n",
    "\n",
    "A workflow for how you should address this (in the context of neural networks and beyond) is as follows:\n",
    "\n",
    "- Do we have high bias? (i.e. are we performing poorly on our training set?)\n",
    "    - If so:\n",
    "        - let's build a more complex model / bigger network!\n",
    "        - let's consider a new architecture for our neural network!\n",
    "        - let's train longer!\n",
    "- Do we have high variance? (i.e. are we performing poorly on our test/holdout set?)\n",
    "    - If so:\n",
    "        - let's gather more data!\n",
    "            - Usually very difficult, but we should use \"data augmentation\" if we can!\n",
    "        - let's build a simpler model / smaller network!\n",
    "        - let's consider a new architecture for our neural network!\n",
    "        - let's regularize!\n",
    "    - Once we're satisfied, return to the bias question and repeat.\n",
    "    \n",
    "**Note:** Before deep learning, most tools for handling high bias or high variance adversely affected the other. However, depending on the amount of data we have and how complex our network is, it's often the case that we can drastically reduce variance with out affecting bias.\n",
    "\n",
    "We also learned about Mini-batch Gradient Descent and Gradient Descent with Momentum. You will almost always work with mini batches. And when optimizing, you will generally use a method called Adam Optimization that is built on a combination of Gradient Descent with Momentum and another optimization technique called RMSProp.\n",
    "\n",
    "We also briefly discussed data augmentation as a method for increasing our sample sie.\n",
    "\n",
    "<a id='references'></a>\n",
    "## References and Resources:\n",
    "\n",
    "- [DeepLearning.ai](https://www.deeplearning.ai/), Andrew Ng's Coursera course on Deep Learning\n",
    "  - The videos from this course are on a [YouTube Channel](https://www.youtube.com/channel/UCcIXc5mJsHVYTZR1maL5l9w/featured)   \n",
    "<br>\n",
    "- [Deep Learning Book](http://www.deeplearningbook.org/), textbook written by Ian Goodfellow, creator of Generative Adversarial Networks (GANs)"
   ]
  }
 ],
 "metadata": {
  "kernelspec": {
   "display_name": "Python 3",
   "language": "python",
   "name": "python3"
  },
  "language_info": {
   "codemirror_mode": {
    "name": "ipython",
    "version": 3
   },
   "file_extension": ".py",
   "mimetype": "text/x-python",
   "name": "python",
   "nbconvert_exporter": "python",
   "pygments_lexer": "ipython3",
   "version": "3.8.2"
  },
  "varInspector": {
   "cols": {
    "lenName": 16,
    "lenType": 16,
    "lenVar": 40
   },
   "kernels_config": {
    "python": {
     "delete_cmd_postfix": "",
     "delete_cmd_prefix": "del ",
     "library": "var_list.py",
     "varRefreshCmd": "print(var_dic_list())"
    },
    "r": {
     "delete_cmd_postfix": ") ",
     "delete_cmd_prefix": "rm(",
     "library": "var_list.r",
     "varRefreshCmd": "cat(var_dic_list()) "
    }
   },
   "types_to_exclude": [
    "module",
    "function",
    "builtin_function_or_method",
    "instance",
    "_Feature"
   ],
   "window_display": false
  }
 },
 "nbformat": 4,
 "nbformat_minor": 4
}
